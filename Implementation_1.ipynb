{
 "cells": [
  {
   "cell_type": "markdown",
   "metadata": {},
   "source": [
    "# Algorithm 1"
   ]
  },
  {
   "cell_type": "code",
   "execution_count": 1,
   "metadata": {},
   "outputs": [],
   "source": [
    "import scipy.stats\n",
    "import numpy as np\n",
    "import matplotlib.pyplot as plt\n",
    "from matplotlib import animation, rc\n",
    "from IPython.display import HTML\n",
    "import pandas as pd\n",
    "import seaborn as sns\n",
    "import itertools"
   ]
  },
  {
   "cell_type": "markdown",
   "metadata": {},
   "source": [
    "# Implement the algorithm"
   ]
  },
  {
   "cell_type": "code",
   "execution_count": 2,
   "metadata": {},
   "outputs": [],
   "source": [
    "def sigmoid(a):\n",
    "    return 1 / (1 + np.exp(-a))"
   ]
  },
  {
   "cell_type": "code",
   "execution_count": 3,
   "metadata": {},
   "outputs": [],
   "source": [
    "class Algorithm:\n",
    "    \n",
    "    def __init__(self, N=20, M=10, t_1=10, epsilon=1, epsilon_0=1, beta=1, k=0.5, rho=3, d=1, theta_star=0):\n",
    "        # Set up the parameters for future runs\n",
    "        self.N = N\n",
    "        self.M = M\n",
    "        self.t_1 = t_1\n",
    "        self.epsilon = epsilon\n",
    "        self.epsilon_0 = epsilon_0\n",
    "        self.beta = beta\n",
    "        self.k = k\n",
    "        self.rho = rho\n",
    "        self.d = 1\n",
    "        self.N_tilde = N + M\n",
    "        self.X_tilde = (N, M, k, beta)\n",
    "        self.t_0 = 0\n",
    "        self.c_0 = 1\n",
    "        \n",
    "        \n",
    "    def f(self, param, y, scale, variable):\n",
    "        return scipy.stats.norm.pdf(y, loc = param, scale = scale)\n",
    "        return sigmoid(np.dot(variable, param))[0]\n",
    "    \n",
    "    def G_tilde(self, t_p, nu, w_tilde):\n",
    "        i = np.argmax(w_tilde)\n",
    "        return nu[i]\n",
    "\n",
    "    def G(self, t_p, teta, w):\n",
    "        return sum([teta[i] * w[i] for i in range(len(teta))]) / sum(w)\n",
    "    \n",
    "    def F_tilde(self, nu_bar, epsilon_p=0, X_bar=0, t_p=0):\n",
    "        return np.linspace(nu_bar - 350 * epsilon_p / self.K_(self.N_tilde), nu_bar + 350 * epsilon_p / self.K_(self.N_tilde), num=self.N_tilde) # change for larger dimension\n",
    "\n",
    "    def F(self, nu_bar, xi_p=0, X_bar=0, t_p=0):\n",
    "        return np.linspace(nu_bar - 350 * xi_p / self.K_(self.N), nu_bar + 350 * xi_p / self.K_(self.N), num=self.N)\n",
    "    \n",
    "    def t_(self, p, former_t_p):\n",
    "        return former_t_p + max(int((self.k**(-2) - 1) * former_t_p) + 1, self.t_1)\n",
    "\n",
    "    def epsilon_(self, p):\n",
    "        # d ?\n",
    "        return self.epsilon_0 * min(1, (p**(-1) * self.rho * np.log(p + 1))**(1 / (self.d + self.beta)))\n",
    "\n",
    "    def c_(self, p):\n",
    "        if p==0:\n",
    "            return 1\n",
    "        return min(((1 + self.k) / (2 * self.k))**p, p**((1 + self.epsilon) / 2))\n",
    "\n",
    "    def K_(self, N):\n",
    "        k = 1\n",
    "        while k**self.d <= self.N:\n",
    "            k += 1\n",
    "        return k - 1\n",
    "    \n",
    "    \n",
    "    def plot(self, time_interval, theta_star, scale, observation, theta, w, fig):\n",
    "        # plot the real law\n",
    "        x_density = np.linspace(-100,100,100) \n",
    "        y_density = 15 * sigmoid(np.dot(x_density, theta_star))[0]\n",
    "        plt.clf()\n",
    "        #plt.plot(x_density, y_density) #plot real density function\n",
    "        plt.scatter(theta, np.zeros(self.N), c=\"red\")\n",
    "        #plt.scatter([observation], [15 * scipy.stats.norm.pdf(observation, loc=theta_star, scale=scale)], marker=\"*\") # plot observation\n",
    "\n",
    "        plt.bar(theta, w)\n",
    "        fig.canvas.draw()\n",
    "        plt.pause(time_interval)\n",
    "        \n",
    "    def bayes_update(self, distrib, support, f, scale, observation, variable):\n",
    "        distrib = [distrib[i] * self.f(support[i], observation, scale=scale, variable=variable) for i in range(len(support))]\n",
    "        sum_distrib = np.sum(distrib)\n",
    "        distrib = [distrib[i] / sum_distrib for i in range(len(support))] # normalize\n",
    "        \n",
    "        return distrib\n",
    "\n",
    "\n",
    "\n",
    "    \n",
    "    def animate_pi_without_support(self, nb_iterations=10000, time_interval=0.001, theta_star=0, scale=20):\n",
    "        fig = plt.figure()\n",
    "        ax = fig.add_subplot(111)\n",
    "        #Initialize\n",
    "        theta = np.random.uniform(-100, 100, self.N)\n",
    "        nu = np.random.uniform(-100, 100, self.N + self.M)\n",
    "        Y = np.random.normal(theta_star, scale, nb_iterations)\n",
    "        w = (1/self.N) * np.ones(self.N)\n",
    "        w_tilde = (1/self.N_tilde) * np.ones(self.N_tilde)\n",
    "    \n",
    "        t_p = self.t_1\n",
    "        xi = 1\n",
    "        p = 1\n",
    "        q = 0\n",
    "        for t in range(1, nb_iterations):\n",
    "            if t == t_p + 1:\n",
    "                # Perturbation\n",
    "                print(\"PERTURBATION\")\n",
    "                theta_bar = self.G(t_p, theta, w)\n",
    "                q += 1\n",
    "                xi = self.k * (self.c_(q) / self.c_(q - 1)) * xi\n",
    "                theta_hat = theta_bar\n",
    "                theta = self.F(theta_hat, xi)\n",
    "                w = np.ones(self.N)\n",
    "                p += 1\n",
    "                t_p = self.t_(p, t_p)\n",
    "                \n",
    "\n",
    "        ########## plotting\n",
    "            if t % 10 == 0:\n",
    "                self.plot(time_interval, theta_star, scale, observation = Y[t], theta=theta, w=w, fig=fig)\n",
    "\n",
    "            ## Bayes updates\n",
    "            w = self.bayes_update(w, theta, self.f, scale, Y[t])\n",
    "            \n",
    "    def animate_pi(self, nb_iterations=10000, time_interval=0.001, theta_star=0, scale=20):\n",
    "        fig = plt.figure()\n",
    "        ax = fig.add_subplot(111)\n",
    "        #Initialize\n",
    "        theta = np.random.uniform(-100, 100, self.N)\n",
    "        nu = np.random.uniform(-100, 100, self.N + self.M)\n",
    "        X = np.random.randn(nb_iterations, 1)\n",
    "        probas = sigmoid(np.dot(X, theta_star))\n",
    "        Y = np.array([np.random.binomial(1, proba) for proba in probas])\n",
    "        #Y = np.random.normal(theta_star, scale, nb_iterations)\n",
    "        w = (1/self.N) * np.ones(self.N)\n",
    "        w_tilde = (1/self.N_tilde) * np.ones(self.N_tilde)\n",
    "    \n",
    "        t_p = self.t_1\n",
    "        xi = 1\n",
    "        p = 1\n",
    "        q = 0\n",
    "        for t in range(1, nb_iterations):\n",
    "            if t == t_p + 1:\n",
    "                # Perturbation\n",
    "                print(\"PERTURBATION\")\n",
    "                theta_bar = self.G(t_p, theta, w)\n",
    "                nu_bar = self.G_tilde(t_p, nu, w_tilde)\n",
    "                if (theta_bar - nu_bar) <= 2 * self.epsilon_(p):\n",
    "                    q += 1\n",
    "                    xi = self.k * (self.c_(q) / self.c_(q - 1)) * xi\n",
    "                    theta_hat = theta_bar\n",
    "                else:\n",
    "                    q = 1\n",
    "                    xi = self.epsilon_(p)\n",
    "                    theta_hat = nu_bar\n",
    "                theta = self.F(theta_hat, xi)\n",
    "                nu = self.F_tilde(nu_bar, self.epsilon_(p))\n",
    "                w = np.ones(self.N)\n",
    "                w_tilde = np.ones(self.N_tilde)\n",
    "                p += 1\n",
    "                t_p = self.t_(p, t_p)\n",
    "        \n",
    "    \n",
    "        ########## plotting\n",
    "            if t % 10 == 0:\n",
    "                self.plot(time_interval, theta_star, scale, observation = Y[t], theta=theta, w=w, fig=fig)\n",
    "\n",
    "            ## Bayes updates\n",
    "            w = self.bayes_update(w, theta, self.f, scale, Y[t], X[t])\n",
    "            w_tilde = self.bayes_update(w_tilde, nu, self.f, scale, Y[t], X[t])\n",
    "\n",
    "\n",
    "    \n",
    "    def run_without_aux(self, nb_iterations, theta_star=0, scale=20):\n",
    "        #Initialize\n",
    "        theta = np.random.uniform(-100, 100, self.N)\n",
    "        nu = np.random.uniform(-100, 100, self.N + self.M)\n",
    "        Y = np.random.normal(theta_star, scale, nb_iterations)\n",
    "        w = (1/self.N) * np.ones(self.N)\n",
    "        w_tilde = (1/self.N_tilde) * np.ones(self.N_tilde)\n",
    "    \n",
    "        t_p = self.t_1\n",
    "        xi = 1\n",
    "        p = 1\n",
    "        q = 0\n",
    "        \n",
    "        list_of_support = []\n",
    "        list_of_distrib = []\n",
    "        \n",
    "        for t in range(1, nb_iterations):\n",
    "            if t == t_p + 1:\n",
    "                # Perturbation\n",
    "                theta_bar = self.G(t_p, theta, w)\n",
    "                q += 1\n",
    "                xi = self.k * (self.c_(q) / self.c_(q - 1)) * xi\n",
    "                theta_hat = theta_bar\n",
    "                theta = self.F(theta_hat, xi)\n",
    "                w = np.ones(self.N)\n",
    "                p += 1\n",
    "                t_p = self.t_(p, t_p)\n",
    "                \n",
    "\n",
    "\n",
    "            ## Bayes updates\n",
    "            w = self.bayes_update(w, theta, self.f, scale, Y[t])\n",
    "            list_of_distrib.append(w)\n",
    "            list_of_support.append(theta)\n",
    "            \n",
    "        \n",
    "        return list_of_support, list_of_distrib\n",
    "    \n",
    "    def run(self, nb_iterations, theta_star=0, scale=20):\n",
    "        #Initialize\n",
    "        theta = np.random.uniform(-100, 100, self.N)\n",
    "        nu = np.random.uniform(-100, 100, self.N + self.M)\n",
    "        X = np.random.randn(nb_iterations, 1)\n",
    "        probas = sigmoid(np.dot(X, theta_star))\n",
    "        Y = np.array([np.random.binomial(1, proba) for proba in probas])\n",
    "        #Y = np.random.normal(theta_star, scale, nb_iterations)\n",
    "        w = (1/self.N) * np.ones(self.N)\n",
    "        w_tilde = (1/self.N_tilde) * np.ones(self.N_tilde)\n",
    "    \n",
    "        list_of_support = []\n",
    "        list_of_distrib = []\n",
    "        t_p = self.t_1\n",
    "        xi = 1\n",
    "        p = 1\n",
    "        q = 0\n",
    "        for t in range(1, nb_iterations):\n",
    "            if t == t_p + 1:\n",
    "                # Perturbation\n",
    "                print(\"PERTURBATION\")\n",
    "                theta_bar = self.G(t_p, theta, w)\n",
    "                nu_bar = self.G_tilde(t_p, nu, w_tilde)\n",
    "                if (theta_bar - nu_bar) <= 2 * self.epsilon_(p):\n",
    "                    q += 1\n",
    "                    xi = self.k * (self.c_(q) / self.c_(q - 1)) * xi\n",
    "                    theta_hat = theta_bar\n",
    "                else:\n",
    "                    q = 1\n",
    "                    xi = self.epsilon_(p)\n",
    "                    theta_hat = nu_bar\n",
    "                theta = self.F(theta_hat, xi)\n",
    "                nu = self.F_tilde(nu_bar, self.epsilon_(p))\n",
    "                w = np.ones(self.N)\n",
    "                w_tilde = np.ones(self.N_tilde)\n",
    "                p += 1\n",
    "                t_p = self.t_(p, t_p)\n",
    "\n",
    "\n",
    "            ## Bayes updates\n",
    "            w = self.bayes_update(w, theta, self.f, scale, Y[t], X[t])\n",
    "            w_tilde = self.bayes_update(w_tilde, nu, self.f, scale, Y[t], X[t])\n",
    "            list_of_distrib.append(w)\n",
    "            list_of_support.append(theta)\n",
    "        \n",
    "        return list_of_support, list_of_distrib\n",
    "\n",
    "\n",
    "    \n",
    "    \n",
    "    \n",
    "        "
   ]
  },
  {
   "cell_type": "markdown",
   "metadata": {},
   "source": [
    "# Animations"
   ]
  },
  {
   "cell_type": "code",
   "execution_count": 6,
   "metadata": {},
   "outputs": [],
   "source": [
    "%matplotlib inline"
   ]
  },
  {
   "cell_type": "code",
   "execution_count": 7,
   "metadata": {},
   "outputs": [],
   "source": [
    "test = Algorithm()"
   ]
  },
  {
   "cell_type": "code",
   "execution_count": 276,
   "metadata": {},
   "outputs": [
    {
     "name": "stdout",
     "output_type": "stream",
     "text": [
      "Using matplotlib backend: MacOSX\n",
      "PERTURBATION\n",
      "PERTURBATION\n",
      "PERTURBATION\n",
      "PERTURBATION\n",
      "PERTURBATION\n"
     ]
    },
    {
     "ename": "KeyboardInterrupt",
     "evalue": "",
     "output_type": "error",
     "traceback": [
      "\u001b[0;31m---------------------------------------------------------------------------\u001b[0m",
      "\u001b[0;31mKeyboardInterrupt\u001b[0m                         Traceback (most recent call last)",
      "\u001b[0;32m<ipython-input-276-ee7b02e9eef1>\u001b[0m in \u001b[0;36m<module>\u001b[0;34m()\u001b[0m\n\u001b[1;32m      1\u001b[0m \u001b[0mget_ipython\u001b[0m\u001b[0;34m(\u001b[0m\u001b[0;34m)\u001b[0m\u001b[0;34m.\u001b[0m\u001b[0mrun_line_magic\u001b[0m\u001b[0;34m(\u001b[0m\u001b[0;34m'matplotlib'\u001b[0m\u001b[0;34m,\u001b[0m \u001b[0;34m''\u001b[0m\u001b[0;34m)\u001b[0m\u001b[0;34m\u001b[0m\u001b[0m\n\u001b[0;32m----> 2\u001b[0;31m \u001b[0mtest\u001b[0m\u001b[0;34m.\u001b[0m\u001b[0manimate_pi\u001b[0m\u001b[0;34m(\u001b[0m\u001b[0mtheta_star\u001b[0m\u001b[0;34m=\u001b[0m\u001b[0;36m0\u001b[0m\u001b[0;34m)\u001b[0m\u001b[0;34m\u001b[0m\u001b[0m\n\u001b[0m",
      "\u001b[0;32m<ipython-input-273-a3611f760cde>\u001b[0m in \u001b[0;36manimate_pi\u001b[0;34m(self, nb_iterations, time_interval, theta_star, scale)\u001b[0m\n\u001b[1;32m    153\u001b[0m         \u001b[0;31m########## plotting\u001b[0m\u001b[0;34m\u001b[0m\u001b[0;34m\u001b[0m\u001b[0m\n\u001b[1;32m    154\u001b[0m             \u001b[0;32mif\u001b[0m \u001b[0mt\u001b[0m \u001b[0;34m%\u001b[0m \u001b[0;36m10\u001b[0m \u001b[0;34m==\u001b[0m \u001b[0;36m0\u001b[0m\u001b[0;34m:\u001b[0m\u001b[0;34m\u001b[0m\u001b[0m\n\u001b[0;32m--> 155\u001b[0;31m                 \u001b[0mself\u001b[0m\u001b[0;34m.\u001b[0m\u001b[0mplot\u001b[0m\u001b[0;34m(\u001b[0m\u001b[0mtime_interval\u001b[0m\u001b[0;34m,\u001b[0m \u001b[0mtheta_star\u001b[0m\u001b[0;34m,\u001b[0m \u001b[0mscale\u001b[0m\u001b[0;34m,\u001b[0m \u001b[0mobservation\u001b[0m \u001b[0;34m=\u001b[0m \u001b[0mY\u001b[0m\u001b[0;34m[\u001b[0m\u001b[0mt\u001b[0m\u001b[0;34m]\u001b[0m\u001b[0;34m,\u001b[0m \u001b[0mtheta\u001b[0m\u001b[0;34m=\u001b[0m\u001b[0mtheta\u001b[0m\u001b[0;34m,\u001b[0m \u001b[0mw\u001b[0m\u001b[0;34m=\u001b[0m\u001b[0mw\u001b[0m\u001b[0;34m,\u001b[0m \u001b[0mfig\u001b[0m\u001b[0;34m=\u001b[0m\u001b[0mfig\u001b[0m\u001b[0;34m)\u001b[0m\u001b[0;34m\u001b[0m\u001b[0m\n\u001b[0m\u001b[1;32m    156\u001b[0m \u001b[0;34m\u001b[0m\u001b[0m\n\u001b[1;32m    157\u001b[0m             \u001b[0;31m## Bayes updates\u001b[0m\u001b[0;34m\u001b[0m\u001b[0;34m\u001b[0m\u001b[0m\n",
      "\u001b[0;32m<ipython-input-273-a3611f760cde>\u001b[0m in \u001b[0;36mplot\u001b[0;34m(self, time_interval, theta_star, scale, observation, theta, w, fig)\u001b[0m\n\u001b[1;32m     65\u001b[0m         \u001b[0mplt\u001b[0m\u001b[0;34m.\u001b[0m\u001b[0mbar\u001b[0m\u001b[0;34m(\u001b[0m\u001b[0mtheta\u001b[0m\u001b[0;34m,\u001b[0m \u001b[0mw\u001b[0m\u001b[0;34m)\u001b[0m\u001b[0;34m\u001b[0m\u001b[0m\n\u001b[1;32m     66\u001b[0m         \u001b[0mfig\u001b[0m\u001b[0;34m.\u001b[0m\u001b[0mcanvas\u001b[0m\u001b[0;34m.\u001b[0m\u001b[0mdraw\u001b[0m\u001b[0;34m(\u001b[0m\u001b[0;34m)\u001b[0m\u001b[0;34m\u001b[0m\u001b[0m\n\u001b[0;32m---> 67\u001b[0;31m         \u001b[0mplt\u001b[0m\u001b[0;34m.\u001b[0m\u001b[0mpause\u001b[0m\u001b[0;34m(\u001b[0m\u001b[0mtime_interval\u001b[0m\u001b[0;34m)\u001b[0m\u001b[0;34m\u001b[0m\u001b[0m\n\u001b[0m\u001b[1;32m     68\u001b[0m \u001b[0;34m\u001b[0m\u001b[0m\n\u001b[1;32m     69\u001b[0m     \u001b[0;32mdef\u001b[0m \u001b[0mbayes_update\u001b[0m\u001b[0;34m(\u001b[0m\u001b[0mself\u001b[0m\u001b[0;34m,\u001b[0m \u001b[0mdistrib\u001b[0m\u001b[0;34m,\u001b[0m \u001b[0msupport\u001b[0m\u001b[0;34m,\u001b[0m \u001b[0mf\u001b[0m\u001b[0;34m,\u001b[0m \u001b[0mscale\u001b[0m\u001b[0;34m,\u001b[0m \u001b[0mobservation\u001b[0m\u001b[0;34m,\u001b[0m \u001b[0mvariable\u001b[0m\u001b[0;34m)\u001b[0m\u001b[0;34m:\u001b[0m\u001b[0;34m\u001b[0m\u001b[0m\n",
      "\u001b[0;32m~/anaconda/envs/modal/lib/python3.7/site-packages/matplotlib/pyplot.py\u001b[0m in \u001b[0;36mpause\u001b[0;34m(interval)\u001b[0m\n\u001b[1;32m    294\u001b[0m             \u001b[0mcanvas\u001b[0m\u001b[0;34m.\u001b[0m\u001b[0mdraw_idle\u001b[0m\u001b[0;34m(\u001b[0m\u001b[0;34m)\u001b[0m\u001b[0;34m\u001b[0m\u001b[0m\n\u001b[1;32m    295\u001b[0m         \u001b[0mshow\u001b[0m\u001b[0;34m(\u001b[0m\u001b[0mblock\u001b[0m\u001b[0;34m=\u001b[0m\u001b[0;32mFalse\u001b[0m\u001b[0;34m)\u001b[0m\u001b[0;34m\u001b[0m\u001b[0m\n\u001b[0;32m--> 296\u001b[0;31m         \u001b[0mcanvas\u001b[0m\u001b[0;34m.\u001b[0m\u001b[0mstart_event_loop\u001b[0m\u001b[0;34m(\u001b[0m\u001b[0minterval\u001b[0m\u001b[0;34m)\u001b[0m\u001b[0;34m\u001b[0m\u001b[0m\n\u001b[0m\u001b[1;32m    297\u001b[0m     \u001b[0;32melse\u001b[0m\u001b[0;34m:\u001b[0m\u001b[0;34m\u001b[0m\u001b[0m\n\u001b[1;32m    298\u001b[0m         \u001b[0mtime\u001b[0m\u001b[0;34m.\u001b[0m\u001b[0msleep\u001b[0m\u001b[0;34m(\u001b[0m\u001b[0minterval\u001b[0m\u001b[0;34m)\u001b[0m\u001b[0;34m\u001b[0m\u001b[0m\n",
      "\u001b[0;31mKeyboardInterrupt\u001b[0m: "
     ]
    }
   ],
   "source": [
    "%matplotlib\n",
    "test.animate_pi(theta_star=0)"
   ]
  },
  {
   "cell_type": "code",
   "execution_count": 8,
   "metadata": {},
   "outputs": [
    {
     "name": "stdout",
     "output_type": "stream",
     "text": [
      "Using matplotlib backend: MacOSX\n"
     ]
    },
    {
     "ename": "TypeError",
     "evalue": "bayes_update() missing 1 required positional argument: 'variable'",
     "output_type": "error",
     "traceback": [
      "\u001b[0;31m---------------------------------------------------------------------------\u001b[0m",
      "\u001b[0;31mTypeError\u001b[0m                                 Traceback (most recent call last)",
      "\u001b[0;32m<ipython-input-8-f0c50d09391b>\u001b[0m in \u001b[0;36m<module>\u001b[0;34m()\u001b[0m\n\u001b[1;32m      1\u001b[0m \u001b[0mget_ipython\u001b[0m\u001b[0;34m(\u001b[0m\u001b[0;34m)\u001b[0m\u001b[0;34m.\u001b[0m\u001b[0mrun_line_magic\u001b[0m\u001b[0;34m(\u001b[0m\u001b[0;34m'matplotlib'\u001b[0m\u001b[0;34m,\u001b[0m \u001b[0;34m''\u001b[0m\u001b[0;34m)\u001b[0m\u001b[0;34m\u001b[0m\u001b[0m\n\u001b[0;32m----> 2\u001b[0;31m \u001b[0mtest\u001b[0m\u001b[0;34m.\u001b[0m\u001b[0manimate_pi_without_support\u001b[0m\u001b[0;34m(\u001b[0m\u001b[0;34m)\u001b[0m\u001b[0;34m\u001b[0m\u001b[0m\n\u001b[0m",
      "\u001b[0;32m<ipython-input-3-a864ac1e9ce4>\u001b[0m in \u001b[0;36manimate_pi_without_support\u001b[0;34m(self, nb_iterations, time_interval, theta_star, scale)\u001b[0m\n\u001b[1;32m    110\u001b[0m \u001b[0;34m\u001b[0m\u001b[0m\n\u001b[1;32m    111\u001b[0m             \u001b[0;31m## Bayes updates\u001b[0m\u001b[0;34m\u001b[0m\u001b[0;34m\u001b[0m\u001b[0m\n\u001b[0;32m--> 112\u001b[0;31m             \u001b[0mw\u001b[0m \u001b[0;34m=\u001b[0m \u001b[0mself\u001b[0m\u001b[0;34m.\u001b[0m\u001b[0mbayes_update\u001b[0m\u001b[0;34m(\u001b[0m\u001b[0mw\u001b[0m\u001b[0;34m,\u001b[0m \u001b[0mtheta\u001b[0m\u001b[0;34m,\u001b[0m \u001b[0mself\u001b[0m\u001b[0;34m.\u001b[0m\u001b[0mf\u001b[0m\u001b[0;34m,\u001b[0m \u001b[0mscale\u001b[0m\u001b[0;34m,\u001b[0m \u001b[0mY\u001b[0m\u001b[0;34m[\u001b[0m\u001b[0mt\u001b[0m\u001b[0;34m]\u001b[0m\u001b[0;34m)\u001b[0m\u001b[0;34m\u001b[0m\u001b[0m\n\u001b[0m\u001b[1;32m    113\u001b[0m \u001b[0;34m\u001b[0m\u001b[0m\n\u001b[1;32m    114\u001b[0m     \u001b[0;32mdef\u001b[0m \u001b[0manimate_pi\u001b[0m\u001b[0;34m(\u001b[0m\u001b[0mself\u001b[0m\u001b[0;34m,\u001b[0m \u001b[0mnb_iterations\u001b[0m\u001b[0;34m=\u001b[0m\u001b[0;36m10000\u001b[0m\u001b[0;34m,\u001b[0m \u001b[0mtime_interval\u001b[0m\u001b[0;34m=\u001b[0m\u001b[0;36m0.001\u001b[0m\u001b[0;34m,\u001b[0m \u001b[0mtheta_star\u001b[0m\u001b[0;34m=\u001b[0m\u001b[0;36m0\u001b[0m\u001b[0;34m,\u001b[0m \u001b[0mscale\u001b[0m\u001b[0;34m=\u001b[0m\u001b[0;36m20\u001b[0m\u001b[0;34m)\u001b[0m\u001b[0;34m:\u001b[0m\u001b[0;34m\u001b[0m\u001b[0m\n",
      "\u001b[0;31mTypeError\u001b[0m: bayes_update() missing 1 required positional argument: 'variable'"
     ]
    }
   ],
   "source": [
    "%matplotlib\n",
    "test.animate_pi_without_support()"
   ]
  },
  {
   "cell_type": "markdown",
   "metadata": {},
   "source": [
    "# Convergence rates"
   ]
  },
  {
   "cell_type": "markdown",
   "metadata": {},
   "source": [
    "## Wasserstein"
   ]
  },
  {
   "cell_type": "code",
   "execution_count": 4,
   "metadata": {},
   "outputs": [],
   "source": [
    "def wassertein(alg, nb_tests, nb_iterations, theta_star=0, aux=True):\n",
    "    df = pd.DataFrame(columns=[\"n\", \"distance\"])\n",
    "\n",
    "    for _ in range(nb_tests):\n",
    "        if aux:\n",
    "            list_of_support, list_of_distrib = alg.run(nb_iterations, theta_star)\n",
    "        else:\n",
    "            list_of_support, list_of_distrib = alg.run_without_aux(nb_iterations, theta_star)\n",
    "\n",
    "\n",
    "        list_of_distances = [scipy.stats.wasserstein_distance(list_of_support[i], [theta_star], list_of_distrib[i], [1]) for i in range(len(list_of_support))]\n",
    "        new_df = pd.DataFrame(columns=[\"n\", \"distance\"])\n",
    "        new_df[\"distance\"] = np.array(list_of_distances)\n",
    "        new_df[\"n\"] = np.array([i for i in range(len(list_of_distances))])\n",
    "        df = pd.concat([df, new_df])\n",
    "\n",
    "    return df\n",
    "        "
   ]
  },
  {
   "cell_type": "code",
   "execution_count": 10,
   "metadata": {},
   "outputs": [],
   "source": [
    "alg = Algorithm()"
   ]
  },
  {
   "cell_type": "code",
   "execution_count": 11,
   "metadata": {},
   "outputs": [
    {
     "name": "stdout",
     "output_type": "stream",
     "text": [
      "PERTURBATION\n",
      "PERTURBATION\n",
      "PERTURBATION\n",
      "PERTURBATION\n"
     ]
    }
   ],
   "source": [
    "df = wassertein(alg, 1, 1000, 0)"
   ]
  },
  {
   "cell_type": "code",
   "execution_count": 12,
   "metadata": {},
   "outputs": [
    {
     "name": "stderr",
     "output_type": "stream",
     "text": [
      "/Users/anne/anaconda/envs/modal/lib/python3.7/site-packages/ipykernel_launcher.py:3: RuntimeWarning: divide by zero encountered in double_scalars\n",
      "  This is separate from the ipykernel package so we can avoid doing imports until\n"
     ]
    }
   ],
   "source": [
    "df_sqrt = pd.DataFrame(columns=[\"n\", \"distance\"])\n",
    "df_sqrt[\"n\"] = np.unique(df[\"n\"])\n",
    "df_sqrt[\"distance\"] = [df[\"distance\"].iloc[0]/np.sqrt(i) for i in range(len(df_sqrt))]"
   ]
  },
  {
   "cell_type": "code",
   "execution_count": 13,
   "metadata": {},
   "outputs": [
    {
     "name": "stderr",
     "output_type": "stream",
     "text": [
      "/Users/anne/anaconda/envs/modal/lib/python3.7/site-packages/ipykernel_launcher.py:3: RuntimeWarning: divide by zero encountered in log\n",
      "  This is separate from the ipykernel package so we can avoid doing imports until\n"
     ]
    }
   ],
   "source": [
    "df_log = pd.DataFrame(columns=[\"n\", \"distance\"])\n",
    "df_log[\"n\"] = np.unique(df[\"n\"])\n",
    "df_log[\"distance\"] = [df[\"distance\"].iloc[0] * np.log(i)**((1 + alg.epsilon)/2) / np.sqrt(i) for i in range(len(df_log))]"
   ]
  },
  {
   "cell_type": "code",
   "execution_count": 14,
   "metadata": {},
   "outputs": [
    {
     "data": {
      "text/plain": [
       "<matplotlib.axes._subplots.AxesSubplot at 0x1a16fc2d68>"
      ]
     },
     "execution_count": 14,
     "metadata": {},
     "output_type": "execute_result"
    },
    {
     "data": {
      "image/png": "[encoded data removed]",
      "text/plain": [
       "<Figure size 432x288 with 1 Axes>"
      ]
     },
     "metadata": {
      "needs_background": "light"
     },
     "output_type": "display_data"
    }
   ],
   "source": [
    "sns.lineplot(x=\"n\", y=\"distance\", data=df)\n",
    "sns.lineplot(x=\"n\", y=\"distance\", data=df_sqrt)\n",
    "sns.lineplot(x=\"n\", y=\"distance\", data=df_log)\n"
   ]
  },
  {
   "cell_type": "code",
   "execution_count": null,
   "metadata": {},
   "outputs": [],
   "source": []
  },
  {
   "cell_type": "code",
   "execution_count": null,
   "metadata": {},
   "outputs": [],
   "source": []
  },
  {
   "cell_type": "code",
   "execution_count": null,
   "metadata": {},
   "outputs": [],
   "source": []
  },
  {
   "cell_type": "code",
   "execution_count": null,
   "metadata": {},
   "outputs": [],
   "source": []
  },
  {
   "cell_type": "code",
   "execution_count": null,
   "metadata": {},
   "outputs": [],
   "source": []
  },
  {
   "cell_type": "code",
   "execution_count": null,
   "metadata": {},
   "outputs": [],
   "source": []
  },
  {
   "cell_type": "code",
   "execution_count": null,
   "metadata": {},
   "outputs": [],
   "source": []
  },
  {
   "cell_type": "code",
   "execution_count": 10,
   "metadata": {},
   "outputs": [
    {
     "name": "stdout",
     "output_type": "stream",
     "text": [
      "PERTURBATION\n",
      "PERTURBATION\n",
      "PERTURBATION\n",
      "PERTURBATION\n",
      "PERTURBATION\n"
     ]
    }
   ],
   "source": [
    "df = wassertein(alg, 1, 10000, 0)"
   ]
  },
  {
   "cell_type": "code",
   "execution_count": 11,
   "metadata": {},
   "outputs": [
    {
     "name": "stderr",
     "output_type": "stream",
     "text": [
      "/Users/anne/anaconda/envs/modal/lib/python3.7/site-packages/ipykernel_launcher.py:3: RuntimeWarning: divide by zero encountered in double_scalars\n",
      "  This is separate from the ipykernel package so we can avoid doing imports until\n"
     ]
    }
   ],
   "source": [
    "df_sqrt = pd.DataFrame(columns=[\"n\", \"distance\"])\n",
    "df_sqrt[\"n\"] = np.unique(df[\"n\"])\n",
    "df_sqrt[\"distance\"] = [df[\"distance\"].iloc[0]/np.sqrt(i) for i in range(len(df_sqrt))]"
   ]
  },
  {
   "cell_type": "code",
   "execution_count": 12,
   "metadata": {},
   "outputs": [
    {
     "name": "stderr",
     "output_type": "stream",
     "text": [
      "/Users/anne/anaconda/envs/modal/lib/python3.7/site-packages/ipykernel_launcher.py:3: RuntimeWarning: divide by zero encountered in log\n",
      "  This is separate from the ipykernel package so we can avoid doing imports until\n"
     ]
    }
   ],
   "source": [
    "df_log = pd.DataFrame(columns=[\"n\", \"distance\"])\n",
    "df_log[\"n\"] = np.unique(df[\"n\"])\n",
    "df_log[\"distance\"] = [df[\"distance\"].iloc[0] * np.log(i)**((1 + alg.epsilon)/2) / np.sqrt(i) for i in range(len(df_log))]"
   ]
  },
  {
   "cell_type": "code",
   "execution_count": 13,
   "metadata": {},
   "outputs": [
    {
     "data": {
      "text/plain": [
       "<matplotlib.axes._subplots.AxesSubplot at 0x1a15fc64a8>"
      ]
     },
     "execution_count": 13,
     "metadata": {},
     "output_type": "execute_result"
    },
    {
     "data": {
      "image/png": "[encoded data removed]",
      "text/plain": [
       "<Figure size 432x288 with 1 Axes>"
      ]
     },
     "metadata": {
      "needs_background": "light"
     },
     "output_type": "display_data"
    }
   ],
   "source": [
    "sns.lineplot(x=\"n\", y=\"distance\", data=df)\n",
    "sns.lineplot(x=\"n\", y=\"distance\", data=df_sqrt)\n",
    "sns.lineplot(x=\"n\", y=\"distance\", data=df_log)\n"
   ]
  },
  {
   "cell_type": "code",
   "execution_count": 74,
   "metadata": {},
   "outputs": [],
   "source": [
    "alg3 = Algorithm()"
   ]
  },
  {
   "cell_type": "code",
   "execution_count": 75,
   "metadata": {},
   "outputs": [],
   "source": [
    "df = wassertein(alg, 1, 10000, 0, aux=False)"
   ]
  },
  {
   "cell_type": "code",
   "execution_count": 76,
   "metadata": {},
   "outputs": [
    {
     "name": "stderr",
     "output_type": "stream",
     "text": [
      "/Users/anne/anaconda/envs/modal/lib/python3.7/site-packages/ipykernel_launcher.py:3: RuntimeWarning: divide by zero encountered in double_scalars\n",
      "  This is separate from the ipykernel package so we can avoid doing imports until\n"
     ]
    }
   ],
   "source": [
    "df_sqrt = pd.DataFrame(columns=[\"n\", \"distance\"])\n",
    "df_sqrt[\"n\"] = np.unique(df[\"n\"])\n",
    "df_sqrt[\"distance\"] = [df[\"distance\"].iloc[0]/np.sqrt(i) for i in range(len(df_sqrt))]"
   ]
  },
  {
   "cell_type": "code",
   "execution_count": 77,
   "metadata": {},
   "outputs": [
    {
     "name": "stderr",
     "output_type": "stream",
     "text": [
      "/Users/anne/anaconda/envs/modal/lib/python3.7/site-packages/ipykernel_launcher.py:3: RuntimeWarning: divide by zero encountered in log\n",
      "  This is separate from the ipykernel package so we can avoid doing imports until\n"
     ]
    }
   ],
   "source": [
    "df_log = pd.DataFrame(columns=[\"n\", \"distance\"])\n",
    "df_log[\"n\"] = np.unique(df[\"n\"])\n",
    "df_log[\"distance\"] = [df[\"distance\"].iloc[0] * np.log(i)**((1 + alg.epsilon)/2) / np.sqrt(i) for i in range(len(df_log))]"
   ]
  },
  {
   "cell_type": "code",
   "execution_count": 78,
   "metadata": {},
   "outputs": [
    {
     "data": {
      "text/plain": [
       "<matplotlib.axes._subplots.AxesSubplot at 0x1a16933588>"
      ]
     },
     "execution_count": 78,
     "metadata": {},
     "output_type": "execute_result"
    },
    {
     "data": {
      "image/png": "[encoded data removed]",
      "text/plain": [
       "<Figure size 432x288 with 1 Axes>"
      ]
     },
     "metadata": {
      "needs_background": "light"
     },
     "output_type": "display_data"
    }
   ],
   "source": [
    "sns.lineplot(x=\"n\", y=\"distance\", data=df)\n",
    "sns.lineplot(x=\"n\", y=\"distance\", data=df_sqrt)\n",
    "sns.lineplot(x=\"n\", y=\"distance\", data=df_log)\n"
   ]
  },
  {
   "cell_type": "markdown",
   "metadata": {},
   "source": [
    "## Convergence presque-sûr"
   ]
  },
  {
   "cell_type": "code",
   "execution_count": 33,
   "metadata": {},
   "outputs": [],
   "source": [
    "def check_concentration(alg, speed, N_samples_for_estimation, n, step=30, number_of_trials_per_step=10, theta_star=0, aux=True):\n",
    "    df = pd.DataFrame(columns=[\"n\", \"proba\"])\n",
    "    for trial in range(number_of_trials_per_step):\n",
    "        if aux:\n",
    "            list_of_support, list_of_distrib = alg.run(n, theta_star)\n",
    "        else:\n",
    "            list_of_support, list_of_distrib = alg.run_without_aux(n, theta_star)\n",
    "        for i in range(1, n, step): # begins at 3 because we remove 2 lines\n",
    "            support = list_of_support[i]\n",
    "            distrib = list_of_distrib[i]\n",
    "            count_inside_ball = 0\n",
    "            for k in range(N_samples_for_estimation):\n",
    "                count_inside_ball += np.linalg.norm(np.random.choice(support, p=distrib) - theta_star)< 1 / speed(i)\n",
    "            df2 = pd.DataFrame([[i, count_inside_ball / N_samples_for_estimation]],columns=['n', 'proba'])\n",
    "            df = pd.concat([df,df2])\n",
    "    sns.barplot(x='n', y=\"proba\", data = df)"
   ]
  },
  {
   "cell_type": "code",
   "execution_count": 34,
   "metadata": {},
   "outputs": [],
   "source": [
    "alg2 = Algorithm()"
   ]
  },
  {
   "cell_type": "code",
   "execution_count": 42,
   "metadata": {},
   "outputs": [
    {
     "name": "stderr",
     "output_type": "stream",
     "text": [
      "/Users/anne/anaconda/envs/modal/lib/python3.7/site-packages/ipykernel_launcher.py:13: RuntimeWarning: divide by zero encountered in double_scalars\n",
      "  del sys.path[0]\n",
      "/Users/anne/anaconda/envs/modal/lib/python3.7/site-packages/scipy/stats/stats.py:1713: FutureWarning: Using a non-tuple sequence for multidimensional indexing is deprecated; use `arr[tuple(seq)]` instead of `arr[seq]`. In the future this will be interpreted as an array index, `arr[np.array(seq)]`, which will result either in an error or a different result.\n",
      "  return np.add.reduce(sorted[indexer] * weights, axis=axis) / sumval\n"
     ]
    },
    {
     "data": {
      "image/png": "[encoded data removed]",
      "text/plain": [
       "<Figure size 432x288 with 1 Axes>"
      ]
     },
     "metadata": {
      "needs_background": "light"
     },
     "output_type": "display_data"
    }
   ],
   "source": [
    "step = 500\n",
    "n = 10000\n",
    "N_samples_for_estimation = 30\n",
    "number_of_trials_per_step = 20\n",
    "check_concentration(alg2, lambda x:0.1*np.log(x), 1000, n=n, step=step, number_of_trials_per_step=number_of_trials_per_step);"
   ]
  },
  {
   "cell_type": "code",
   "execution_count": 43,
   "metadata": {},
   "outputs": [
    {
     "name": "stderr",
     "output_type": "stream",
     "text": [
      "/Users/anne/anaconda/envs/modal/lib/python3.7/site-packages/scipy/stats/stats.py:1713: FutureWarning: Using a non-tuple sequence for multidimensional indexing is deprecated; use `arr[tuple(seq)]` instead of `arr[seq]`. In the future this will be interpreted as an array index, `arr[np.array(seq)]`, which will result either in an error or a different result.\n",
      "  return np.add.reduce(sorted[indexer] * weights, axis=axis) / sumval\n"
     ]
    },
    {
     "data": {
      "image/png": "[encoded data removed]",
      "text/plain": [
       "<Figure size 432x288 with 1 Axes>"
      ]
     },
     "metadata": {
      "needs_background": "light"
     },
     "output_type": "display_data"
    }
   ],
   "source": [
    "step = 500\n",
    "n = 10000\n",
    "N_samples_for_estimation = 30\n",
    "number_of_trials_per_step = 20\n",
    "check_concentration(alg2, lambda x:0.1*np.sqrt(x), 1000, n=n, step=step, number_of_trials_per_step=number_of_trials_per_step);"
   ]
  },
  {
   "cell_type": "code",
   "execution_count": 44,
   "metadata": {},
   "outputs": [
    {
     "name": "stderr",
     "output_type": "stream",
     "text": [
      "/Users/anne/anaconda/envs/modal/lib/python3.7/site-packages/scipy/stats/stats.py:1713: FutureWarning: Using a non-tuple sequence for multidimensional indexing is deprecated; use `arr[tuple(seq)]` instead of `arr[seq]`. In the future this will be interpreted as an array index, `arr[np.array(seq)]`, which will result either in an error or a different result.\n",
      "  return np.add.reduce(sorted[indexer] * weights, axis=axis) / sumval\n"
     ]
    },
    {
     "data": {
      "image/png": "[encoded data removed]",
      "text/plain": [
       "<Figure size 432x288 with 1 Axes>"
      ]
     },
     "metadata": {
      "needs_background": "light"
     },
     "output_type": "display_data"
    }
   ],
   "source": [
    "step = 500\n",
    "n = 10000\n",
    "N_samples_for_estimation = 30\n",
    "number_of_trials_per_step = 20\n",
    "check_concentration(alg2, lambda x:0.1*x, 1000, n=n, step=step, number_of_trials_per_step=number_of_trials_per_step);"
   ]
  },
  {
   "cell_type": "code",
   "execution_count": null,
   "metadata": {},
   "outputs": [],
   "source": []
  }
 ],
 "metadata": {
  "kernelspec": {
   "display_name": "Python 3",
   "language": "python",
   "name": "python3"
  },
  "language_info": {
   "codemirror_mode": {
    "name": "ipython",
    "version": 3
   },
   "file_extension": ".py",
   "mimetype": "text/x-python",
   "name": "python",
   "nbconvert_exporter": "python",
   "pygments_lexer": "ipython3",
   "version": "3.7.0"
  }
 },
 "nbformat": 4,
 "nbformat_minor": 2
}
