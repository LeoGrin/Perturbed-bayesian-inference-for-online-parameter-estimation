{
 "cells": [
  {
   "cell_type": "markdown",
   "metadata": {},
   "source": [
    "# Algorithm 1"
   ]
  },
  {
   "cell_type": "code",
   "execution_count": 1,
   "metadata": {},
   "outputs": [],
   "source": [
    "import scipy.stats\n",
    "import numpy as np\n",
    "import matplotlib.pyplot as plt\n",
    "from matplotlib import animation, rc\n",
    "from IPython.display import HTML\n",
    "import pandas as pd\n",
    "import seaborn as sns\n",
    "import itertools"
   ]
  },
  {
   "cell_type": "markdown",
   "metadata": {},
   "source": [
    "# Implement the algorithm"
   ]
  },
  {
   "cell_type": "code",
   "execution_count": 2,
   "metadata": {},
   "outputs": [],
   "source": [
    "def sigmoid(a):\n",
    "    return 1 / (1 + np.exp(-a))"
   ]
  },
  {
   "cell_type": "code",
   "execution_count": 3,
   "metadata": {},
   "outputs": [],
   "source": [
    "class Algorithm:\n",
    "    \n",
    "    def __init__(self, N=20, M=10, t_1=10, epsilon=1, epsilon_0=1, beta=1, k=0.5, rho=3, d=1):\n",
    "        # Set up the parameters for future runs\n",
    "        self.d = d\n",
    "        self.N = N\n",
    "        self.M = M\n",
    "        self.t_1 = t_1\n",
    "        self.epsilon = epsilon\n",
    "        self.epsilon_0 = epsilon_0\n",
    "        self.beta = beta\n",
    "        self.k = k\n",
    "        self.rho = rho\n",
    "        self.d = d\n",
    "        self.N_tilde = N + M\n",
    "        self.X_tilde = (N, M, k, beta)\n",
    "        self.t_0 = 0\n",
    "        self.c_0 = 1\n",
    "        \n",
    "        \n",
    "    def f(self, param, y, scale, variable):\n",
    "        #return scipy.stats.multivariate_normal.pdf(y, mean = param, cov = scale*np.diag(np.ones(self.d)))\n",
    "        return sigmoid(np.dot(variable, param))\n",
    "\n",
    "    def G_tilde(self, t_p, nu, w_tilde):\n",
    "        i = np.argmax(w_tilde)\n",
    "        return nu[i]\n",
    "\n",
    "    def G(self, t_p, teta, w):\n",
    "        return sum([teta[i] * w[i] for i in range(len(teta))]) / sum(w)\n",
    "    \n",
    "    def F_tilde(self, nu_bar, epsilon_p=0, X_bar=0, t_p=0):\n",
    "        return np.array(list(itertools.product(np.linspace(-100*epsilon_p / self.K_(self.N_tilde),100*epsilon_p / self.K_(self.N_tilde), self.N_tilde**(1/self.d)), repeat=self.d))) + np.array(nu_bar)        \n",
    "\n",
    "\n",
    "    def F(self, nu_bar, xi_p=0, X_bar=0, t_p=0):\n",
    "        return np.array(list(itertools.product(np.linspace(-100*xi_p / self.K_(self.N), 100*xi_p / self.K_(self.N), self.N**(1/self.d)), repeat=self.d))) + np.array(nu_bar)        \n",
    "    \n",
    "    def t_(self, p, former_t_p):\n",
    "        return former_t_p + max(int((self.k**(-2) - 1) * former_t_p) + 1, self.t_1)\n",
    "\n",
    "    def epsilon_(self, p):\n",
    "        # d ?\n",
    "        return self.epsilon_0 * min(1, (p**(-1) * self.rho * np.log(p + 1))**(1 / (self.d + self.beta)))\n",
    "\n",
    "    def c_(self, p):\n",
    "        if p==0:\n",
    "            return 1\n",
    "        return min(((1 + self.k) / (2 * self.k))**p, p**((1 + self.epsilon) / 2))\n",
    "\n",
    "    def K_(self, N):\n",
    "        k = 1\n",
    "        while k**self.d <= self.N:\n",
    "            k += 1\n",
    "        return k - 1\n",
    "    \n",
    "    \n",
    "    def plot(self, time_interval, theta_star, scale, observation, theta, w, fig):\n",
    "        # plot the real law\n",
    "        x_density = np.linspace(-100,100,100) \n",
    "        y_density = 15 * scipy.stats.norm.pdf(x_density, loc=theta_star, scale=scale) \n",
    "        plt.clf()\n",
    "        plt.plot(x_density, y_density) #plot real density function\n",
    "        plt.scatter(theta, np.zeros(self.N), c=\"red\")\n",
    "        plt.scatter([observation], [15 * scipy.stats.norm.pdf(observation, loc=theta_star, scale=scale)], marker=\"*\") # plot observation\n",
    "        plt.bar(theta, w)\n",
    "        fig.canvas.draw()\n",
    "        plt.pause(time_interval)\n",
    "        \n",
    "    def plotd(self, time_interval, theta_star, scale, observation, theta, w, fig):\n",
    "        # plot the real law\n",
    "        plt.clf()\n",
    "        for i, point in enumerate(theta):\n",
    "            plt.scatter(point[0], point[1], c=(0.0, min(20*w[i], 1), 0.0))\n",
    "        #plt.scatter([observation], [15 * scipy.stats.norm.pdf(observation, loc=theta_star, scale=scale)], marker=\"*\") # plot observation\n",
    "        fig.canvas.draw()\n",
    "        plt.pause(time_interval)\n",
    "        \n",
    "    def bayes_update(self, distrib, support, f, scale, observation, variable):\n",
    "        distrib = [distrib[i] * self.f(support[i], observation, scale, variable) for i in range(len(support))]\n",
    "        sum_distrib = np.sum(distrib)\n",
    "        distrib = [distrib[i] / sum_distrib for i in range(len(support))] # normalize\n",
    "        \n",
    "        return distrib\n",
    "\n",
    "\n",
    "\n",
    "    \n",
    "    def animate_pi_without_support(self, nb_iterations=10000, time_interval=0.001, theta_star=[0], scale=20):\n",
    "        fig = plt.figure()\n",
    "        ax = fig.add_subplot(111)\n",
    "        #Initialize\n",
    "        theta = np.random.uniform(-100, 100, self.N)\n",
    "        nu = np.random.uniform(-100, 100, self.N + self.M)\n",
    "        Y = np.random.multivariate_normal(theta_star, scale*np.diag(np.ones(len(theta_star))), nb_iterations)\n",
    "        w = (1/self.N) * np.ones(self.N)\n",
    "        w_tilde = (1/self.N_tilde) * np.ones(self.N_tilde)\n",
    "    \n",
    "        t_p = self.t_1\n",
    "        xi = 1\n",
    "        p = 1\n",
    "        q = 0\n",
    "        for t in range(1, nb_iterations):\n",
    "            if t == t_p + 1:\n",
    "                # Perturbation\n",
    "                print(\"PERTURBATION\")\n",
    "                theta_bar = self.G(t_p, theta, w)\n",
    "                q += 1\n",
    "                xi = self.k * (self.c_(q) / self.c_(q - 1)) * xi\n",
    "                theta_hat = theta_bar\n",
    "                theta = self.F(theta_hat, xi)\n",
    "                w = np.ones(self.N)\n",
    "                p += 1\n",
    "                t_p = self.t_(p, t_p)\n",
    "                \n",
    "\n",
    "        ########## plotting\n",
    "            if t % 10 == 0:\n",
    "                self.plot(time_interval, theta_star, scale, observation = Y[t], theta=theta, w=w, fig=fig)\n",
    "\n",
    "            ## Bayes updates\n",
    "            w = self.bayes_update(w, theta, self.f, scale, Y[t])\n",
    "            \n",
    "    def animate_pi(self, nb_iterations=10000, time_interval=0.001, theta_star=[0], scale=20):\n",
    "        fig = plt.figure()\n",
    "        ax = fig.add_subplot(111)\n",
    "        #Initialize\n",
    "        theta = np.random.uniform(-100, 100, self.N)\n",
    "        nu = np.random.uniform(-100, 100, self.N + self.M)\n",
    "        Y = np.random.multivariate_normal(theta_star, scale*np.diag(np.ones(len(theta_star))), nb_iterations)\n",
    "        w = (1/self.N) * np.ones(self.N)\n",
    "        w_tilde = (1/self.N_tilde) * np.ones(self.N_tilde)\n",
    "    \n",
    "        t_p = self.t_1\n",
    "        xi = 1\n",
    "        p = 1\n",
    "        q = 0\n",
    "        for t in range(1, nb_iterations):\n",
    "            if t == t_p + 1:\n",
    "                # Perturbation\n",
    "                print(\"PERTURBATION\")\n",
    "                theta_bar = self.G(t_p, theta, w)\n",
    "                nu_bar = self.G_tilde(t_p, nu, w_tilde)\n",
    "                if np.linalg.norm(theta_bar - nu_bar) <= 2 * self.epsilon_(p):\n",
    "                    q += 1\n",
    "                    xi = self.k * (self.c_(q) / self.c_(q - 1)) * xi\n",
    "                    theta_hat = theta_bar\n",
    "                else:\n",
    "                    q = 1\n",
    "                    xi = self.epsilon_(p)\n",
    "                    theta_hat = nu_bar\n",
    "                theta = self.F(theta_hat, xi)\n",
    "                nu = self.F_tilde(nu_bar, self.epsilon_(p))\n",
    "                w = np.ones(self.N)\n",
    "                w_tilde = np.ones(self.N_tilde)\n",
    "                p += 1\n",
    "                t_p = self.t_(p, t_p)\n",
    "        \n",
    "    \n",
    "        ########## plotting\n",
    "            if t % 10 == 0:\n",
    "                self.plot(time_interval, theta_star, scale, observation = Y[t], theta=theta, w=w, fig=fig)\n",
    "\n",
    "            ## Bayes updates\n",
    "            w = self.bayes_update(w, theta, self.f, scale, Y[t])\n",
    "            w_tilde = self.bayes_update(w_tilde, nu, self.f, scale, Y[t])\n",
    "\n",
    "\n",
    "    \n",
    "    def run_without_aux(self, nb_iterations, theta_star=[0], scale=20):\n",
    "        #Initialize\n",
    "        theta = np.random.uniform(-100, 100, self.N)\n",
    "        nu = np.random.uniform(-100, 100, self.N + self.M)\n",
    "        Y = np.random.multivariate_normal(theta_star, scale*np.diag(np.ones(len(theta_star))), nb_iterations)\n",
    "        w = (1/self.N) * np.ones(self.N)\n",
    "        w_tilde = (1/self.N_tilde) * np.ones(self.N_tilde)\n",
    "    \n",
    "        t_p = self.t_1\n",
    "        xi = 1\n",
    "        p = 1\n",
    "        q = 0\n",
    "        \n",
    "        list_of_support = []\n",
    "        list_of_distrib = []\n",
    "        \n",
    "        for t in range(1, nb_iterations):\n",
    "            if t == t_p + 1:\n",
    "                # Perturbation\n",
    "                theta_bar = self.G(t_p, theta, w)\n",
    "                q += 1\n",
    "                xi = self.k * (self.c_(q) / self.c_(q - 1)) * xi\n",
    "                theta_hat = theta_bar\n",
    "                theta = self.F(theta_hat, xi)\n",
    "                w = np.ones(self.N)\n",
    "                p += 1\n",
    "                t_p = self.t_(p, t_p)\n",
    "                \n",
    "\n",
    "\n",
    "            ## Bayes updates\n",
    "            w = self.bayes_update(w, theta, self.f, scale, Y[t])\n",
    "            list_of_distrib.append(w)\n",
    "            list_of_support.append(theta)\n",
    "            \n",
    "        \n",
    "        return list_of_support, list_of_distrib\n",
    "    \n",
    "    def animate_d(self, nb_iterations, theta_star=[0], scale=20):\n",
    "        fig = plt.figure()\n",
    "        ax = fig.add_subplot(111)\n",
    "        #Initialize\n",
    "        theta = np.random.uniform(-100, 100, (self.N, self.d))\n",
    "        nu = np.random.uniform(-100, 100, (self.N + self.M, self.d))\n",
    "        Y = np.random.multivariate_normal(theta_star, scale*np.diag(np.ones(self.d)), nb_iterations)\n",
    "        w = (1/self.N) * np.ones(self.N)\n",
    "        w_tilde = (1/self.N_tilde) * np.ones(self.N_tilde)\n",
    "    \n",
    "        t_p = self.t_1\n",
    "        xi = 1\n",
    "        p = 1\n",
    "        q = 0\n",
    "        \n",
    "        list_of_support = []\n",
    "        list_of_distrib = []\n",
    "        \n",
    "        for t in range(1, nb_iterations):\n",
    "            if t == t_p + 1:\n",
    "                # Perturbation\n",
    "                print(\"PERTURBATION\")\n",
    "                theta_bar = self.G(t_p, theta, w)\n",
    "                nu_bar = self.G_tilde(t_p, nu, w_tilde)\n",
    "                if np.linalg.norm(theta_bar - nu_bar) <= 2 * self.epsilon_(p):\n",
    "                    print(\"OH\")\n",
    "                    q += 1\n",
    "                    xi = self.k * (self.c_(q) / self.c_(q - 1)) * xi\n",
    "                    theta_hat = theta_bar\n",
    "                else:\n",
    "                    q = 1\n",
    "                    xi = self.epsilon_(p)\n",
    "                    theta_hat = nu_bar\n",
    "                print(\"theta_bar = \")\n",
    "                print(theta_bar)\n",
    "                print(\"nu_bar =\")\n",
    "                print(nu_bar)\n",
    "                theta = self.F(theta_hat, xi)\n",
    "                nu = self.F_tilde(nu_bar, self.epsilon_(p))\n",
    "                w = np.ones(self.N)\n",
    "                w_tilde = np.ones(self.N_tilde)\n",
    "                p += 1\n",
    "                t_p = self.t_(p, t_p)\n",
    "                \n",
    "            \n",
    "            ########## plotting\n",
    "            if t % 1 == 0:\n",
    "                self.plotd(0.005, theta_star, scale, observation = Y[t], theta=nu, w=w_tilde, fig=fig)\n",
    "\n",
    "            ## Bayes updates\n",
    "            w = self.bayes_update(w, theta, self.f, scale, Y[t])\n",
    "            w_tilde = self.bayes_update(w_tilde, nu, self.f, scale, Y[t])\n",
    "            list_of_distrib.append(w)\n",
    "            list_of_support.append(theta)\n",
    "        \n",
    "        return list_of_support, list_of_distrib\n",
    "\n",
    "    def run(self, nb_iterations, theta_star=[0], scale=20):\n",
    "        #Initialize\n",
    "        theta = np.random.uniform(-100, 100, (self.N, self.d))\n",
    "        nu = np.random.uniform(-100, 100, (self.N + self.M, self.d))\n",
    "        X = np.random.randn(nb_iterations, self.d)\n",
    "        probas = sigmoid(np.dot(X, theta_star))\n",
    "        Y = np.array([np.random.binomial(1, proba) for proba in probas])\n",
    "        #Y = np.random.multivariate_normal(theta_star, scale*np.diag(np.ones(self.d)), nb_iterations)\n",
    "        w = (1/self.N) * np.ones(self.N)\n",
    "        w_tilde = (1/self.N_tilde) * np.ones(self.N_tilde)\n",
    "    \n",
    "        t_p = self.t_1\n",
    "        xi = 1\n",
    "        p = 1\n",
    "        q = 0\n",
    "        \n",
    "        list_of_support = []\n",
    "        list_of_distrib = []\n",
    "        \n",
    "        for t in range(1, nb_iterations):\n",
    "            if t == t_p + 1:\n",
    "                # Perturbation\n",
    "                print(\"PERTURBATION\")\n",
    "                theta_bar = self.G(t_p, theta, w)\n",
    "                nu_bar = self.G_tilde(t_p, nu, w_tilde)\n",
    "                if np.linalg.norm(theta_bar - nu_bar) <= 2 * self.epsilon_(p):\n",
    "                    print(\"OH\")\n",
    "                    q += 1\n",
    "                    xi = self.k * (self.c_(q) / self.c_(q - 1)) * xi\n",
    "                    theta_hat = theta_bar\n",
    "                else:\n",
    "                    q = 1\n",
    "                    xi = self.epsilon_(p)\n",
    "                    theta_hat = nu_bar\n",
    "                print(\"theta_bar = \")\n",
    "                print(theta_bar)\n",
    "                print(\"nu_bar =\")\n",
    "                print(nu_bar)\n",
    "                theta = self.F(theta_hat, xi)\n",
    "                nu = self.F_tilde(nu_bar, self.epsilon_(p))\n",
    "                w = np.ones(self.N)\n",
    "                w_tilde = np.ones(self.N_tilde)\n",
    "                p += 1\n",
    "                t_p = self.t_(p, t_p)\n",
    "                \n",
    "            \n",
    "\n",
    "            ## Bayes updates\n",
    "            w = self.bayes_update(w, theta, self.f, scale, Y[t], X[t])\n",
    "            w_tilde = self.bayes_update(w_tilde, nu, self.f, scale, Y[t], X[t])\n",
    "            list_of_distrib.append(w)\n",
    "            list_of_support.append(theta)\n",
    "        \n",
    "        return list_of_support, list_of_distrib\n",
    "\n",
    "    \n",
    "    \n",
    "    \n",
    "        "
   ]
  },
  {
   "cell_type": "markdown",
   "metadata": {},
   "source": [
    "# Animations"
   ]
  },
  {
   "cell_type": "code",
   "execution_count": 46,
   "metadata": {},
   "outputs": [],
   "source": [
    "%matplotlib inline"
   ]
  },
  {
   "cell_type": "code",
   "execution_count": 47,
   "metadata": {},
   "outputs": [],
   "source": [
    "test = Algorithm(d=2, N=300, M=100)"
   ]
  },
  {
   "cell_type": "code",
   "execution_count": 48,
   "metadata": {},
   "outputs": [
    {
     "name": "stdout",
     "output_type": "stream",
     "text": [
      "Using matplotlib backend: MacOSX\n",
      "PERTURBATION\n",
      "theta_bar = \n",
      "[-7.29066397 -4.74699654]\n",
      "nu_bar =\n",
      "[-1.43300603  0.56562251]\n"
     ]
    },
    {
     "name": "stderr",
     "output_type": "stream",
     "text": [
      "/Users/anne/anaconda/envs/modal/lib/python3.7/site-packages/ipykernel_launcher.py:36: DeprecationWarning: object of type <class 'float'> cannot be safely interpreted as an integer.\n",
      "/Users/anne/anaconda/envs/modal/lib/python3.7/site-packages/ipykernel_launcher.py:32: DeprecationWarning: object of type <class 'float'> cannot be safely interpreted as an integer.\n"
     ]
    },
    {
     "name": "stdout",
     "output_type": "stream",
     "text": [
      "PERTURBATION\n",
      "OH\n",
      "theta_bar = \n",
      "[-0.02216791 -1.11969873]\n",
      "nu_bar =\n",
      "[ 0.11498159 -0.98236511]\n"
     ]
    },
    {
     "ename": "KeyboardInterrupt",
     "evalue": "",
     "output_type": "error",
     "traceback": [
      "\u001b[0;31m---------------------------------------------------------------------------\u001b[0m",
      "\u001b[0;31mKeyboardInterrupt\u001b[0m                         Traceback (most recent call last)",
      "\u001b[0;32m<ipython-input-48-75b88e320ea0>\u001b[0m in \u001b[0;36m<module>\u001b[0;34m()\u001b[0m\n\u001b[1;32m      1\u001b[0m \u001b[0mget_ipython\u001b[0m\u001b[0;34m(\u001b[0m\u001b[0;34m)\u001b[0m\u001b[0;34m.\u001b[0m\u001b[0mrun_line_magic\u001b[0m\u001b[0;34m(\u001b[0m\u001b[0;34m'matplotlib'\u001b[0m\u001b[0;34m,\u001b[0m \u001b[0;34m''\u001b[0m\u001b[0;34m)\u001b[0m\u001b[0;34m\u001b[0m\u001b[0m\n\u001b[0;32m----> 2\u001b[0;31m \u001b[0mtest\u001b[0m\u001b[0;34m.\u001b[0m\u001b[0manimate_d\u001b[0m\u001b[0;34m(\u001b[0m\u001b[0;36m500\u001b[0m\u001b[0;34m,\u001b[0m \u001b[0mtheta_star\u001b[0m\u001b[0;34m=\u001b[0m\u001b[0;34m[\u001b[0m\u001b[0;36m0\u001b[0m\u001b[0;34m,\u001b[0m \u001b[0;36m0\u001b[0m\u001b[0;34m]\u001b[0m\u001b[0;34m)\u001b[0m\u001b[0;34m\u001b[0m\u001b[0m\n\u001b[0m",
      "\u001b[0;32m<ipython-input-42-3e96a0b9e2d5>\u001b[0m in \u001b[0;36manimate_d\u001b[0;34m(self, nb_iterations, theta_star, scale)\u001b[0m\n\u001b[1;32m    252\u001b[0m             \u001b[0;31m########## plotting\u001b[0m\u001b[0;34m\u001b[0m\u001b[0;34m\u001b[0m\u001b[0m\n\u001b[1;32m    253\u001b[0m             \u001b[0;32mif\u001b[0m \u001b[0mt\u001b[0m \u001b[0;34m%\u001b[0m \u001b[0;36m1\u001b[0m \u001b[0;34m==\u001b[0m \u001b[0;36m0\u001b[0m\u001b[0;34m:\u001b[0m\u001b[0;34m\u001b[0m\u001b[0m\n\u001b[0;32m--> 254\u001b[0;31m                 \u001b[0mself\u001b[0m\u001b[0;34m.\u001b[0m\u001b[0mplotd\u001b[0m\u001b[0;34m(\u001b[0m\u001b[0;36m0.005\u001b[0m\u001b[0;34m,\u001b[0m \u001b[0mtheta_star\u001b[0m\u001b[0;34m,\u001b[0m \u001b[0mscale\u001b[0m\u001b[0;34m,\u001b[0m \u001b[0mobservation\u001b[0m \u001b[0;34m=\u001b[0m \u001b[0mY\u001b[0m\u001b[0;34m[\u001b[0m\u001b[0mt\u001b[0m\u001b[0;34m]\u001b[0m\u001b[0;34m,\u001b[0m \u001b[0mtheta\u001b[0m\u001b[0;34m=\u001b[0m\u001b[0mnu\u001b[0m\u001b[0;34m,\u001b[0m \u001b[0mw\u001b[0m\u001b[0;34m=\u001b[0m\u001b[0mw_tilde\u001b[0m\u001b[0;34m,\u001b[0m \u001b[0mfig\u001b[0m\u001b[0;34m=\u001b[0m\u001b[0mfig\u001b[0m\u001b[0;34m)\u001b[0m\u001b[0;34m\u001b[0m\u001b[0m\n\u001b[0m\u001b[1;32m    255\u001b[0m \u001b[0;34m\u001b[0m\u001b[0m\n\u001b[1;32m    256\u001b[0m             \u001b[0;31m## Bayes updates\u001b[0m\u001b[0;34m\u001b[0m\u001b[0;34m\u001b[0m\u001b[0m\n",
      "\u001b[0;32m<ipython-input-42-3e96a0b9e2d5>\u001b[0m in \u001b[0;36mplotd\u001b[0;34m(self, time_interval, theta_star, scale, observation, theta, w, fig)\u001b[0m\n\u001b[1;32m     71\u001b[0m         \u001b[0mplt\u001b[0m\u001b[0;34m.\u001b[0m\u001b[0mclf\u001b[0m\u001b[0;34m(\u001b[0m\u001b[0;34m)\u001b[0m\u001b[0;34m\u001b[0m\u001b[0m\n\u001b[1;32m     72\u001b[0m         \u001b[0;32mfor\u001b[0m \u001b[0mi\u001b[0m\u001b[0;34m,\u001b[0m \u001b[0mpoint\u001b[0m \u001b[0;32min\u001b[0m \u001b[0menumerate\u001b[0m\u001b[0;34m(\u001b[0m\u001b[0mtheta\u001b[0m\u001b[0;34m)\u001b[0m\u001b[0;34m:\u001b[0m\u001b[0;34m\u001b[0m\u001b[0m\n\u001b[0;32m---> 73\u001b[0;31m             \u001b[0mplt\u001b[0m\u001b[0;34m.\u001b[0m\u001b[0mscatter\u001b[0m\u001b[0;34m(\u001b[0m\u001b[0mpoint\u001b[0m\u001b[0;34m[\u001b[0m\u001b[0;36m0\u001b[0m\u001b[0;34m]\u001b[0m\u001b[0;34m,\u001b[0m \u001b[0mpoint\u001b[0m\u001b[0;34m[\u001b[0m\u001b[0;36m1\u001b[0m\u001b[0;34m]\u001b[0m\u001b[0;34m,\u001b[0m \u001b[0mc\u001b[0m\u001b[0;34m=\u001b[0m\u001b[0;34m(\u001b[0m\u001b[0;36m0.0\u001b[0m\u001b[0;34m,\u001b[0m \u001b[0mmin\u001b[0m\u001b[0;34m(\u001b[0m\u001b[0;36m20\u001b[0m\u001b[0;34m*\u001b[0m\u001b[0mw\u001b[0m\u001b[0;34m[\u001b[0m\u001b[0mi\u001b[0m\u001b[0;34m]\u001b[0m\u001b[0;34m,\u001b[0m \u001b[0;36m1\u001b[0m\u001b[0;34m)\u001b[0m\u001b[0;34m,\u001b[0m \u001b[0;36m0.0\u001b[0m\u001b[0;34m)\u001b[0m\u001b[0;34m)\u001b[0m\u001b[0;34m\u001b[0m\u001b[0m\n\u001b[0m\u001b[1;32m     74\u001b[0m         \u001b[0;31m#plt.scatter([observation], [15 * scipy.stats.norm.pdf(observation, loc=theta_star, scale=scale)], marker=\"*\") # plot observation\u001b[0m\u001b[0;34m\u001b[0m\u001b[0;34m\u001b[0m\u001b[0m\n\u001b[1;32m     75\u001b[0m         \u001b[0mfig\u001b[0m\u001b[0;34m.\u001b[0m\u001b[0mcanvas\u001b[0m\u001b[0;34m.\u001b[0m\u001b[0mdraw\u001b[0m\u001b[0;34m(\u001b[0m\u001b[0;34m)\u001b[0m\u001b[0;34m\u001b[0m\u001b[0m\n",
      "\u001b[0;32m~/anaconda/envs/modal/lib/python3.7/site-packages/matplotlib/pyplot.py\u001b[0m in \u001b[0;36mscatter\u001b[0;34m(x, y, s, c, marker, cmap, norm, vmin, vmax, alpha, linewidths, verts, edgecolors, hold, data, **kwargs)\u001b[0m\n\u001b[1;32m   3473\u001b[0m                          \u001b[0mvmin\u001b[0m\u001b[0;34m=\u001b[0m\u001b[0mvmin\u001b[0m\u001b[0;34m,\u001b[0m \u001b[0mvmax\u001b[0m\u001b[0;34m=\u001b[0m\u001b[0mvmax\u001b[0m\u001b[0;34m,\u001b[0m \u001b[0malpha\u001b[0m\u001b[0;34m=\u001b[0m\u001b[0malpha\u001b[0m\u001b[0;34m,\u001b[0m\u001b[0;34m\u001b[0m\u001b[0m\n\u001b[1;32m   3474\u001b[0m                          \u001b[0mlinewidths\u001b[0m\u001b[0;34m=\u001b[0m\u001b[0mlinewidths\u001b[0m\u001b[0;34m,\u001b[0m \u001b[0mverts\u001b[0m\u001b[0;34m=\u001b[0m\u001b[0mverts\u001b[0m\u001b[0;34m,\u001b[0m\u001b[0;34m\u001b[0m\u001b[0m\n\u001b[0;32m-> 3475\u001b[0;31m                          edgecolors=edgecolors, data=data, **kwargs)\n\u001b[0m\u001b[1;32m   3476\u001b[0m     \u001b[0;32mfinally\u001b[0m\u001b[0;34m:\u001b[0m\u001b[0;34m\u001b[0m\u001b[0m\n\u001b[1;32m   3477\u001b[0m         \u001b[0max\u001b[0m\u001b[0;34m.\u001b[0m\u001b[0m_hold\u001b[0m \u001b[0;34m=\u001b[0m \u001b[0mwashold\u001b[0m\u001b[0;34m\u001b[0m\u001b[0m\n",
      "\u001b[0;32m~/anaconda/envs/modal/lib/python3.7/site-packages/matplotlib/__init__.py\u001b[0m in \u001b[0;36minner\u001b[0;34m(ax, *args, **kwargs)\u001b[0m\n\u001b[1;32m   1865\u001b[0m                         \u001b[0;34m\"the Matplotlib list!)\"\u001b[0m \u001b[0;34m%\u001b[0m \u001b[0;34m(\u001b[0m\u001b[0mlabel_namer\u001b[0m\u001b[0;34m,\u001b[0m \u001b[0mfunc\u001b[0m\u001b[0;34m.\u001b[0m\u001b[0m__name__\u001b[0m\u001b[0;34m)\u001b[0m\u001b[0;34m,\u001b[0m\u001b[0;34m\u001b[0m\u001b[0m\n\u001b[1;32m   1866\u001b[0m                         RuntimeWarning, stacklevel=2)\n\u001b[0;32m-> 1867\u001b[0;31m             \u001b[0;32mreturn\u001b[0m \u001b[0mfunc\u001b[0m\u001b[0;34m(\u001b[0m\u001b[0max\u001b[0m\u001b[0;34m,\u001b[0m \u001b[0;34m*\u001b[0m\u001b[0margs\u001b[0m\u001b[0;34m,\u001b[0m \u001b[0;34m**\u001b[0m\u001b[0mkwargs\u001b[0m\u001b[0;34m)\u001b[0m\u001b[0;34m\u001b[0m\u001b[0m\n\u001b[0m\u001b[1;32m   1868\u001b[0m \u001b[0;34m\u001b[0m\u001b[0m\n\u001b[1;32m   1869\u001b[0m         inner.__doc__ = _add_data_doc(inner.__doc__,\n",
      "\u001b[0;32m~/anaconda/envs/modal/lib/python3.7/site-packages/matplotlib/axes/_axes.py\u001b[0m in \u001b[0;36mscatter\u001b[0;34m(self, x, y, s, c, marker, cmap, norm, vmin, vmax, alpha, linewidths, verts, edgecolors, **kwargs)\u001b[0m\n\u001b[1;32m   4362\u001b[0m \u001b[0;34m\u001b[0m\u001b[0m\n\u001b[1;32m   4363\u001b[0m         \u001b[0mself\u001b[0m\u001b[0;34m.\u001b[0m\u001b[0madd_collection\u001b[0m\u001b[0;34m(\u001b[0m\u001b[0mcollection\u001b[0m\u001b[0;34m)\u001b[0m\u001b[0;34m\u001b[0m\u001b[0m\n\u001b[0;32m-> 4364\u001b[0;31m         \u001b[0mself\u001b[0m\u001b[0;34m.\u001b[0m\u001b[0mautoscale_view\u001b[0m\u001b[0;34m(\u001b[0m\u001b[0;34m)\u001b[0m\u001b[0;34m\u001b[0m\u001b[0m\n\u001b[0m\u001b[1;32m   4365\u001b[0m \u001b[0;34m\u001b[0m\u001b[0m\n\u001b[1;32m   4366\u001b[0m         \u001b[0;32mreturn\u001b[0m \u001b[0mcollection\u001b[0m\u001b[0;34m\u001b[0m\u001b[0m\n",
      "\u001b[0;32m~/anaconda/envs/modal/lib/python3.7/site-packages/matplotlib/axes/_base.py\u001b[0m in \u001b[0;36mautoscale_view\u001b[0;34m(self, tight, scalex, scaley)\u001b[0m\n\u001b[1;32m   2544\u001b[0m         handle_single_axis(\n\u001b[1;32m   2545\u001b[0m             \u001b[0mscalex\u001b[0m\u001b[0;34m,\u001b[0m \u001b[0mself\u001b[0m\u001b[0;34m.\u001b[0m\u001b[0m_autoscaleXon\u001b[0m\u001b[0;34m,\u001b[0m \u001b[0mself\u001b[0m\u001b[0;34m.\u001b[0m\u001b[0m_shared_x_axes\u001b[0m\u001b[0;34m,\u001b[0m \u001b[0;34m'intervalx'\u001b[0m\u001b[0;34m,\u001b[0m\u001b[0;34m\u001b[0m\u001b[0m\n\u001b[0;32m-> 2546\u001b[0;31m             'minposx', self.xaxis, self._xmargin, x_stickies, self.set_xbound)\n\u001b[0m\u001b[1;32m   2547\u001b[0m         handle_single_axis(\n\u001b[1;32m   2548\u001b[0m             \u001b[0mscaley\u001b[0m\u001b[0;34m,\u001b[0m \u001b[0mself\u001b[0m\u001b[0;34m.\u001b[0m\u001b[0m_autoscaleYon\u001b[0m\u001b[0;34m,\u001b[0m \u001b[0mself\u001b[0m\u001b[0;34m.\u001b[0m\u001b[0m_shared_y_axes\u001b[0m\u001b[0;34m,\u001b[0m \u001b[0;34m'intervaly'\u001b[0m\u001b[0;34m,\u001b[0m\u001b[0;34m\u001b[0m\u001b[0m\n",
      "\u001b[0;32m~/anaconda/envs/modal/lib/python3.7/site-packages/matplotlib/axes/_base.py\u001b[0m in \u001b[0;36mhandle_single_axis\u001b[0;34m(scale, autoscaleon, shared_axes, interval, minpos, axis, margin, stickies, set_bound)\u001b[0m\n\u001b[1;32m   2539\u001b[0m             \u001b[0;32mif\u001b[0m \u001b[0;32mnot\u001b[0m \u001b[0mself\u001b[0m\u001b[0;34m.\u001b[0m\u001b[0m_tight\u001b[0m\u001b[0;34m:\u001b[0m\u001b[0;34m\u001b[0m\u001b[0m\n\u001b[1;32m   2540\u001b[0m                 \u001b[0mx0\u001b[0m\u001b[0;34m,\u001b[0m \u001b[0mx1\u001b[0m \u001b[0;34m=\u001b[0m \u001b[0mlocator\u001b[0m\u001b[0;34m.\u001b[0m\u001b[0mview_limits\u001b[0m\u001b[0;34m(\u001b[0m\u001b[0mx0\u001b[0m\u001b[0;34m,\u001b[0m \u001b[0mx1\u001b[0m\u001b[0;34m)\u001b[0m\u001b[0;34m\u001b[0m\u001b[0m\n\u001b[0;32m-> 2541\u001b[0;31m             \u001b[0mset_bound\u001b[0m\u001b[0;34m(\u001b[0m\u001b[0mx0\u001b[0m\u001b[0;34m,\u001b[0m \u001b[0mx1\u001b[0m\u001b[0;34m)\u001b[0m\u001b[0;34m\u001b[0m\u001b[0m\n\u001b[0m\u001b[1;32m   2542\u001b[0m             \u001b[0;31m# End of definition of internal function 'handle_single_axis'.\u001b[0m\u001b[0;34m\u001b[0m\u001b[0;34m\u001b[0m\u001b[0m\n\u001b[1;32m   2543\u001b[0m \u001b[0;34m\u001b[0m\u001b[0m\n",
      "\u001b[0;32m~/anaconda/envs/modal/lib/python3.7/site-packages/matplotlib/axes/_base.py\u001b[0m in \u001b[0;36mset_xbound\u001b[0;34m(self, lower, upper)\u001b[0m\n\u001b[1;32m   3014\u001b[0m             \u001b[0mlower\u001b[0m\u001b[0;34m,\u001b[0m \u001b[0mupper\u001b[0m \u001b[0;34m=\u001b[0m \u001b[0mlower\u001b[0m\u001b[0;34m\u001b[0m\u001b[0m\n\u001b[1;32m   3015\u001b[0m \u001b[0;34m\u001b[0m\u001b[0m\n\u001b[0;32m-> 3016\u001b[0;31m         \u001b[0mold_lower\u001b[0m\u001b[0;34m,\u001b[0m \u001b[0mold_upper\u001b[0m \u001b[0;34m=\u001b[0m \u001b[0mself\u001b[0m\u001b[0;34m.\u001b[0m\u001b[0mget_xbound\u001b[0m\u001b[0;34m(\u001b[0m\u001b[0;34m)\u001b[0m\u001b[0;34m\u001b[0m\u001b[0m\n\u001b[0m\u001b[1;32m   3017\u001b[0m \u001b[0;34m\u001b[0m\u001b[0m\n\u001b[1;32m   3018\u001b[0m         \u001b[0;32mif\u001b[0m \u001b[0mlower\u001b[0m \u001b[0;32mis\u001b[0m \u001b[0;32mNone\u001b[0m\u001b[0;34m:\u001b[0m\u001b[0;34m\u001b[0m\u001b[0m\n",
      "\u001b[0;32m~/anaconda/envs/modal/lib/python3.7/site-packages/matplotlib/axes/_base.py\u001b[0m in \u001b[0;36mget_xbound\u001b[0;34m(self)\u001b[0m\n\u001b[1;32m   2996\u001b[0m     \u001b[0;32mdef\u001b[0m \u001b[0mget_xbound\u001b[0m\u001b[0;34m(\u001b[0m\u001b[0mself\u001b[0m\u001b[0;34m)\u001b[0m\u001b[0;34m:\u001b[0m\u001b[0;34m\u001b[0m\u001b[0m\n\u001b[1;32m   2997\u001b[0m         \u001b[0;34m\"\"\"Return the lower and upper x-axis bounds, in increasing order.\"\"\"\u001b[0m\u001b[0;34m\u001b[0m\u001b[0m\n\u001b[0;32m-> 2998\u001b[0;31m         \u001b[0mleft\u001b[0m\u001b[0;34m,\u001b[0m \u001b[0mright\u001b[0m \u001b[0;34m=\u001b[0m \u001b[0mself\u001b[0m\u001b[0;34m.\u001b[0m\u001b[0mget_xlim\u001b[0m\u001b[0;34m(\u001b[0m\u001b[0;34m)\u001b[0m\u001b[0;34m\u001b[0m\u001b[0m\n\u001b[0m\u001b[1;32m   2999\u001b[0m         \u001b[0;32mif\u001b[0m \u001b[0mleft\u001b[0m \u001b[0;34m<\u001b[0m \u001b[0mright\u001b[0m\u001b[0;34m:\u001b[0m\u001b[0;34m\u001b[0m\u001b[0m\n\u001b[1;32m   3000\u001b[0m             \u001b[0;32mreturn\u001b[0m \u001b[0mleft\u001b[0m\u001b[0;34m,\u001b[0m \u001b[0mright\u001b[0m\u001b[0;34m\u001b[0m\u001b[0m\n",
      "\u001b[0;32m~/anaconda/envs/modal/lib/python3.7/site-packages/matplotlib/axes/_base.py\u001b[0m in \u001b[0;36mget_xlim\u001b[0;34m(self)\u001b[0m\n\u001b[1;32m   3048\u001b[0m \u001b[0;34m\u001b[0m\u001b[0m\n\u001b[1;32m   3049\u001b[0m         \"\"\"\n\u001b[0;32m-> 3050\u001b[0;31m         \u001b[0;32mreturn\u001b[0m \u001b[0mtuple\u001b[0m\u001b[0;34m(\u001b[0m\u001b[0mself\u001b[0m\u001b[0;34m.\u001b[0m\u001b[0mviewLim\u001b[0m\u001b[0;34m.\u001b[0m\u001b[0mintervalx\u001b[0m\u001b[0;34m)\u001b[0m\u001b[0;34m\u001b[0m\u001b[0m\n\u001b[0m\u001b[1;32m   3051\u001b[0m \u001b[0;34m\u001b[0m\u001b[0m\n\u001b[1;32m   3052\u001b[0m     \u001b[0;32mdef\u001b[0m \u001b[0m_validate_converted_limits\u001b[0m\u001b[0;34m(\u001b[0m\u001b[0mself\u001b[0m\u001b[0;34m,\u001b[0m \u001b[0mlimit\u001b[0m\u001b[0;34m,\u001b[0m \u001b[0mconvert\u001b[0m\u001b[0;34m)\u001b[0m\u001b[0;34m:\u001b[0m\u001b[0;34m\u001b[0m\u001b[0m\n",
      "\u001b[0;31mKeyboardInterrupt\u001b[0m: "
     ]
    }
   ],
   "source": [
    "%matplotlib\n",
    "test.animate_d(500, theta_star=[0, 0])"
   ]
  },
  {
   "cell_type": "markdown",
   "metadata": {},
   "source": [
    "# Convergence rates"
   ]
  },
  {
   "cell_type": "markdown",
   "metadata": {},
   "source": [
    "## Wasserstein"
   ]
  },
  {
   "cell_type": "code",
   "execution_count": 4,
   "metadata": {},
   "outputs": [],
   "source": [
    "def wassertein(alg, nb_tests, nb_iterations, theta_star=0, aux=True):\n",
    "    df = pd.DataFrame(columns=[\"n\", \"distance\"])\n",
    "\n",
    "    for _ in range(nb_tests):\n",
    "        if aux:\n",
    "            list_of_support, list_of_distrib = alg.run(nb_iterations, theta_star)\n",
    "        else:\n",
    "            list_of_support, list_of_distrib = alg.run_without_aux(nb_iterations, theta_star)\n",
    "            \n",
    "\n",
    "        list_of_distances = [np.sqrt(np.sum([(list_of_support[index][i] - theta_star)**2 * list_of_distrib[index][i] for i in range(len(list_of_support[index]))])) for index in range(len(list_of_support))]\n",
    "        new_df = pd.DataFrame(columns=[\"n\", \"distance\"])\n",
    "        new_df[\"distance\"] = np.array(list_of_distances)\n",
    "        new_df[\"n\"] = np.array([i for i in range(len(list_of_distances))])\n",
    "        df = pd.concat([df, new_df])\n",
    "\n",
    "    return df\n",
    "        "
   ]
  },
  {
   "cell_type": "code",
   "execution_count": 26,
   "metadata": {},
   "outputs": [],
   "source": [
    "alg4 = Algorithm(d=5, N=6000, M=3000)"
   ]
  },
  {
   "cell_type": "code",
   "execution_count": 31,
   "metadata": {},
   "outputs": [
    {
     "name": "stdout",
     "output_type": "stream",
     "text": [
      "PERTURBATION\n",
      "theta_bar = \n",
      "[ -1.03461986 -56.14112137   7.24957774 -98.14676451 -85.75746065]\n",
      "nu_bar =\n",
      "[-8.57265239 10.27543838  6.15212644  0.97158691  5.40750291]\n"
     ]
    },
    {
     "name": "stderr",
     "output_type": "stream",
     "text": [
      "/Users/anne/anaconda/envs/modal/lib/python3.7/site-packages/ipykernel_launcher.py:37: DeprecationWarning: object of type <class 'float'> cannot be safely interpreted as an integer.\n",
      "/Users/anne/anaconda/envs/modal/lib/python3.7/site-packages/ipykernel_launcher.py:33: DeprecationWarning: object of type <class 'float'> cannot be safely interpreted as an integer.\n"
     ]
    },
    {
     "name": "stdout",
     "output_type": "stream",
     "text": [
      "PERTURBATION\n",
      "theta_bar = \n",
      "[ 1.42734761  0.27543838 -3.84787356  0.97158691 -4.59249709]\n",
      "nu_bar =\n",
      "[-4.57265239 -1.72456162 -5.84787356 -3.02841309  1.40750291]\n",
      "PERTURBATION\n",
      "theta_bar = \n",
      "[ 5.36147617 -1.72456162  4.15212644 -3.02841309  1.40750291]\n",
      "nu_bar =\n",
      "[-0.57265239  2.27543838 -1.84787356  0.97158691  5.40750291]\n",
      "PERTURBATION\n",
      "theta_bar = \n",
      "[-0.57265239  2.27543838 -1.84787356  0.97158691 -4.59249709]\n",
      "nu_bar =\n",
      "[ 3.42734761 -1.72456162  2.15212644 -3.02841309  1.40750291]\n"
     ]
    }
   ],
   "source": [
    "df = wassertein(alg4, 1, 2000,  theta_star=[0, 0, 0, 0, 0])"
   ]
  },
  {
   "cell_type": "code",
   "execution_count": 32,
   "metadata": {},
   "outputs": [
    {
     "name": "stderr",
     "output_type": "stream",
     "text": [
      "/Users/anne/anaconda/envs/modal/lib/python3.7/site-packages/ipykernel_launcher.py:3: RuntimeWarning: divide by zero encountered in double_scalars\n",
      "  This is separate from the ipykernel package so we can avoid doing imports until\n"
     ]
    }
   ],
   "source": [
    "df_sqrt = pd.DataFrame(columns=[\"n\", \"distance\"])\n",
    "df_sqrt[\"n\"] = np.unique(df[\"n\"])\n",
    "df_sqrt[\"distance\"] = [df[\"distance\"].iloc[0]/np.sqrt(i) for i in range(len(df_sqrt))]"
   ]
  },
  {
   "cell_type": "code",
   "execution_count": 33,
   "metadata": {},
   "outputs": [
    {
     "name": "stderr",
     "output_type": "stream",
     "text": [
      "/Users/anne/anaconda/envs/modal/lib/python3.7/site-packages/ipykernel_launcher.py:3: RuntimeWarning: divide by zero encountered in log\n",
      "  This is separate from the ipykernel package so we can avoid doing imports until\n"
     ]
    }
   ],
   "source": [
    "df_log = pd.DataFrame(columns=[\"n\", \"distance\"])\n",
    "df_log[\"n\"] = np.unique(df[\"n\"])\n",
    "df_log[\"distance\"] = [df[\"distance\"].iloc[0] * np.log(i)**((1 + alg4.epsilon)/2) / np.sqrt(i) for i in range(len(df_log))]"
   ]
  },
  {
   "cell_type": "code",
   "execution_count": 34,
   "metadata": {},
   "outputs": [
    {
     "data": {
      "text/plain": [
       "<matplotlib.axes._subplots.AxesSubplot at 0x1a177b4ba8>"
      ]
     },
     "execution_count": 34,
     "metadata": {},
     "output_type": "execute_result"
    },
    {
     "data": {
      "image/png": "[encoded data removed]",
      "text/plain": [
       "<Figure size 432x288 with 1 Axes>"
      ]
     },
     "metadata": {
      "needs_background": "light"
     },
     "output_type": "display_data"
    }
   ],
   "source": [
    "sns.lineplot(x=\"n\", y=\"distance\", data=df)\n",
    "sns.lineplot(x=\"n\", y=\"distance\", data=df_sqrt)\n",
    "sns.lineplot(x=\"n\", y=\"distance\", data=df_log)\n"
   ]
  },
  {
   "cell_type": "code",
   "execution_count": null,
   "metadata": {},
   "outputs": [],
   "source": []
  },
  {
   "cell_type": "code",
   "execution_count": 42,
   "metadata": {},
   "outputs": [],
   "source": [
    "alg4 = Algorithm(d=5, N=3000, M=1000)"
   ]
  },
  {
   "cell_type": "code",
   "execution_count": 43,
   "metadata": {},
   "outputs": [
    {
     "name": "stdout",
     "output_type": "stream",
     "text": [
      "PERTURBATION\n",
      "theta_bar = \n",
      "[ 25.18535637 -16.03467507 -57.36450153 -78.75351278  49.22258259]\n",
      "nu_bar =\n",
      "[ 66.30266101 -45.50865433 -90.80534987 -87.57405782  62.52976911]\n"
     ]
    },
    {
     "name": "stderr",
     "output_type": "stream",
     "text": [
      "/Users/anne/anaconda/envs/modal/lib/python3.7/site-packages/ipykernel_launcher.py:37: DeprecationWarning: object of type <class 'float'> cannot be safely interpreted as an integer.\n",
      "/Users/anne/anaconda/envs/modal/lib/python3.7/site-packages/ipykernel_launcher.py:33: DeprecationWarning: object of type <class 'float'> cannot be safely interpreted as an integer.\n"
     ]
    },
    {
     "name": "stdout",
     "output_type": "stream",
     "text": [
      "PERTURBATION\n",
      "OH\n",
      "theta_bar = \n",
      "[ 41.30266101 -20.50865433 -65.80534987 -62.57405782  87.52976911]\n",
      "nu_bar =\n",
      "[ 41.30266101 -20.50865433 -65.80534987 -62.57405782  87.52976911]\n",
      "PERTURBATION\n",
      "theta_bar = \n",
      "[ 16.30266101 -12.175321   -40.80534987 -37.57405782  62.52976911]\n",
      "nu_bar =\n",
      "[ 16.30266101 -20.50865433 -40.80534987 -37.57405782  62.52976911]\n",
      "PERTURBATION\n",
      "theta_bar = \n",
      "[ -8.69733899   4.49134567 -15.80534987 -12.57405782  37.52976911]\n",
      "nu_bar =\n",
      "[  3.80266101   4.49134567 -15.80534987 -12.57405782  37.52976911]\n"
     ]
    }
   ],
   "source": [
    "df = wassertein(alg4, 1, 1000,  theta_star=[0, 0, 0, 0, 0])"
   ]
  },
  {
   "cell_type": "code",
   "execution_count": 44,
   "metadata": {},
   "outputs": [
    {
     "name": "stderr",
     "output_type": "stream",
     "text": [
      "/Users/anne/anaconda/envs/modal/lib/python3.7/site-packages/ipykernel_launcher.py:3: RuntimeWarning: divide by zero encountered in double_scalars\n",
      "  This is separate from the ipykernel package so we can avoid doing imports until\n"
     ]
    }
   ],
   "source": [
    "df_sqrt = pd.DataFrame(columns=[\"n\", \"distance\"])\n",
    "df_sqrt[\"n\"] = np.unique(df[\"n\"])\n",
    "df_sqrt[\"distance\"] = [df[\"distance\"].iloc[0]/np.sqrt(i) for i in range(len(df_sqrt))]"
   ]
  },
  {
   "cell_type": "code",
   "execution_count": 45,
   "metadata": {},
   "outputs": [
    {
     "name": "stderr",
     "output_type": "stream",
     "text": [
      "/Users/anne/anaconda/envs/modal/lib/python3.7/site-packages/ipykernel_launcher.py:3: RuntimeWarning: divide by zero encountered in log\n",
      "  This is separate from the ipykernel package so we can avoid doing imports until\n"
     ]
    }
   ],
   "source": [
    "df_log = pd.DataFrame(columns=[\"n\", \"distance\"])\n",
    "df_log[\"n\"] = np.unique(df[\"n\"])\n",
    "df_log[\"distance\"] = [df[\"distance\"].iloc[0] * np.log(i)**((1 + alg4.epsilon)/2) / np.sqrt(i) for i in range(len(df_log))]"
   ]
  },
  {
   "cell_type": "code",
   "execution_count": 46,
   "metadata": {},
   "outputs": [
    {
     "data": {
      "text/plain": [
       "<matplotlib.axes._subplots.AxesSubplot at 0x1a1958b518>"
      ]
     },
     "execution_count": 46,
     "metadata": {},
     "output_type": "execute_result"
    },
    {
     "data": {
      "image/png": "[encoded data removed]",
      "text/plain": [
       "<Figure size 432x288 with 1 Axes>"
      ]
     },
     "metadata": {
      "needs_background": "light"
     },
     "output_type": "display_data"
    }
   ],
   "source": [
    "sns.lineplot(x=\"n\", y=\"distance\", data=df)\n",
    "sns.lineplot(x=\"n\", y=\"distance\", data=df_sqrt)\n",
    "sns.lineplot(x=\"n\", y=\"distance\", data=df_log)\n"
   ]
  },
  {
   "cell_type": "code",
   "execution_count": null,
   "metadata": {},
   "outputs": [],
   "source": []
  },
  {
   "cell_type": "code",
   "execution_count": 11,
   "metadata": {},
   "outputs": [],
   "source": [
    "alg4 = Algorithm(d=2, N=300, M=100)"
   ]
  },
  {
   "cell_type": "code",
   "execution_count": 12,
   "metadata": {},
   "outputs": [
    {
     "name": "stdout",
     "output_type": "stream",
     "text": [
      "PERTURBATION\n",
      "theta_bar = \n",
      "[-4.48686342 -2.73300799]\n",
      "nu_bar =\n",
      "[-16.30696979   0.70737473]\n",
      "PERTURBATION\n",
      "OH\n",
      "theta_bar = \n",
      "[-10.42491368  -1.00111338]\n",
      "nu_bar =\n",
      "[-10.42461685  -1.45980793]\n"
     ]
    },
    {
     "name": "stderr",
     "output_type": "stream",
     "text": [
      "/Users/anne/anaconda/envs/modal/lib/python3.7/site-packages/ipykernel_launcher.py:37: DeprecationWarning: object of type <class 'float'> cannot be safely interpreted as an integer.\n",
      "/Users/anne/anaconda/envs/modal/lib/python3.7/site-packages/ipykernel_launcher.py:33: DeprecationWarning: object of type <class 'float'> cannot be safely interpreted as an integer.\n"
     ]
    },
    {
     "name": "stdout",
     "output_type": "stream",
     "text": [
      "PERTURBATION\n",
      "OH\n",
      "theta_bar = \n",
      "[-4.54256074 -0.45734579]\n",
      "nu_bar =\n",
      "[-4.54226391 -0.53101536]\n",
      "PERTURBATION\n",
      "OH\n",
      "theta_bar = \n",
      "[-0.13079755 -0.37211235]\n",
      "nu_bar =\n",
      "[ 0.10169894 -0.22141783]\n"
     ]
    }
   ],
   "source": [
    "df = wassertein(alg4, 1, 1000,  theta_star=[0, 0])"
   ]
  },
  {
   "cell_type": "code",
   "execution_count": 13,
   "metadata": {},
   "outputs": [
    {
     "name": "stderr",
     "output_type": "stream",
     "text": [
      "/Users/anne/anaconda/envs/modal/lib/python3.7/site-packages/ipykernel_launcher.py:3: RuntimeWarning: divide by zero encountered in double_scalars\n",
      "  This is separate from the ipykernel package so we can avoid doing imports until\n"
     ]
    }
   ],
   "source": [
    "df_sqrt = pd.DataFrame(columns=[\"n\", \"distance\"])\n",
    "df_sqrt[\"n\"] = np.unique(df[\"n\"])\n",
    "df_sqrt[\"distance\"] = [df[\"distance\"].iloc[0]/np.sqrt(i) for i in range(len(df_sqrt))]"
   ]
  },
  {
   "cell_type": "code",
   "execution_count": 14,
   "metadata": {},
   "outputs": [
    {
     "name": "stderr",
     "output_type": "stream",
     "text": [
      "/Users/anne/anaconda/envs/modal/lib/python3.7/site-packages/ipykernel_launcher.py:3: RuntimeWarning: divide by zero encountered in log\n",
      "  This is separate from the ipykernel package so we can avoid doing imports until\n"
     ]
    }
   ],
   "source": [
    "df_log = pd.DataFrame(columns=[\"n\", \"distance\"])\n",
    "df_log[\"n\"] = np.unique(df[\"n\"])\n",
    "df_log[\"distance\"] = [df[\"distance\"].iloc[0] * np.log(i)**((1 + alg4.epsilon)/2) / np.sqrt(i) for i in range(len(df_log))]"
   ]
  },
  {
   "cell_type": "code",
   "execution_count": 15,
   "metadata": {},
   "outputs": [
    {
     "data": {
      "text/plain": [
       "<matplotlib.axes._subplots.AxesSubplot at 0x1a174534e0>"
      ]
     },
     "execution_count": 15,
     "metadata": {},
     "output_type": "execute_result"
    },
    {
     "data": {
      "image/png": "[encoded data removed]",
      "text/plain": [
       "<Figure size 432x288 with 1 Axes>"
      ]
     },
     "metadata": {
      "needs_background": "light"
     },
     "output_type": "display_data"
    }
   ],
   "source": [
    "sns.lineplot(x=\"n\", y=\"distance\", data=df)\n",
    "sns.lineplot(x=\"n\", y=\"distance\", data=df_sqrt)\n",
    "sns.lineplot(x=\"n\", y=\"distance\", data=df_log)\n"
   ]
  },
  {
   "cell_type": "code",
   "execution_count": null,
   "metadata": {},
   "outputs": [],
   "source": []
  },
  {
   "cell_type": "code",
   "execution_count": 21,
   "metadata": {},
   "outputs": [],
   "source": [
    "alg4 = Algorithm(d=3, N=1000, M=500)"
   ]
  },
  {
   "cell_type": "code",
   "execution_count": 22,
   "metadata": {},
   "outputs": [
    {
     "name": "stdout",
     "output_type": "stream",
     "text": [
      "PERTURBATION\n",
      "theta_bar = \n",
      "[-2.17256166 -0.26794238 -5.40524295]\n",
      "nu_bar =\n",
      "[  9.93840282 -17.73730066   4.8825926 ]\n"
     ]
    },
    {
     "name": "stderr",
     "output_type": "stream",
     "text": [
      "/Users/anne/anaconda/envs/modal/lib/python3.7/site-packages/ipykernel_launcher.py:37: DeprecationWarning: object of type <class 'float'> cannot be safely interpreted as an integer.\n",
      "/Users/anne/anaconda/envs/modal/lib/python3.7/site-packages/ipykernel_launcher.py:33: DeprecationWarning: object of type <class 'float'> cannot be safely interpreted as an integer.\n"
     ]
    },
    {
     "name": "stdout",
     "output_type": "stream",
     "text": [
      "PERTURBATION\n",
      "OH\n",
      "theta_bar = \n",
      "[ 2.3033527  -7.73730084  3.72186507]\n",
      "nu_bar =\n",
      "[ 1.93840282 -7.73730066  2.8825926 ]\n",
      "PERTURBATION\n",
      "theta_bar = \n",
      "[-0.1966473  -0.23730084 -1.26188587]\n",
      "nu_bar =\n",
      "[-0.06159718  0.26269934  0.8825926 ]\n",
      "PERTURBATION\n",
      "OH\n",
      "theta_bar = \n",
      "[-0.06159718  0.26269934  0.8825926 ]\n",
      "nu_bar =\n",
      "[-0.06159718  0.26269934  0.8825926 ]\n"
     ]
    }
   ],
   "source": [
    "df = wassertein(alg4, 1, 1000,  theta_star=[0, 0, 0])"
   ]
  },
  {
   "cell_type": "code",
   "execution_count": 23,
   "metadata": {},
   "outputs": [
    {
     "name": "stderr",
     "output_type": "stream",
     "text": [
      "/Users/anne/anaconda/envs/modal/lib/python3.7/site-packages/ipykernel_launcher.py:3: RuntimeWarning: divide by zero encountered in double_scalars\n",
      "  This is separate from the ipykernel package so we can avoid doing imports until\n"
     ]
    }
   ],
   "source": [
    "df_sqrt = pd.DataFrame(columns=[\"n\", \"distance\"])\n",
    "df_sqrt[\"n\"] = np.unique(df[\"n\"])\n",
    "df_sqrt[\"distance\"] = [df[\"distance\"].iloc[0]/np.sqrt(i) for i in range(len(df_sqrt))]"
   ]
  },
  {
   "cell_type": "code",
   "execution_count": 24,
   "metadata": {},
   "outputs": [
    {
     "name": "stderr",
     "output_type": "stream",
     "text": [
      "/Users/anne/anaconda/envs/modal/lib/python3.7/site-packages/ipykernel_launcher.py:3: RuntimeWarning: divide by zero encountered in log\n",
      "  This is separate from the ipykernel package so we can avoid doing imports until\n"
     ]
    }
   ],
   "source": [
    "df_log = pd.DataFrame(columns=[\"n\", \"distance\"])\n",
    "df_log[\"n\"] = np.unique(df[\"n\"])\n",
    "df_log[\"distance\"] = [df[\"distance\"].iloc[0] * np.log(i)**((1 + alg4.epsilon)/2) / np.sqrt(i) for i in range(len(df_log))]"
   ]
  },
  {
   "cell_type": "code",
   "execution_count": 25,
   "metadata": {},
   "outputs": [
    {
     "data": {
      "text/plain": [
       "<matplotlib.axes._subplots.AxesSubplot at 0x1a1b8e95c0>"
      ]
     },
     "execution_count": 25,
     "metadata": {},
     "output_type": "execute_result"
    },
    {
     "data": {
      "image/png": "[encoded data removed]",
      "text/plain": [
       "<Figure size 432x288 with 1 Axes>"
      ]
     },
     "metadata": {
      "needs_background": "light"
     },
     "output_type": "display_data"
    }
   ],
   "source": [
    "sns.lineplot(x=\"n\", y=\"distance\", data=df)\n",
    "sns.lineplot(x=\"n\", y=\"distance\", data=df_sqrt)\n",
    "sns.lineplot(x=\"n\", y=\"distance\", data=df_log)\n"
   ]
  },
  {
   "cell_type": "code",
   "execution_count": null,
   "metadata": {},
   "outputs": [],
   "source": []
  },
  {
   "cell_type": "code",
   "execution_count": null,
   "metadata": {},
   "outputs": [],
   "source": []
  },
  {
   "cell_type": "code",
   "execution_count": null,
   "metadata": {},
   "outputs": [],
   "source": []
  },
  {
   "cell_type": "code",
   "execution_count": null,
   "metadata": {},
   "outputs": [],
   "source": []
  },
  {
   "cell_type": "code",
   "execution_count": 29,
   "metadata": {},
   "outputs": [],
   "source": [
    "alg4 = Algorithm(d=2, N=300, M=100)"
   ]
  },
  {
   "cell_type": "code",
   "execution_count": 30,
   "metadata": {},
   "outputs": [
    {
     "name": "stdout",
     "output_type": "stream",
     "text": [
      "PERTURBATION\n",
      "theta_bar = \n",
      "[2.13333141 6.59242517]\n",
      "nu_bar =\n",
      "[ 3.06196537 -5.64435738]\n"
     ]
    },
    {
     "name": "stderr",
     "output_type": "stream",
     "text": [
      "/Users/anne/anaconda/envs/modal/lib/python3.7/site-packages/ipykernel_launcher.py:36: DeprecationWarning: object of type <class 'float'> cannot be safely interpreted as an integer.\n",
      "/Users/anne/anaconda/envs/modal/lib/python3.7/site-packages/ipykernel_launcher.py:32: DeprecationWarning: object of type <class 'float'> cannot be safely interpreted as an integer.\n"
     ]
    },
    {
     "name": "stdout",
     "output_type": "stream",
     "text": [
      "PERTURBATION\n",
      "OH\n",
      "theta_bar = \n",
      "[-0.47172879 -0.40486812]\n",
      "nu_bar =\n",
      "[-0.34360739 -0.38119948]\n",
      "PERTURBATION\n",
      "OH\n",
      "theta_bar = \n",
      "[0.24679887 0.65550901]\n",
      "nu_bar =\n",
      "[-0.03400987  0.54759309]\n",
      "PERTURBATION\n",
      "OH\n",
      "theta_bar = \n",
      "[-0.26918943  0.12345738]\n",
      "nu_bar =\n",
      "[-0.34360739  0.23799556]\n"
     ]
    }
   ],
   "source": [
    "df = wassertein(alg4, 1, 1000,  theta_star=[0, 0])"
   ]
  },
  {
   "cell_type": "code",
   "execution_count": 31,
   "metadata": {},
   "outputs": [
    {
     "name": "stderr",
     "output_type": "stream",
     "text": [
      "/Users/anne/anaconda/envs/modal/lib/python3.7/site-packages/ipykernel_launcher.py:3: RuntimeWarning: divide by zero encountered in double_scalars\n",
      "  This is separate from the ipykernel package so we can avoid doing imports until\n"
     ]
    }
   ],
   "source": [
    "df_sqrt = pd.DataFrame(columns=[\"n\", \"distance\"])\n",
    "df_sqrt[\"n\"] = np.unique(df[\"n\"])\n",
    "df_sqrt[\"distance\"] = [df[\"distance\"].iloc[0]/np.sqrt(i) for i in range(len(df_sqrt))]"
   ]
  },
  {
   "cell_type": "code",
   "execution_count": 32,
   "metadata": {},
   "outputs": [
    {
     "name": "stderr",
     "output_type": "stream",
     "text": [
      "/Users/anne/anaconda/envs/modal/lib/python3.7/site-packages/ipykernel_launcher.py:3: RuntimeWarning: divide by zero encountered in log\n",
      "  This is separate from the ipykernel package so we can avoid doing imports until\n"
     ]
    }
   ],
   "source": [
    "df_log = pd.DataFrame(columns=[\"n\", \"distance\"])\n",
    "df_log[\"n\"] = np.unique(df[\"n\"])\n",
    "df_log[\"distance\"] = [df[\"distance\"].iloc[0] * np.log(i)**((1 + alg4.epsilon)/2) / np.sqrt(i) for i in range(len(df_log))]"
   ]
  },
  {
   "cell_type": "code",
   "execution_count": 33,
   "metadata": {},
   "outputs": [
    {
     "data": {
      "text/plain": [
       "<matplotlib.axes._subplots.AxesSubplot at 0x1a21063d30>"
      ]
     },
     "execution_count": 33,
     "metadata": {},
     "output_type": "execute_result"
    },
    {
     "data": {
      "image/png": "[encoded data removed]",
      "text/plain": [
       "<Figure size 432x288 with 1 Axes>"
      ]
     },
     "metadata": {
      "needs_background": "light"
     },
     "output_type": "display_data"
    }
   ],
   "source": [
    "sns.lineplot(x=\"n\", y=\"distance\", data=df)\n",
    "sns.lineplot(x=\"n\", y=\"distance\", data=df_sqrt)\n",
    "sns.lineplot(x=\"n\", y=\"distance\", data=df_log)\n"
   ]
  },
  {
   "cell_type": "code",
   "execution_count": 24,
   "metadata": {},
   "outputs": [],
   "source": [
    "alg4 = Algorithm(d=3, N=1000, M=500)"
   ]
  },
  {
   "cell_type": "code",
   "execution_count": 25,
   "metadata": {},
   "outputs": [
    {
     "name": "stdout",
     "output_type": "stream",
     "text": [
      "PERTURBATION\n",
      "theta_bar = \n",
      "[-4.68284984  1.48466512 -5.28230479]\n",
      "nu_bar =\n",
      "[-7.17757801 -4.79281839 -2.02234608]\n"
     ]
    },
    {
     "name": "stderr",
     "output_type": "stream",
     "text": [
      "/Users/anne/anaconda/envs/modal/lib/python3.7/site-packages/ipykernel_launcher.py:36: DeprecationWarning: object of type <class 'float'> cannot be safely interpreted as an integer.\n",
      "/Users/anne/anaconda/envs/modal/lib/python3.7/site-packages/ipykernel_launcher.py:32: DeprecationWarning: object of type <class 'float'> cannot be safely interpreted as an integer.\n"
     ]
    },
    {
     "name": "stdout",
     "output_type": "stream",
     "text": [
      "PERTURBATION\n",
      "OH\n",
      "theta_bar = \n",
      "[1.8020323  0.50423737 0.4056679 ]\n",
      "nu_bar =\n",
      "[ 0.82242199  1.20718161 -0.02234608]\n",
      "PERTURBATION\n",
      "OH\n",
      "theta_bar = \n",
      "[-0.69794073  0.50423633  0.40566739]\n",
      "nu_bar =\n",
      "[-1.17757801 -0.79281839 -0.02234608]\n",
      "PERTURBATION\n",
      "OH\n",
      "theta_bar = \n",
      "[0.05553289 0.50423633 0.40566739]\n",
      "nu_bar =\n",
      "[ 0.82242199 -0.79281839 -0.02234608]\n"
     ]
    }
   ],
   "source": [
    "df = wassertein(alg4, 1, 1000,  theta_star=[0, 0, 0])"
   ]
  },
  {
   "cell_type": "code",
   "execution_count": 26,
   "metadata": {},
   "outputs": [
    {
     "name": "stderr",
     "output_type": "stream",
     "text": [
      "/Users/anne/anaconda/envs/modal/lib/python3.7/site-packages/ipykernel_launcher.py:3: RuntimeWarning: divide by zero encountered in double_scalars\n",
      "  This is separate from the ipykernel package so we can avoid doing imports until\n"
     ]
    }
   ],
   "source": [
    "df_sqrt = pd.DataFrame(columns=[\"n\", \"distance\"])\n",
    "df_sqrt[\"n\"] = np.unique(df[\"n\"])\n",
    "df_sqrt[\"distance\"] = [df[\"distance\"].iloc[0]/np.sqrt(i) for i in range(len(df_sqrt))]"
   ]
  },
  {
   "cell_type": "code",
   "execution_count": 27,
   "metadata": {},
   "outputs": [
    {
     "name": "stderr",
     "output_type": "stream",
     "text": [
      "/Users/anne/anaconda/envs/modal/lib/python3.7/site-packages/ipykernel_launcher.py:3: RuntimeWarning: divide by zero encountered in log\n",
      "  This is separate from the ipykernel package so we can avoid doing imports until\n"
     ]
    }
   ],
   "source": [
    "df_log = pd.DataFrame(columns=[\"n\", \"distance\"])\n",
    "df_log[\"n\"] = np.unique(df[\"n\"])\n",
    "df_log[\"distance\"] = [df[\"distance\"].iloc[0] * np.log(i)**((1 + alg4.epsilon)/2) / np.sqrt(i) for i in range(len(df_log))]"
   ]
  },
  {
   "cell_type": "code",
   "execution_count": 28,
   "metadata": {},
   "outputs": [
    {
     "data": {
      "text/plain": [
       "<matplotlib.axes._subplots.AxesSubplot at 0x1a210cc198>"
      ]
     },
     "execution_count": 28,
     "metadata": {},
     "output_type": "execute_result"
    },
    {
     "data": {
      "image/png": "[encoded data removed]",
      "text/plain": [
       "<Figure size 432x288 with 1 Axes>"
      ]
     },
     "metadata": {
      "needs_background": "light"
     },
     "output_type": "display_data"
    }
   ],
   "source": [
    "sns.lineplot(x=\"n\", y=\"distance\", data=df)\n",
    "sns.lineplot(x=\"n\", y=\"distance\", data=df_sqrt)\n",
    "sns.lineplot(x=\"n\", y=\"distance\", data=df_log)\n"
   ]
  },
  {
   "cell_type": "markdown",
   "metadata": {},
   "source": [
    "## Convergence presque-sûr"
   ]
  },
  {
   "cell_type": "code",
   "execution_count": 33,
   "metadata": {},
   "outputs": [],
   "source": [
    "def check_concentration(alg, speed, N_samples_for_estimation, n, step=30, number_of_trials_per_step=10, theta_star=0, aux=True):\n",
    "    df = pd.DataFrame(columns=[\"n\", \"proba\"])\n",
    "    for trial in range(number_of_trials_per_step):\n",
    "        if aux:\n",
    "            list_of_support, list_of_distrib = alg.run(n, theta_star)\n",
    "        else:\n",
    "            list_of_support, list_of_distrib = alg.run_without_aux(n, theta_star)\n",
    "        for i in range(1, n, step): # begins at 3 because we remove 2 lines\n",
    "            support = list_of_support[i]\n",
    "            distrib = list_of_distrib[i]\n",
    "            count_inside_ball = 0\n",
    "            for k in range(N_samples_for_estimation):\n",
    "                count_inside_ball += np.linalg.norm(np.random.choice(support, p=distrib) - theta_star)< 1 / speed(i)\n",
    "            df2 = pd.DataFrame([[i, count_inside_ball / N_samples_for_estimation]],columns=['n', 'proba'])\n",
    "            df = pd.concat([df,df2])\n",
    "    sns.barplot(x='n', y=\"proba\", data = df)"
   ]
  },
  {
   "cell_type": "code",
   "execution_count": 34,
   "metadata": {},
   "outputs": [],
   "source": [
    "alg2 = Algorithm()"
   ]
  },
  {
   "cell_type": "code",
   "execution_count": 42,
   "metadata": {},
   "outputs": [
    {
     "name": "stderr",
     "output_type": "stream",
     "text": [
      "/Users/anne/anaconda/envs/modal/lib/python3.7/site-packages/ipykernel_launcher.py:13: RuntimeWarning: divide by zero encountered in double_scalars\n",
      "  del sys.path[0]\n",
      "/Users/anne/anaconda/envs/modal/lib/python3.7/site-packages/scipy/stats/stats.py:1713: FutureWarning: Using a non-tuple sequence for multidimensional indexing is deprecated; use `arr[tuple(seq)]` instead of `arr[seq]`. In the future this will be interpreted as an array index, `arr[np.array(seq)]`, which will result either in an error or a different result.\n",
      "  return np.add.reduce(sorted[indexer] * weights, axis=axis) / sumval\n"
     ]
    },
    {
     "data": {
      "image/png": "[encoded data removed]",
      "text/plain": [
       "<Figure size 432x288 with 1 Axes>"
      ]
     },
     "metadata": {
      "needs_background": "light"
     },
     "output_type": "display_data"
    }
   ],
   "source": [
    "step = 500\n",
    "n = 10000\n",
    "N_samples_for_estimation = 30\n",
    "number_of_trials_per_step = 20\n",
    "check_concentration(alg2, lambda x:0.1*np.log(x), 1000, n=n, step=step, number_of_trials_per_step=number_of_trials_per_step);"
   ]
  },
  {
   "cell_type": "code",
   "execution_count": 43,
   "metadata": {},
   "outputs": [
    {
     "name": "stderr",
     "output_type": "stream",
     "text": [
      "/Users/anne/anaconda/envs/modal/lib/python3.7/site-packages/scipy/stats/stats.py:1713: FutureWarning: Using a non-tuple sequence for multidimensional indexing is deprecated; use `arr[tuple(seq)]` instead of `arr[seq]`. In the future this will be interpreted as an array index, `arr[np.array(seq)]`, which will result either in an error or a different result.\n",
      "  return np.add.reduce(sorted[indexer] * weights, axis=axis) / sumval\n"
     ]
    },
    {
     "data": {
      "image/png": "[encoded data removed]",
      "text/plain": [
       "<Figure size 432x288 with 1 Axes>"
      ]
     },
     "metadata": {
      "needs_background": "light"
     },
     "output_type": "display_data"
    }
   ],
   "source": [
    "step = 500\n",
    "n = 10000\n",
    "N_samples_for_estimation = 30\n",
    "number_of_trials_per_step = 20\n",
    "check_concentration(alg2, lambda x:0.1*np.sqrt(x), 1000, n=n, step=step, number_of_trials_per_step=number_of_trials_per_step);"
   ]
  },
  {
   "cell_type": "code",
   "execution_count": 44,
   "metadata": {},
   "outputs": [
    {
     "name": "stderr",
     "output_type": "stream",
     "text": [
      "/Users/anne/anaconda/envs/modal/lib/python3.7/site-packages/scipy/stats/stats.py:1713: FutureWarning: Using a non-tuple sequence for multidimensional indexing is deprecated; use `arr[tuple(seq)]` instead of `arr[seq]`. In the future this will be interpreted as an array index, `arr[np.array(seq)]`, which will result either in an error or a different result.\n",
      "  return np.add.reduce(sorted[indexer] * weights, axis=axis) / sumval\n"
     ]
    },
    {
     "data": {
      "image/png": "[encoded data removed]",
      "text/plain": [
       "<Figure size 432x288 with 1 Axes>"
      ]
     },
     "metadata": {
      "needs_background": "light"
     },
     "output_type": "display_data"
    }
   ],
   "source": [
    "step = 500\n",
    "n = 10000\n",
    "N_samples_for_estimation = 30\n",
    "number_of_trials_per_step = 20\n",
    "check_concentration(alg2, lambda x:0.1*x, 1000, n=n, step=step, number_of_trials_per_step=number_of_trials_per_step);"
   ]
  },
  {
   "cell_type": "code",
   "execution_count": null,
   "metadata": {},
   "outputs": [],
   "source": []
  }
 ],
 "metadata": {
  "kernelspec": {
   "display_name": "Python 3",
   "language": "python",
   "name": "python3"
  },
  "language_info": {
   "codemirror_mode": {
    "name": "ipython",
    "version": 3
   },
   "file_extension": ".py",
   "mimetype": "text/x-python",
   "name": "python",
   "nbconvert_exporter": "python",
   "pygments_lexer": "ipython3",
   "version": "3.7.0"
  }
 },
 "nbformat": 4,
 "nbformat_minor": 2
}
