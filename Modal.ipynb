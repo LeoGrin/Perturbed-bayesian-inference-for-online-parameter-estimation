{
 "cells": [
  {
   "cell_type": "code",
   "execution_count": 9,
   "metadata": {},
   "outputs": [],
   "source": [
    "import numpy as np\n",
    "import matplotlib.pyplot as plt\n",
    "import seaborn as sns\n",
    "import pandas as pd"
   ]
  },
  {
   "cell_type": "code",
   "execution_count": 2,
   "metadata": {},
   "outputs": [],
   "source": [
    "#initalisation of parameters\n",
    "sig_ep = 1 # sigma of epsilon (noise standard error)\n",
    "sig_beta = 10\n",
    "N = 5 # number of samples\n",
    "d = 2 # dimension of beta\n",
    "Beta_star = sig_beta*np.random.randn(d) #real value of Beta"
   ]
  },
  {
   "cell_type": "code",
   "execution_count": 3,
   "metadata": {},
   "outputs": [],
   "source": [
    "# First part: generation of samples\n",
    "# funtion for generating N samples\n",
    "def generate_samples(sig_ep, N, d, Beta):\n",
    "    X = np.random.randn(N, d, d)\n",
    "    #X = np.vstack((X, np.ones((2, d, d))))\n",
    "    #X = np.ones((N, d, d))\n",
    "    Y = np.dot(X,Beta) + sig_ep*np.random.randn(N, d)\n",
    "    return(X,Y)\n",
    "\n",
    "# Obtained Samples\n",
    "[X, Y] = generate_samples(sig_ep, N, d,Beta_star)"
   ]
  },
  {
   "cell_type": "code",
   "execution_count": 4,
   "metadata": {},
   "outputs": [],
   "source": [
    "# second part: calculate Beta from samples\n",
    "def calculate_posterior_beta(X, Y, d, N):\n",
    "    X = np.reshape(X, (N*d, d))\n",
    "    A = np.vstack((np.hstack((np.identity(N*d),X)),np.hstack((np.zeros([d,N*d]),np.identity(d)))))\n",
    "    A = np.mat(A)\n",
    "\n",
    "    SIG_ep_Beta = np.zeros((N * d + d, N * d + d))\n",
    "    SIG_ep_Beta[0:N * d][:,0:N * d] = sig_ep*np.identity(N*d)\n",
    "    SIG_ep_Beta[N * d:][:,N * d:N * d + d] = sig_beta*np.identity(d)\n",
    "    \n",
    "    \n",
    "    SIG_Y_Beta = A*np.mat(SIG_ep_Beta)*np.transpose(A)\n",
    "        \n",
    "    SIG_Y = SIG_Y_Beta[0:N * d][:,0:N * d]\n",
    "        \n",
    "    SIG_beta = SIG_Y_Beta[N * d:SIG_Y_Beta.shape[0]][:,N * d:SIG_Y_Beta.shape[1]]\n",
    "    \n",
    "    SIG_Y_beta = SIG_Y_Beta[0:N * d][:,N * d:SIG_Y_Beta.shape[1]]\n",
    "    \n",
    "    SIG_beta_Y = SIG_Y_Beta[N * d:SIG_Y_Beta.shape[0]][:,0:N * d]\n",
    "    \n",
    "    \n",
    "    posteriorMeanBeta = 0 + np.dot(np.dot(SIG_beta_Y, np.linalg.inv(SIG_Y)), Y.reshape(N * d))\n",
    "    posteriorMeanBeta = np.array(posteriorMeanBeta).reshape(-1)\n",
    "\n",
    "    posteriorCovBeta = SIG_beta - np.dot(SIG_beta_Y, np.dot(np.linalg.inv(SIG_Y), SIG_Y_beta))\n",
    "    \n",
    "    return posteriorMeanBeta, posteriorCovBeta"
   ]
  },
  {
   "cell_type": "code",
   "execution_count": 5,
   "metadata": {},
   "outputs": [],
   "source": []
  },
  {
   "cell_type": "code",
   "execution_count": 89,
   "metadata": {},
   "outputs": [],
   "source": [
    "#initalisation of parameters\n",
    "sig_ep = 1 # sigma of epsilon (noise standard error) # careful if changed\n",
    "sig_beta = 10\n",
    "N = 5 # number of samples\n",
    "d = 2 # dimension of beta\n",
    "Beta_star = sig_beta*np.random.randn(d) #real value of Beta"
   ]
  },
  {
   "cell_type": "code",
   "execution_count": 90,
   "metadata": {},
   "outputs": [],
   "source": [
    "# First part: generation of samples\n",
    "# funtion for generating N samples\n",
    "def generate_samples(sig_ep, N, d, Beta):\n",
    "    X = np.random.randn(N, d)\n",
    "    #X = np.vstack((X, np.ones((2, d, d))))\n",
    "    #X = np.ones((N, d, d))\n",
    "    Y = np.dot(X,Beta) + sig_ep*np.random.randn(N)\n",
    "    return(X,Y)\n",
    "\n",
    "# Obtained Samples\n",
    "[X, Y] = generate_samples(sig_ep, N, d,Beta_star)"
   ]
  },
  {
   "cell_type": "code",
   "execution_count": 100,
   "metadata": {},
   "outputs": [],
   "source": [
    "# second part: calculate Beta from samples\n",
    "def calculate_posterior_beta(X, Y, d, N):\n",
    "    \n",
    "    A = np.hstack((np.vstack((np.identity(N),np.zeros((d, N)))),np.vstack((X,np.identity(d)))))\n",
    "    A = np.mat(A)\n",
    "\n",
    "    SIG_0 = np.identity(N + d) # we suppose Var(eps)=1 and Var(B) = Id \n",
    "    \n",
    "    \n",
    "    SIG = A*np.mat(SIG_0)*np.transpose(A)\n",
    "        \n",
    "    SIG_Y = SIG[0:N ][:,0:N]\n",
    "        \n",
    "    SIG_beta = SIG[N :SIG.shape[0]][:,N:SIG.shape[1]]\n",
    "    \n",
    "    SIG_Y_beta = SIG[0:N][:,N:SIG.shape[1]]\n",
    "    \n",
    "    SIG_beta_Y = SIG[N:SIG.shape[0]][:,0:N]\n",
    "    \n",
    "    \n",
    "    posteriorMeanBeta = 0 + np.dot(np.dot(SIG_beta_Y, np.linalg.inv(SIG_Y)), Y)\n",
    "\n",
    "    posteriorCovBeta = SIG_beta - np.dot(SIG_beta_Y, np.dot(np.linalg.inv(SIG_Y), SIG_Y_beta))\n",
    "    \n",
    "    return np.array(posteriorMeanBeta).reshape(-1), posteriorCovBeta"
   ]
  },
  {
   "cell_type": "code",
   "execution_count": 101,
   "metadata": {},
   "outputs": [],
   "source": [
    "posteriorMeanBeta, posteriorCovBeta = calculate_posterior_beta(X, Y, d, N)"
   ]
  },
  {
   "cell_type": "markdown",
   "metadata": {},
   "source": [
    "## Concentration pour la convergence presque sur"
   ]
  },
  {
   "cell_type": "code",
   "execution_count": 104,
   "metadata": {},
   "outputs": [],
   "source": [
    "def check_concentration(speed, N_samples_for_estimation, n, d, sig_ep, sig_beta, step=30, number_of_trials_per_step=10):\n",
    "    df = pd.DataFrame(columns=[\"n\", \"proba\"])\n",
    "    Beta_star = sig_beta*np.random.randn(d) #real value of Beta\n",
    "    for trial in range(number_of_trials_per_step):\n",
    "        for i in range(3, n, step): # begins at 3 because we remove 2 lines\n",
    "            [X, Y] = generate_samples(sig_ep, i, d,Beta_star)\n",
    "            posteriorMeanBeta, posteriorCovBeta = calculate_posterior_beta(X, Y, d, i)\n",
    "            count_inside_ball = 0\n",
    "            for k in range(N_samples_for_estimation):\n",
    "                count_inside_ball += np.linalg.norm(np.random.multivariate_normal(posteriorMeanBeta, posteriorCovBeta) - Beta_star)< 1 / speed(i)\n",
    "            df2 = pd.DataFrame([[i, count_inside_ball / N_samples_for_estimation]],columns=['n', 'proba'])\n",
    "            df = pd.concat([df,df2])\n",
    "    sns.barplot(x='n', y=\"proba\", data = df)"
   ]
  },
  {
   "cell_type": "code",
   "execution_count": 108,
   "metadata": {},
   "outputs": [
    {
     "name": "stderr",
     "output_type": "stream",
     "text": [
      "/Users/anne/anaconda/envs/modal/lib/python3.7/site-packages/scipy/stats/stats.py:1713: FutureWarning: Using a non-tuple sequence for multidimensional indexing is deprecated; use `arr[tuple(seq)]` instead of `arr[seq]`. In the future this will be interpreted as an array index, `arr[np.array(seq)]`, which will result either in an error or a different result.\n",
      "  return np.add.reduce(sorted[indexer] * weights, axis=axis) / sumval\n"
     ]
    },
    {
     "data": {
      "image/png": "[encoded data removed]",
      "text/plain": [
       "<Figure size 432x288 with 1 Axes>"
      ]
     },
     "metadata": {
      "needs_background": "light"
     },
     "output_type": "display_data"
    }
   ],
   "source": [
    "step = 100\n",
    "n = 2000\n",
    "N_samples_for_estimation = 30\n",
    "number_of_trials_per_step = 20\n",
    "check_concentration(lambda x:np.log(x), 1000, n=n, d=5, sig_ep=1, sig_beta=10, step=step, number_of_trials_per_step=number_of_trials_per_step);"
   ]
  },
  {
   "cell_type": "code",
   "execution_count": 53,
   "metadata": {},
   "outputs": [
    {
     "name": "stderr",
     "output_type": "stream",
     "text": [
      "/Users/anne/anaconda/envs/modal/lib/python3.7/site-packages/scipy/stats/stats.py:1713: FutureWarning: Using a non-tuple sequence for multidimensional indexing is deprecated; use `arr[tuple(seq)]` instead of `arr[seq]`. In the future this will be interpreted as an array index, `arr[np.array(seq)]`, which will result either in an error or a different result.\n",
      "  return np.add.reduce(sorted[indexer] * weights, axis=axis) / sumval\n"
     ]
    },
    {
     "data": {
      "image/png": "[encoded data removed]",
      "text/plain": [
       "<Figure size 432x288 with 1 Axes>"
      ]
     },
     "metadata": {
      "needs_background": "light"
     },
     "output_type": "display_data"
    }
   ],
   "source": [
    "step = 50\n",
    "n = 500\n",
    "N_samples_for_estimation = 1000\n",
    "number_of_trials_per_step = 10\n",
    "check_concentration(lambda x:np.exp(np.log(x)/3), 1000, n=n, d=5, sig_ep=1, sig_beta=10, step=step, number_of_trials_per_step=10);"
   ]
  },
  {
   "cell_type": "code",
   "execution_count": null,
   "metadata": {},
   "outputs": [],
   "source": [
    "step = 50\n",
    "n = 500\n",
    "N_samples_for_estimation = 1000\n",
    "number_of_trials_per_step = 10\n",
    "check_concentration(np.sqrt, 1000, n=n, d=5, sig_ep=1, sig_beta=10, step=step, number_of_trials_per_step=10);"
   ]
  },
  {
   "cell_type": "code",
   "execution_count": null,
   "metadata": {},
   "outputs": [],
   "source": [
    "step = 50\n",
    "n = 500\n",
    "N_samples_for_estimation = 1000\n",
    "number_of_trials_per_step = 10\n",
    "check_concentration(lambda x:np.exp(2 * np.log(x)/3), 1000, n=n, d=5, sig_ep=1, sig_beta=10, step=step, number_of_trials_per_step=10);"
   ]
  },
  {
   "cell_type": "code",
   "execution_count": 11,
   "metadata": {},
   "outputs": [
    {
     "data": {
      "text/plain": [
       "[<matplotlib.lines.Line2D at 0x119aedf98>]"
      ]
     },
     "execution_count": 11,
     "metadata": {},
     "output_type": "execute_result"
    },
    {
     "data": {
      "image/png": "[encoded data removed]",
      "text/plain": [
       "<Figure size 432x288 with 1 Axes>"
      ]
     },
     "metadata": {
      "needs_background": "light"
     },
     "output_type": "display_data"
    }
   ],
   "source": [
    "step = 50\n",
    "n = 500\n",
    "plt.plot([30 * i for i in range(n // step)], check_concentration(lambda x:x, 1000, n=n, d=5, sig_ep=1, sig_beta=10, step=step))"
   ]
  },
  {
   "cell_type": "code",
   "execution_count": 14,
   "metadata": {},
   "outputs": [],
   "source": [
    "def plot_ball(speed, N_samples_for_estimation, n, d, sig_ep, sig_beta):\n",
    "    Beta_star = sig_beta*np.random.randn(d) #real value of Beta\n",
    "    [X, Y] = generate_samples(sig_ep, n, d,Beta_star)\n",
    "    \n",
    "    posteriorMeanBeta, posteriorCovBeta = calculate_posterior_beta(X, Y, d, n)\n",
    "    \n",
    "    ax=plt.subplot(aspect='equal')\n",
    "    plt.scatter(Beta_star[0], Beta_star[1], c=\"red\")\n",
    "    for i in range(N_samples_for_estimation):\n",
    "        sample = np.random.multivariate_normal(posteriorMeanBeta, posteriorCovBeta)\n",
    "        plt.scatter(sample[0], sample[1], c=\"blue\")\n",
    "    circle = plt.Circle(Beta_star, 1/speed(n), fill=False)\n",
    "    ax.add_artist(circle)"
   ]
  },
  {
   "cell_type": "code",
   "execution_count": 17,
   "metadata": {},
   "outputs": [
    {
     "data": {
      "image/png": "[encoded data removed]",
      "text/plain": [
       "<Figure size 432x288 with 1 Axes>"
      ]
     },
     "metadata": {
      "needs_background": "light"
     },
     "output_type": "display_data"
    }
   ],
   "source": [
    "plot_ball(np.log, 100, 1000, 2, 1, 10)"
   ]
  },
  {
   "cell_type": "markdown",
   "metadata": {},
   "source": [
    "## Concentration pour la convergence en proba"
   ]
  },
  {
   "cell_type": "code",
   "execution_count": 593,
   "metadata": {},
   "outputs": [],
   "source": []
  },
  {
   "cell_type": "code",
   "execution_count": 595,
   "metadata": {},
   "outputs": [
    {
     "name": "stderr",
     "output_type": "stream",
     "text": [
      "/Users/anne/anaconda/envs/modal/lib/python3.7/site-packages/ipykernel_launcher.py:12: RuntimeWarning: divide by zero encountered in double_scalars\n",
      "  if sys.path[0] == '':\n"
     ]
    },
    {
     "name": "stdout",
     "output_type": "stream",
     "text": [
      "199\n"
     ]
    },
    {
     "data": {
      "text/plain": [
       "[<matplotlib.lines.Line2D at 0x11a4a21d0>]"
      ]
     },
     "execution_count": 595,
     "metadata": {},
     "output_type": "execute_result"
    },
    {
     "data": {
      "image/png": "[encoded data removed]",
      "text/plain": [
       "<Figure size 432x288 with 1 Axes>"
      ]
     },
     "metadata": {
      "needs_background": "light"
     },
     "output_type": "display_data"
    }
   ],
   "source": [
    "plt.plot(check_concentration_proba_convergence(np.log, 15, 100, 200, 5, 1, 10, 0.1))"
   ]
  },
  {
   "cell_type": "code",
   "execution_count": null,
   "metadata": {},
   "outputs": [],
   "source": []
  },
  {
   "cell_type": "code",
   "execution_count": null,
   "metadata": {},
   "outputs": [],
   "source": []
  },
  {
   "cell_type": "code",
   "execution_count": null,
   "metadata": {},
   "outputs": [],
   "source": []
  },
  {
   "cell_type": "code",
   "execution_count": null,
   "metadata": {},
   "outputs": [],
   "source": []
  },
  {
   "cell_type": "code",
   "execution_count": 1,
   "metadata": {},
   "outputs": [
    {
     "ename": "ModuleNotFoundError",
     "evalue": "No module named 'pystan'",
     "output_type": "error",
     "traceback": [
      "\u001b[0;31m---------------------------------------------------------------------------\u001b[0m",
      "\u001b[0;31mModuleNotFoundError\u001b[0m                       Traceback (most recent call last)",
      "\u001b[0;32m<ipython-input-1-ca8618bb8e4a>\u001b[0m in \u001b[0;36m<module>\u001b[0;34m\u001b[0m\n\u001b[0;32m----> 1\u001b[0;31m \u001b[0;32mimport\u001b[0m \u001b[0mpystan\u001b[0m\u001b[0;34m\u001b[0m\u001b[0;34m\u001b[0m\u001b[0m\n\u001b[0m",
      "\u001b[0;31mModuleNotFoundError\u001b[0m: No module named 'pystan'"
     ]
    }
   ],
   "source": [
    "import pystan"
   ]
  },
  {
   "cell_type": "code",
   "execution_count": 6,
   "metadata": {},
   "outputs": [
    {
     "ename": "AttributeError",
     "evalue": "module 'pystan' has no attribute 'StanModel'",
     "output_type": "error",
     "traceback": [
      "\u001b[0;31m---------------------------------------------------------------------------\u001b[0m",
      "\u001b[0;31mAttributeError\u001b[0m                            Traceback (most recent call last)",
      "\u001b[0;32m<ipython-input-6-25aa85272b50>\u001b[0m in \u001b[0;36m<module>\u001b[0;34m\u001b[0m\n\u001b[1;32m     24\u001b[0m                'sigma': [15, 10, 16, 11,  9, 11, 10, 18]}\n\u001b[1;32m     25\u001b[0m \u001b[0;34m\u001b[0m\u001b[0m\n\u001b[0;32m---> 26\u001b[0;31m \u001b[0msm\u001b[0m \u001b[0;34m=\u001b[0m \u001b[0mpystan\u001b[0m\u001b[0;34m.\u001b[0m\u001b[0mStanModel\u001b[0m\u001b[0;34m(\u001b[0m\u001b[0mmodel_code\u001b[0m\u001b[0;34m=\u001b[0m\u001b[0mschools_code\u001b[0m\u001b[0;34m)\u001b[0m\u001b[0;34m\u001b[0m\u001b[0;34m\u001b[0m\u001b[0m\n\u001b[0m\u001b[1;32m     27\u001b[0m \u001b[0mfit\u001b[0m \u001b[0;34m=\u001b[0m \u001b[0msm\u001b[0m\u001b[0;34m.\u001b[0m\u001b[0msampling\u001b[0m\u001b[0;34m(\u001b[0m\u001b[0mdata\u001b[0m\u001b[0;34m=\u001b[0m\u001b[0mschools_dat\u001b[0m\u001b[0;34m,\u001b[0m \u001b[0miter\u001b[0m\u001b[0;34m=\u001b[0m\u001b[0;36m1000\u001b[0m\u001b[0;34m,\u001b[0m \u001b[0mchains\u001b[0m\u001b[0;34m=\u001b[0m\u001b[0;36m4\u001b[0m\u001b[0;34m)\u001b[0m\u001b[0;34m\u001b[0m\u001b[0;34m\u001b[0m\u001b[0m\n",
      "\u001b[0;31mAttributeError\u001b[0m: module 'pystan' has no attribute 'StanModel'"
     ]
    }
   ],
   "source": [
    "schools_code = \"\"\"\n",
    "data {\n",
    "    int<lower=0> J; // number of schools\n",
    "    vector[J] y; // estimated treatment effects\n",
    "    vector<lower=0>[J] sigma; // s.e. of effect estimates\n",
    "}\n",
    "parameters {\n",
    "    real mu;\n",
    "    real<lower=0> tau;\n",
    "    vector[J] eta;\n",
    "}\n",
    "transformed parameters {\n",
    "    vector[J] theta;\n",
    "    theta = mu + tau * eta;\n",
    "}\n",
    "model {\n",
    "    eta ~ normal(0, 1);\n",
    "    y ~ normal(theta, sigma);\n",
    "}\n",
    "\"\"\"\n",
    "\n",
    "schools_dat = {'J': 8,\n",
    "               'y': [28,  8, -3,  7, -1,  1, 18, 12],\n",
    "               'sigma': [15, 10, 16, 11,  9, 11, 10, 18]}\n",
    "\n",
    "sm = pystan.StanModel(model_code=schools_code)\n",
    "fit = sm.sampling(data=schools_dat, iter=1000, chains=4)"
   ]
  },
  {
   "cell_type": "code",
   "execution_count": 22,
   "metadata": {},
   "outputs": [],
   "source": [
    "import sys"
   ]
  },
  {
   "cell_type": "code",
   "execution_count": 24,
   "metadata": {},
   "outputs": [
    {
     "data": {
      "text/plain": [
       "'3.7.0 (default, Jun 28 2018, 07:39:16) \\n[Clang 4.0.1 (tags/RELEASE_401/final)]'"
      ]
     },
     "execution_count": 24,
     "metadata": {},
     "output_type": "execute_result"
    }
   ],
   "source": [
    "sys.version"
   ]
  },
  {
   "cell_type": "code",
   "execution_count": null,
   "metadata": {},
   "outputs": [],
   "source": []
  }
 ],
 "metadata": {
  "kernelspec": {
   "display_name": "Python 3",
   "language": "python",
   "name": "python3"
  },
  "language_info": {
   "codemirror_mode": {
    "name": "ipython",
    "version": 3
   },
   "file_extension": ".py",
   "mimetype": "text/x-python",
   "name": "python",
   "nbconvert_exporter": "python",
   "pygments_lexer": "ipython3",
   "version": "3.7.0"
  }
 },
 "nbformat": 4,
 "nbformat_minor": 2
}
