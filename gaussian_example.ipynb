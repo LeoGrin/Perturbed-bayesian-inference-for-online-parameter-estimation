{
 "cells": [
  {
   "cell_type": "code",
   "execution_count": 1,
   "metadata": {},
   "outputs": [],
   "source": [
    "import numpy as np\n",
    "import matplotlib.pyplot as plt\n",
    "import seaborn as sns\n",
    "import pandas as pd"
   ]
  },
  {
   "cell_type": "markdown",
   "metadata": {},
   "source": [
    "# $\\varepsilon_i$ of dim > 1"
   ]
  },
  {
   "cell_type": "code",
   "execution_count": 2,
   "metadata": {},
   "outputs": [],
   "source": [
    "#initalisation of parameters\n",
    "sig_ep = 1 # sigma of epsilon (noise standard error)\n",
    "sig_beta = 10\n",
    "N = 5 # number of samples\n",
    "d = 2 # dimension of beta\n",
    "Beta_star = sig_beta*np.random.randn(d) #real value of Beta"
   ]
  },
  {
   "cell_type": "code",
   "execution_count": 3,
   "metadata": {},
   "outputs": [],
   "source": [
    "# First part: generation of samples\n",
    "# funtion for generating N samples\n",
    "def generate_samples(sig_ep, N, d, Beta):\n",
    "    X = np.random.randn(N, d, d)\n",
    "    #X = np.vstack((X, np.ones((2, d, d))))\n",
    "    #X = np.ones((N, d, d))\n",
    "    Y = np.dot(X,Beta) + sig_ep*np.random.randn(N, d)\n",
    "    return(X,Y)\n",
    "\n",
    "# Obtained Samples\n",
    "[X, Y] = generate_samples(sig_ep, N, d,Beta_star)"
   ]
  },
  {
   "cell_type": "code",
   "execution_count": 4,
   "metadata": {},
   "outputs": [],
   "source": [
    "# second part: calculate Beta from samples\n",
    "def calculate_posterior_beta(X, Y, d, N):\n",
    "    X = np.reshape(X, (N*d, d))\n",
    "    A = np.vstack((np.hstack((np.identity(N*d),X)),np.hstack((np.zeros([d,N*d]),np.identity(d)))))\n",
    "    A = np.mat(A)\n",
    "\n",
    "    SIG_ep_Beta = np.zeros((N * d + d, N * d + d))\n",
    "    SIG_ep_Beta[0:N * d][:,0:N * d] = sig_ep*np.identity(N*d)\n",
    "    SIG_ep_Beta[N * d:][:,N * d:N * d + d] = sig_beta*np.identity(d)\n",
    "    \n",
    "    \n",
    "    SIG_Y_Beta = A*np.mat(SIG_ep_Beta)*np.transpose(A)\n",
    "        \n",
    "    SIG_Y = SIG_Y_Beta[0:N * d][:,0:N * d]\n",
    "        \n",
    "    SIG_beta = SIG_Y_Beta[N * d:SIG_Y_Beta.shape[0]][:,N * d:SIG_Y_Beta.shape[1]]\n",
    "    \n",
    "    SIG_Y_beta = SIG_Y_Beta[0:N * d][:,N * d:SIG_Y_Beta.shape[1]]\n",
    "    \n",
    "    SIG_beta_Y = SIG_Y_Beta[N * d:SIG_Y_Beta.shape[0]][:,0:N * d]\n",
    "    \n",
    "    \n",
    "    posteriorMeanBeta = 0 + np.dot(np.dot(SIG_beta_Y, np.linalg.inv(SIG_Y)), Y.reshape(N * d))\n",
    "    posteriorMeanBeta = np.array(posteriorMeanBeta).reshape(-1)\n",
    "\n",
    "    posteriorCovBeta = SIG_beta - np.dot(SIG_beta_Y, np.dot(np.linalg.inv(SIG_Y), SIG_Y_beta))\n",
    "    \n",
    "    return posteriorMeanBeta, posteriorCovBeta"
   ]
  },
  {
   "cell_type": "markdown",
   "metadata": {},
   "source": [
    "# $\\varepsilon_i$ of dim 1"
   ]
  },
  {
   "cell_type": "code",
   "execution_count": 4,
   "metadata": {},
   "outputs": [],
   "source": [
    "#initalisation of parameters\n",
    "sig_ep = 1 # sigma of epsilon (noise standard error) # careful if changed\n",
    "sig_beta = 10\n",
    "N = 5 # number of samples\n",
    "d = 2 # dimension of beta\n",
    "Beta_star = sig_beta*np.random.randn(d) #real value of Beta"
   ]
  },
  {
   "cell_type": "code",
   "execution_count": 5,
   "metadata": {},
   "outputs": [],
   "source": [
    "# First part: generation of samples\n",
    "# funtion for generating N samples\n",
    "def generate_samples(sig_ep, N, d, Beta):\n",
    "    X = np.random.randn(N, d)\n",
    "    #X = np.vstack((X, np.ones((2, d, d))))\n",
    "    #X = np.ones((N, d, d))\n",
    "    Y = np.dot(X,Beta) + sig_ep*np.random.randn(N)\n",
    "    return(X,Y)\n",
    "\n",
    "# Obtained Samples\n",
    "[X, Y] = generate_samples(sig_ep, N, d,Beta_star)"
   ]
  },
  {
   "cell_type": "code",
   "execution_count": 9,
   "metadata": {},
   "outputs": [],
   "source": [
    "# second part: calculate Beta from samples\n",
    "def calculate_posterior_beta(X, Y, d, N):\n",
    "    \n",
    "    A = np.hstack((np.vstack((np.identity(N),np.zeros((d, N)))),np.vstack((X,np.identity(d)))))\n",
    "    A = np.mat(A)\n",
    "\n",
    "    SIG_0 = np.identity(N + d) # we suppose Var(eps)=1 and Var(B) = Id \n",
    "    \n",
    "    \n",
    "    SIG = A*np.mat(SIG_0)*np.transpose(A)\n",
    "        \n",
    "    SIG_Y = SIG[0:N ][:,0:N]\n",
    "        \n",
    "    SIG_beta = SIG[N :SIG.shape[0]][:,N:SIG.shape[1]]\n",
    "    \n",
    "    SIG_Y_beta = SIG[0:N][:,N:SIG.shape[1]]\n",
    "    \n",
    "    SIG_beta_Y = SIG[N:SIG.shape[0]][:,0:N]\n",
    "    \n",
    "    \n",
    "    posteriorMeanBeta = 0 + np.dot(np.dot(SIG_beta_Y, np.linalg.inv(SIG_Y)), Y)\n",
    "\n",
    "    posteriorCovBeta = SIG_beta - np.dot(SIG_beta_Y, np.dot(np.linalg.inv(SIG_Y), SIG_Y_beta))\n",
    "    \n",
    "    return np.array(posteriorMeanBeta).reshape(-1), posteriorCovBeta"
   ]
  },
  {
   "cell_type": "code",
   "execution_count": 10,
   "metadata": {},
   "outputs": [],
   "source": [
    "posteriorMeanBeta, posteriorCovBeta = calculate_posterior_beta(X, Y, d, N)"
   ]
  },
  {
   "cell_type": "markdown",
   "metadata": {},
   "source": [
    "## Concentration pour la convergence presque sur"
   ]
  },
  {
   "cell_type": "code",
   "execution_count": 6,
   "metadata": {},
   "outputs": [],
   "source": [
    "def check_concentration(speed, N_samples_for_estimation, n, d, sig_ep, sig_beta, step=30, number_of_trials_per_step=10):\n",
    "    df = pd.DataFrame(columns=[\"n\", \"proba\"])\n",
    "    Beta_star = sig_beta*np.random.randn(d) #real value of Beta\n",
    "    for trial in range(number_of_trials_per_step):\n",
    "        for i in range(3, n, step): # begins at 3 because we remove 2 lines\n",
    "            [X, Y] = generate_samples(sig_ep, i, d,Beta_star)\n",
    "            posteriorMeanBeta, posteriorCovBeta = calculate_posterior_beta(X, Y, d, i)\n",
    "            count_inside_ball = 0\n",
    "            for k in range(N_samples_for_estimation):\n",
    "                count_inside_ball += np.linalg.norm(np.random.multivariate_normal(posteriorMeanBeta, posteriorCovBeta) - Beta_star)< 1 / speed(i)\n",
    "            df2 = pd.DataFrame([[i, count_inside_ball / N_samples_for_estimation]],columns=['n', 'proba'])\n",
    "            df = pd.concat([df,df2])\n",
    "    sns.barplot(x='n', y=\"proba\", data = df)"
   ]
  },
  {
   "cell_type": "code",
   "execution_count": 22,
   "metadata": {},
   "outputs": [
    {
     "data": {
      "image/png": "[encoded data removed]",
      "text/plain": [
       "<Figure size 432x288 with 1 Axes>"
      ]
     },
     "metadata": {
      "needs_background": "light"
     },
     "output_type": "display_data"
    }
   ],
   "source": [
    "step = 100\n",
    "n = 1000\n",
    "N_samples_for_estimation = 1000\n",
    "number_of_trials_per_step = 20\n",
    "check_concentration(lambda x: 0.5 * np.log(x), 1000, n=n, d=5, sig_ep=1, sig_beta=10, step=step, number_of_trials_per_step=number_of_trials_per_step);"
   ]
  },
  {
   "cell_type": "code",
   "execution_count": 23,
   "metadata": {},
   "outputs": [
    {
     "data": {
      "image/png": "[encoded data removed]",
      "text/plain": [
       "<Figure size 432x288 with 1 Axes>"
      ]
     },
     "metadata": {
      "needs_background": "light"
     },
     "output_type": "display_data"
    }
   ],
   "source": [
    "step = 100\n",
    "n = 1000\n",
    "N_samples_for_estimation = 1000\n",
    "number_of_trials_per_step = 20\n",
    "check_concentration(lambda x: 0.5 * np.exp(np.log(x)/3), 1000, n=n, d=5, sig_ep=1, sig_beta=10, step=step, number_of_trials_per_step=number_of_trials_per_step);"
   ]
  },
  {
   "cell_type": "code",
   "execution_count": 24,
   "metadata": {},
   "outputs": [
    {
     "data": {
      "image/png": "[encoded data removed]",
      "text/plain": [
       "<Figure size 432x288 with 1 Axes>"
      ]
     },
     "metadata": {
      "needs_background": "light"
     },
     "output_type": "display_data"
    }
   ],
   "source": [
    "step = 50\n",
    "n = 1000\n",
    "N_samples_for_estimation = 1000\n",
    "number_of_trials_per_step = 10\n",
    "check_concentration(lambda x: 0.5 * np.sqrt(x), 1000, n=n, d=5, sig_ep=1, sig_beta=10, step=step, number_of_trials_per_step=number_of_trials_per_step);"
   ]
  },
  {
   "cell_type": "code",
   "execution_count": 36,
   "metadata": {},
   "outputs": [
    {
     "data": {
      "image/png": "[encoded data removed]",
      "text/plain": [
       "<Figure size 432x288 with 1 Axes>"
      ]
     },
     "metadata": {
      "needs_background": "light"
     },
     "output_type": "display_data"
    }
   ],
   "source": [
    "step = 100\n",
    "n = 2000\n",
    "N_samples_for_estimation = 1000\n",
    "number_of_trials_per_step = 20\n",
    "check_concentration(lambda x: 2*1E-1 * np.exp(2 * np.log(x)/3), 1000, n=n, d=5, sig_ep=1, sig_beta=10, step=step, number_of_trials_per_step=number_of_trials_per_step);"
   ]
  },
  {
   "cell_type": "code",
   "execution_count": 35,
   "metadata": {},
   "outputs": [
    {
     "data": {
      "image/png": "[encoded data removed]",
      "text/plain": [
       "<Figure size 432x288 with 1 Axes>"
      ]
     },
     "metadata": {
      "needs_background": "light"
     },
     "output_type": "display_data"
    }
   ],
   "source": [
    "step = 10\n",
    "n = 300\n",
    "N_samples_for_estimation = 1000\n",
    "number_of_trials_per_step = 30\n",
    "check_concentration(lambda x: 0.5*1E-1*x, 1000, n=n, d=5, sig_ep=1, sig_beta=10, step=step, number_of_trials_per_step=number_of_trials_per_step);"
   ]
  },
  {
   "cell_type": "code",
   "execution_count": 11,
   "metadata": {},
   "outputs": [],
   "source": [
    "def plot_ball(speed, N_samples_for_estimation, n, d, sig_ep, sig_beta):\n",
    "    Beta_star = sig_beta*np.random.randn(d) #real value of Beta\n",
    "    [X, Y] = generate_samples(sig_ep, n, d,Beta_star)\n",
    "    \n",
    "    posteriorMeanBeta, posteriorCovBeta = calculate_posterior_beta(X, Y, d, n)\n",
    "    \n",
    "    ax=plt.subplot(aspect='equal')\n",
    "    plt.scatter(Beta_star[0], Beta_star[1], c=\"red\")\n",
    "    for i in range(N_samples_for_estimation):\n",
    "        sample = np.random.multivariate_normal(posteriorMeanBeta, posteriorCovBeta)\n",
    "        plt.scatter(sample[0], sample[1], c=\"blue\")\n",
    "    circle = plt.Circle(Beta_star, 1/speed(n), fill=False)\n",
    "    ax.add_artist(circle)"
   ]
  },
  {
   "cell_type": "code",
   "execution_count": 15,
   "metadata": {},
   "outputs": [
    {
     "data": {
      "image/png": "[encoded data removed]",
      "text/plain": [
       "<Figure size 432x288 with 1 Axes>"
      ]
     },
     "metadata": {
      "needs_background": "light"
     },
     "output_type": "display_data"
    }
   ],
   "source": [
    "plot_ball(lambda x:0.5 * np.sqrt(x), 100, 2000, 2, 1, 10)"
   ]
  },
  {
   "cell_type": "code",
   "execution_count": null,
   "metadata": {},
   "outputs": [],
   "source": []
  },
  {
   "cell_type": "code",
   "execution_count": null,
   "metadata": {},
   "outputs": [],
   "source": []
  }
 ],
 "metadata": {
  "kernelspec": {
   "display_name": "Python 3",
   "language": "python",
   "name": "python3"
  },
  "language_info": {
   "codemirror_mode": {
    "name": "ipython",
    "version": 3
   },
   "file_extension": ".py",
   "mimetype": "text/x-python",
   "name": "python",
   "nbconvert_exporter": "python",
   "pygments_lexer": "ipython3",
   "version": "3.7.0"
  }
 },
 "nbformat": 4,
 "nbformat_minor": 2
}
