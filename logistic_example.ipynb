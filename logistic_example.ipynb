{
 "cells": [
  {
   "cell_type": "code",
   "execution_count": 27,
   "metadata": {},
   "outputs": [],
   "source": [
    "import numpy as np\n",
    "import matplotlib.pyplot as plt\n",
    "import seaborn as sns\n",
    "import pandas as pd"
   ]
  },
  {
   "cell_type": "code",
   "execution_count": 2,
   "metadata": {},
   "outputs": [],
   "source": [
    "import pystan"
   ]
  },
  {
   "cell_type": "code",
   "execution_count": 3,
   "metadata": {},
   "outputs": [],
   "source": [
    "def sigmoid(a):\n",
    "    return 1 / (1 + np.exp(-a))"
   ]
  },
  {
   "cell_type": "code",
   "execution_count": 20,
   "metadata": {},
   "outputs": [
    {
     "ename": "ValueError",
     "evalue": "Failed to parse Stan model 'anon_model_428cfd22a410971faaa267707a52a439'. Error message:\nSYNTAX ERROR, MESSAGE(S) FROM PARSER:\n\n  error in 'unknown file name' at line 5, column 9\n  -------------------------------------------------\n     3:   int N;\n     4:   int D;\n     5:   vector y[N];\n                ^\n     6:   matrix[N, D] x;\n  -------------------------------------------------\n\nPARSER EXPECTED: <size declaration: integer (data-only) in square brackets>\n",
     "output_type": "error",
     "traceback": [
      "\u001b[0;31m---------------------------------------------------------------------------\u001b[0m",
      "\u001b[0;31mValueError\u001b[0m                                Traceback (most recent call last)",
      "\u001b[0;32m<ipython-input-20-5fd68fa1fb3c>\u001b[0m in \u001b[0;36m<module>\u001b[0;34m\u001b[0m\n\u001b[1;32m     24\u001b[0m \u001b[0;34m\u001b[0m\u001b[0m\n\u001b[1;32m     25\u001b[0m \u001b[0;34m\u001b[0m\u001b[0m\n\u001b[0;32m---> 26\u001b[0;31m \u001b[0msm\u001b[0m \u001b[0;34m=\u001b[0m \u001b[0mpystan\u001b[0m\u001b[0;34m.\u001b[0m\u001b[0mStanModel\u001b[0m\u001b[0;34m(\u001b[0m\u001b[0mmodel_code\u001b[0m\u001b[0;34m=\u001b[0m\u001b[0mmodel_reg_log\u001b[0m\u001b[0;34m)\u001b[0m\u001b[0;34m\u001b[0m\u001b[0;34m\u001b[0m\u001b[0m\n\u001b[0m",
      "\u001b[0;32m/Data/miniconda3/envs/modal/lib/python3.7/site-packages/pystan/model.py\u001b[0m in \u001b[0;36m__init__\u001b[0;34m(self, file, charset, model_name, model_code, stanc_ret, include_paths, boost_lib, eigen_lib, verbose, obfuscate_model_name, extra_compile_args)\u001b[0m\n\u001b[1;32m    222\u001b[0m                                          \u001b[0mverbose\u001b[0m\u001b[0;34m=\u001b[0m\u001b[0mverbose\u001b[0m\u001b[0;34m,\u001b[0m\u001b[0;34m\u001b[0m\u001b[0;34m\u001b[0m\u001b[0m\n\u001b[1;32m    223\u001b[0m                                          \u001b[0minclude_paths\u001b[0m\u001b[0;34m=\u001b[0m\u001b[0minclude_paths\u001b[0m\u001b[0;34m,\u001b[0m\u001b[0;34m\u001b[0m\u001b[0;34m\u001b[0m\u001b[0m\n\u001b[0;32m--> 224\u001b[0;31m                                          obfuscate_model_name=obfuscate_model_name)\n\u001b[0m\u001b[1;32m    225\u001b[0m \u001b[0;34m\u001b[0m\u001b[0m\n\u001b[1;32m    226\u001b[0m         \u001b[0;32mif\u001b[0m \u001b[0;32mnot\u001b[0m \u001b[0misinstance\u001b[0m\u001b[0;34m(\u001b[0m\u001b[0mstanc_ret\u001b[0m\u001b[0;34m,\u001b[0m \u001b[0mdict\u001b[0m\u001b[0;34m)\u001b[0m\u001b[0;34m:\u001b[0m\u001b[0;34m\u001b[0m\u001b[0;34m\u001b[0m\u001b[0m\n",
      "\u001b[0;32m/Data/miniconda3/envs/modal/lib/python3.7/site-packages/pystan/api.py\u001b[0m in \u001b[0;36mstanc\u001b[0;34m(file, charset, model_code, model_name, include_paths, verbose, obfuscate_model_name)\u001b[0m\n\u001b[1;32m    166\u001b[0m             \u001b[0mmsg\u001b[0m \u001b[0;34m=\u001b[0m \u001b[0mmsg\u001b[0m\u001b[0;34m.\u001b[0m\u001b[0mencode\u001b[0m\u001b[0;34m(\u001b[0m\u001b[0;34m'ascii'\u001b[0m\u001b[0;34m,\u001b[0m \u001b[0;34m'replace'\u001b[0m\u001b[0;34m)\u001b[0m\u001b[0;34m\u001b[0m\u001b[0;34m\u001b[0m\u001b[0m\n\u001b[1;32m    167\u001b[0m         \u001b[0merror_msg\u001b[0m \u001b[0;34m=\u001b[0m \u001b[0;34m\"Failed to parse Stan model '{}'. Error message:\\n{}\"\u001b[0m\u001b[0;34m.\u001b[0m\u001b[0mformat\u001b[0m\u001b[0;34m(\u001b[0m\u001b[0mmodel_name\u001b[0m\u001b[0;34m,\u001b[0m \u001b[0mmsg\u001b[0m\u001b[0;34m)\u001b[0m\u001b[0;34m\u001b[0m\u001b[0;34m\u001b[0m\u001b[0m\n\u001b[0;32m--> 168\u001b[0;31m         \u001b[0;32mraise\u001b[0m \u001b[0mValueError\u001b[0m\u001b[0;34m(\u001b[0m\u001b[0merror_msg\u001b[0m\u001b[0;34m)\u001b[0m\u001b[0;34m\u001b[0m\u001b[0;34m\u001b[0m\u001b[0m\n\u001b[0m\u001b[1;32m    169\u001b[0m     \u001b[0;32melif\u001b[0m \u001b[0mresult\u001b[0m\u001b[0;34m[\u001b[0m\u001b[0;34m'status'\u001b[0m\u001b[0;34m]\u001b[0m \u001b[0;34m==\u001b[0m \u001b[0;36m0\u001b[0m\u001b[0;34m:\u001b[0m  \u001b[0;31m# SUCCESS_RC is 0\u001b[0m\u001b[0;34m\u001b[0m\u001b[0;34m\u001b[0m\u001b[0m\n\u001b[1;32m    170\u001b[0m         \u001b[0mlogger\u001b[0m\u001b[0;34m.\u001b[0m\u001b[0mdebug\u001b[0m\u001b[0;34m(\u001b[0m\u001b[0;34m\"Successfully parsed Stan model '{}'.\"\u001b[0m\u001b[0;34m.\u001b[0m\u001b[0mformat\u001b[0m\u001b[0;34m(\u001b[0m\u001b[0mmodel_name\u001b[0m\u001b[0;34m)\u001b[0m\u001b[0;34m)\u001b[0m\u001b[0;34m\u001b[0m\u001b[0;34m\u001b[0m\u001b[0m\n",
      "\u001b[0;31mValueError\u001b[0m: Failed to parse Stan model 'anon_model_428cfd22a410971faaa267707a52a439'. Error message:\nSYNTAX ERROR, MESSAGE(S) FROM PARSER:\n\n  error in 'unknown file name' at line 5, column 9\n  -------------------------------------------------\n     3:   int N;\n     4:   int D;\n     5:   vector y[N];\n                ^\n     6:   matrix[N, D] x;\n  -------------------------------------------------\n\nPARSER EXPECTED: <size declaration: integer (data-only) in square brackets>\n"
     ]
    }
   ],
   "source": [
    "model_reg_log = \"\"\"\n",
    "data {\n",
    "  int N;\n",
    "  int D;\n",
    "  vector y[N];\n",
    "  matrix[N, D] x;\n",
    "}\n",
    "parameters {\n",
    "  vector[D] beta;\n",
    "}\n",
    "model {\n",
    "    vector[N] x_beta;\n",
    "    \n",
    "    for (i in 1:D)\n",
    "        beta[i] ~ normal(0, 2);\n",
    "\n",
    "    x_beta = x * beta;\n",
    "    \n",
    "    y ~ categorical_logit(x_beta);\n",
    "    \n",
    "\n",
    "}\n",
    "\"\"\"\n",
    "\n",
    "\n",
    "sm = pystan.StanModel(model_code=model_reg_log)"
   ]
  },
  {
   "cell_type": "code",
   "execution_count": 59,
   "metadata": {},
   "outputs": [],
   "source": [
    "D = 5\n",
    "N = 100\n",
    "sig_beta = 10"
   ]
  },
  {
   "cell_type": "code",
   "execution_count": 60,
   "metadata": {},
   "outputs": [],
   "source": [
    "beta_star = sig_beta * np.random.randn(D) #real value of Beta\n",
    "\n",
    "X = np.random.randn(N, D)\n",
    "\n",
    "probas = sigmoid(np.dot(X, beta_star))\n",
    "\n",
    "Y = np.array([np.random.binomial(1, proba) for proba in probas])"
   ]
  },
  {
   "cell_type": "code",
   "execution_count": 61,
   "metadata": {},
   "outputs": [
    {
     "ename": "RuntimeError",
     "evalue": "Initialization failed.",
     "output_type": "error",
     "traceback": [
      "\u001b[0;31m---------------------------------------------------------------------------\u001b[0m",
      "\u001b[0;31mRuntimeError\u001b[0m                              Traceback (most recent call last)",
      "\u001b[0;32m<ipython-input-61-9ffcecbc8887>\u001b[0m in \u001b[0;36m<module>\u001b[0;34m\u001b[0m\n\u001b[1;32m      4\u001b[0m                 'y' : Y}\n\u001b[1;32m      5\u001b[0m \u001b[0;34m\u001b[0m\u001b[0m\n\u001b[0;32m----> 6\u001b[0;31m \u001b[0mfit\u001b[0m \u001b[0;34m=\u001b[0m \u001b[0msm\u001b[0m\u001b[0;34m.\u001b[0m\u001b[0msampling\u001b[0m\u001b[0;34m(\u001b[0m\u001b[0mdata\u001b[0m\u001b[0;34m=\u001b[0m\u001b[0mreg_log_parameters\u001b[0m\u001b[0;34m,\u001b[0m \u001b[0miter\u001b[0m\u001b[0;34m=\u001b[0m\u001b[0;36m1000\u001b[0m\u001b[0;34m,\u001b[0m \u001b[0mchains\u001b[0m\u001b[0;34m=\u001b[0m\u001b[0;36m1\u001b[0m\u001b[0;34m,\u001b[0m \u001b[0mn_jobs\u001b[0m\u001b[0;34m=\u001b[0m\u001b[0;36m1\u001b[0m\u001b[0;34m)\u001b[0m\u001b[0;34m\u001b[0m\u001b[0;34m\u001b[0m\u001b[0m\n\u001b[0m",
      "\u001b[0;32m/Data/miniconda3/envs/modal/lib/python3.7/site-packages/pystan/model.py\u001b[0m in \u001b[0;36msampling\u001b[0;34m(self, data, pars, chains, iter, warmup, thin, seed, init, sample_file, diagnostic_file, verbose, algorithm, control, n_jobs, **kwargs)\u001b[0m\n\u001b[1;32m    774\u001b[0m         \u001b[0mcall_sampler_args\u001b[0m \u001b[0;34m=\u001b[0m \u001b[0mizip\u001b[0m\u001b[0;34m(\u001b[0m\u001b[0mitertools\u001b[0m\u001b[0;34m.\u001b[0m\u001b[0mrepeat\u001b[0m\u001b[0;34m(\u001b[0m\u001b[0mdata\u001b[0m\u001b[0;34m)\u001b[0m\u001b[0;34m,\u001b[0m \u001b[0margs_list\u001b[0m\u001b[0;34m,\u001b[0m \u001b[0mitertools\u001b[0m\u001b[0;34m.\u001b[0m\u001b[0mrepeat\u001b[0m\u001b[0;34m(\u001b[0m\u001b[0mpars\u001b[0m\u001b[0;34m)\u001b[0m\u001b[0;34m)\u001b[0m\u001b[0;34m\u001b[0m\u001b[0;34m\u001b[0m\u001b[0m\n\u001b[1;32m    775\u001b[0m         \u001b[0mcall_sampler_star\u001b[0m \u001b[0;34m=\u001b[0m \u001b[0mself\u001b[0m\u001b[0;34m.\u001b[0m\u001b[0mmodule\u001b[0m\u001b[0;34m.\u001b[0m\u001b[0m_call_sampler_star\u001b[0m\u001b[0;34m\u001b[0m\u001b[0;34m\u001b[0m\u001b[0m\n\u001b[0;32m--> 776\u001b[0;31m         \u001b[0mret_and_samples\u001b[0m \u001b[0;34m=\u001b[0m \u001b[0m_map_parallel\u001b[0m\u001b[0;34m(\u001b[0m\u001b[0mcall_sampler_star\u001b[0m\u001b[0;34m,\u001b[0m \u001b[0mcall_sampler_args\u001b[0m\u001b[0;34m,\u001b[0m \u001b[0mn_jobs\u001b[0m\u001b[0;34m)\u001b[0m\u001b[0;34m\u001b[0m\u001b[0;34m\u001b[0m\u001b[0m\n\u001b[0m\u001b[1;32m    777\u001b[0m         \u001b[0msamples\u001b[0m \u001b[0;34m=\u001b[0m \u001b[0;34m[\u001b[0m\u001b[0msmpl\u001b[0m \u001b[0;32mfor\u001b[0m \u001b[0m_\u001b[0m\u001b[0;34m,\u001b[0m \u001b[0msmpl\u001b[0m \u001b[0;32min\u001b[0m \u001b[0mret_and_samples\u001b[0m\u001b[0;34m]\u001b[0m\u001b[0;34m\u001b[0m\u001b[0;34m\u001b[0m\u001b[0m\n\u001b[1;32m    778\u001b[0m \u001b[0;34m\u001b[0m\u001b[0m\n",
      "\u001b[0;32m/Data/miniconda3/envs/modal/lib/python3.7/site-packages/pystan/model.py\u001b[0m in \u001b[0;36m_map_parallel\u001b[0;34m(function, args, n_jobs)\u001b[0m\n\u001b[1;32m     89\u001b[0m             \u001b[0mpool\u001b[0m\u001b[0;34m.\u001b[0m\u001b[0mjoin\u001b[0m\u001b[0;34m(\u001b[0m\u001b[0;34m)\u001b[0m\u001b[0;34m\u001b[0m\u001b[0;34m\u001b[0m\u001b[0m\n\u001b[1;32m     90\u001b[0m     \u001b[0;32melse\u001b[0m\u001b[0;34m:\u001b[0m\u001b[0;34m\u001b[0m\u001b[0;34m\u001b[0m\u001b[0m\n\u001b[0;32m---> 91\u001b[0;31m         \u001b[0mmap_result\u001b[0m \u001b[0;34m=\u001b[0m \u001b[0mlist\u001b[0m\u001b[0;34m(\u001b[0m\u001b[0mmap\u001b[0m\u001b[0;34m(\u001b[0m\u001b[0mfunction\u001b[0m\u001b[0;34m,\u001b[0m \u001b[0margs\u001b[0m\u001b[0;34m)\u001b[0m\u001b[0;34m)\u001b[0m\u001b[0;34m\u001b[0m\u001b[0;34m\u001b[0m\u001b[0m\n\u001b[0m\u001b[1;32m     92\u001b[0m     \u001b[0;32mreturn\u001b[0m \u001b[0mmap_result\u001b[0m\u001b[0;34m\u001b[0m\u001b[0;34m\u001b[0m\u001b[0m\n\u001b[1;32m     93\u001b[0m \u001b[0;34m\u001b[0m\u001b[0m\n",
      "\u001b[0;32mstanfit4anon_model_7acfaa58049bc3baa5168cc1c2667b24_1463474023847587453.pyx\u001b[0m in \u001b[0;36mstanfit4anon_model_7acfaa58049bc3baa5168cc1c2667b24_1463474023847587453._call_sampler_star\u001b[0;34m()\u001b[0m\n",
      "\u001b[0;32mstanfit4anon_model_7acfaa58049bc3baa5168cc1c2667b24_1463474023847587453.pyx\u001b[0m in \u001b[0;36mstanfit4anon_model_7acfaa58049bc3baa5168cc1c2667b24_1463474023847587453._call_sampler\u001b[0;34m()\u001b[0m\n",
      "\u001b[0;31mRuntimeError\u001b[0m: Initialization failed."
     ]
    }
   ],
   "source": [
    "reg_log_parameters = {'N': N,\n",
    "               'D': D,\n",
    "                'x' : X,\n",
    "                'y' : Y}\n",
    "\n",
    "fit = sm.sampling(data=reg_log_parameters, iter=1000, chains=1, n_jobs=1)"
   ]
  },
  {
   "cell_type": "markdown",
   "metadata": {},
   "source": [
    "# Modèle logistique"
   ]
  },
  {
   "cell_type": "code",
   "execution_count": 16,
   "metadata": {},
   "outputs": [],
   "source": [
    "import pystan\n",
    "#import stan_toolkit as stlk\n",
    "import numpy as np\n",
    "#import ess"
   ]
  },
  {
   "cell_type": "code",
   "execution_count": 17,
   "metadata": {},
   "outputs": [],
   "source": [
    "def sigmoid(a):\n",
    "    return 1 / (1 + np.exp(-a))"
   ]
  },
  {
   "cell_type": "markdown",
   "metadata": {},
   "source": [
    "model_code = '''\n",
    "data {\n",
    "       int<lower=0> d; //dimension of the problem\n",
    "       int<lower=0> n_obs; //nb of observations\n",
    "       int<lower=0> Y[n_obs]; //binary response variables\n",
    "       row_vector[d] X[n_obs]; // covariate variables\n",
    "}\n",
    "\n",
    "parameters {\n",
    "    real beta; // intercept\n",
    "    vector[d] theta; // regressors\n",
    "}\n",
    "\n",
    "model {\n",
    "theta ~ normal(0,1);\n",
    "beta ~ normal(0,1);\n",
    "for (i in 1:n_obs){\n",
    "Y[i] ~ bernoulli(inv_logit(beta + X[i]*theta));\n",
    "}\n",
    "}'''\n",
    "sm = pystan.StanModel(model_code=model_code)\n",
    "#stlk.save_model(sm,'log_reg_model.pic')\n",
    "#sm = stlk.load_model('log_reg_model.pic')"
   ]
  },
  {
   "cell_type": "code",
   "execution_count": 18,
   "metadata": {},
   "outputs": [
    {
     "name": "stderr",
     "output_type": "stream",
     "text": [
      "INFO:pystan:COMPILING THE C++ CODE FOR MODEL anon_model_5e52471405febb4fd795c9c93db74a82 NOW.\n",
      "/Data/miniconda3/envs/modal/lib/python3.7/site-packages/Cython/Compiler/Main.py:367: FutureWarning: Cython directive 'language_level' not set, using 2 for now (Py2). This will change in a later release! File: /tmp/tmpqx9bhqvw/stanfit4anon_model_5e52471405febb4fd795c9c93db74a82_2545636979438907737.pyx\n",
      "  tree = Parsing.p_module(s, pxd, full_module_name)\n"
     ]
    }
   ],
   "source": [
    "model_code = '''\n",
    "data {\n",
    "       int<lower=0> d; //dimension of the problem\n",
    "       int<lower=0> n_obs; //nb of observations\n",
    "       int<lower=0> Y[n_obs]; //binary response variables\n",
    "       row_vector[d] X[n_obs]; // covariate variables\n",
    "       real sig_beta; //sd of beta\n",
    "}\n",
    "\n",
    "parameters {\n",
    "    vector[d] beta; // regressors\n",
    "}\n",
    "\n",
    "model {\n",
    "beta ~ normal(0, sig_beta*sig_beta);\n",
    "for (i in 1:n_obs){\n",
    "Y[i] ~ bernoulli(inv_logit(X[i]*beta));\n",
    "}\n",
    "}'''\n",
    "sm = pystan.StanModel(model_code=model_code)\n",
    "#stlk.save_model(sm,'log_reg_model.pic')\n",
    "#sm = stlk.load_model('log_reg_model.pic')"
   ]
  },
  {
   "cell_type": "code",
   "execution_count": 63,
   "metadata": {},
   "outputs": [],
   "source": [
    "d = 5\n",
    "n_obs = 2000\n",
    "sig_beta = 10\n",
    "\n",
    "N_samples_for_estimation = 1000\n",
    "step = 100"
   ]
  },
  {
   "cell_type": "code",
   "execution_count": 64,
   "metadata": {},
   "outputs": [],
   "source": [
    "beta_star = sig_beta * np.random.randn(d) #real value of Beta\n",
    "\n",
    "X = np.random.randn(n_obs, d)\n",
    "\n",
    "probas = sigmoid(np.dot(X, beta_star))\n",
    "Y = np.array([np.random.binomial(1, proba) for proba in probas])\n"
   ]
  },
  {
   "cell_type": "code",
   "execution_count": 65,
   "metadata": {},
   "outputs": [
    {
     "name": "stdout",
     "output_type": "stream",
     "text": [
      "[ 3.6434338  -5.06779265  3.19570998 -2.31701501 -1.31484999]\n"
     ]
    }
   ],
   "source": [
    "print(beta_star)"
   ]
  },
  {
   "cell_type": "code",
   "execution_count": 66,
   "metadata": {},
   "outputs": [],
   "source": [
    "\n",
    "\n",
    "# learn parameters\n",
    "n_chains = 1\n",
    "warmup = 1000\n",
    "n_iter = warmup + N_samples_for_estimation\n",
    "data_stan_log_reg = { 'd' : d, 'n_obs' : n_obs, 'Y' : Y, 'X' : X, 'sig_beta' : sig_beta}\n",
    "control = dict(metric=\"unit_e\")\n",
    "fit1 = sm.sampling(data=data_stan_log_reg, control = control, algorithm\n",
    "= \"NUTS\", warmup = warmup ,iter=n_iter, chains= n_chains)\n",
    "step_sizes =  fit1.get_sampler_params()[0]['stepsize__'][-1]"
   ]
  },
  {
   "cell_type": "code",
   "execution_count": 67,
   "metadata": {},
   "outputs": [
    {
     "name": "stdout",
     "output_type": "stream",
     "text": [
      "Inference for Stan model: anon_model_5e52471405febb4fd795c9c93db74a82.\n",
      "1 chains, each with iter=2000; warmup=1000; thin=1; \n",
      "post-warmup draws per chain=1000, total post-warmup draws=1000.\n",
      "\n",
      "          mean se_mean     sd   2.5%    25%    50%    75%  97.5%  n_eff   Rhat\n",
      "beta[1]   3.62    0.02   0.24   3.19   3.46   3.61   3.78   4.11    244   1.01\n",
      "beta[2]  -4.97    0.02   0.31  -5.62   -5.2  -4.95  -4.75  -4.42    249   1.01\n",
      "beta[3]   3.01    0.01   0.21   2.62   2.87    3.0   3.15   3.45    248   1.01\n",
      "beta[4]  -2.16  9.5e-3   0.16  -2.49  -2.27  -2.16  -2.03  -1.87    293   1.01\n",
      "beta[5]  -1.44  7.0e-3   0.13  -1.71  -1.53  -1.44  -1.35  -1.19    360    1.0\n",
      "lp__    -334.1     0.1   1.63 -338.2 -335.0 -333.7 -332.9 -331.8    274    1.0\n",
      "\n",
      "Samples were drawn using NUTS at Fri Jan 11 12:20:04 2019.\n",
      "For each parameter, n_eff is a crude measure of effective sample size,\n",
      "and Rhat is the potential scale reduction factor on split chains (at \n",
      "convergence, Rhat=1).\n"
     ]
    }
   ],
   "source": [
    "print(fit1.stansummary())"
   ]
  },
  {
   "cell_type": "code",
   "execution_count": 24,
   "metadata": {},
   "outputs": [
    {
     "name": "stderr",
     "output_type": "stream",
     "text": [
      "WARNING:pystan:Deprecation warning. In future, use ArviZ library (`pip install arviz`)\n"
     ]
    },
    {
     "data": {
      "image/png": "[encoded data removed]",
      "text/plain": [
       "<Figure size 432x288 with 2 Axes>"
      ]
     },
     "execution_count": 24,
     "metadata": {},
     "output_type": "execute_result"
    },
    {
     "data": {
      "image/png": "[encoded data removed]",
      "text/plain": [
       "<Figure size 432x288 with 2 Axes>"
      ]
     },
     "metadata": {
      "needs_background": "light"
     },
     "output_type": "display_data"
    }
   ],
   "source": [
    "fit1.plot()"
   ]
  },
  {
   "cell_type": "code",
   "execution_count": 49,
   "metadata": {},
   "outputs": [],
   "source": [
    "def check_concentration(speed, N_samples_for_estimation, n_obs, d, sig_ep, sig_beta, step=30, n_trials_per_step=10):\n",
    "    df = pd.DataFrame(columns=[\"n\", \"proba\"])\n",
    "    \n",
    "    df_distance = pd.DataFrame(columns=[\"n\", \"distance\"])\n",
    "    \n",
    "    beta_star = sig_beta*np.random.randn(d) #real value of Beta\n",
    "    for trial in range(n_trials_per_step):\n",
    "        print(\"done \" + str(100*trial/n_trials_per_step) + \" % of work\")\n",
    "        for i in range(1, n_obs, step): \n",
    "\n",
    "            \n",
    "            X = np.random.randn(i, d)\n",
    "\n",
    "            probas = sigmoid(np.dot(X, beta_star))\n",
    "            Y = np.array([np.random.binomial(1, proba) for proba in probas])\n",
    "            \n",
    "            # learn parameters\n",
    "            n_chains = 1\n",
    "            warmup = 800\n",
    "            n_iter = warmup + N_samples_for_estimation\n",
    "            data_stan_log_reg = { 'd' : d, 'n_obs' : i, 'Y' : Y, 'X' : X, 'sig_beta' : sig_beta}\n",
    "            control = dict(metric=\"unit_e\")\n",
    "            fit1 = sm.sampling(data=data_stan_log_reg, control = control, algorithm\n",
    "            = \"NUTS\", warmup = warmup ,iter=n_iter, chains= n_chains)\n",
    "            step_sizes =  fit1.get_sampler_params()[0]['stepsize__'][-1]\n",
    "            \n",
    "            posterior_beta = fit1.extract()[\"beta\"]\n",
    "            \n",
    "            aux = [np.linalg.norm(posterior_beta[k] - beta_star) < 1 / speed(k) for k in range(N_samples_for_estimation)]\n",
    "            proba = sum(aux) / N_samples_for_estimation\n",
    "            \n",
    "            aux2 = np.mean([np.linalg.norm(posterior_beta[k] - beta_star) for k in range(N_samples_for_estimation)])\n",
    "            \n",
    "            df2 = pd.DataFrame([[i, proba]],columns=['n', 'proba'])\n",
    "            df2_distance = pd.DataFrame([[i, aux2]],columns=['n', 'distance'])\n",
    "            df = pd.concat([df,df2])\n",
    "            df_distance = pd.concat([df_distance,df2_distance])\n",
    "    \n",
    "    #sns.barplot(x='n', y=\"proba\", data = df)\n",
    "    #sns.barplot(x='n', y=\"distance\", data = df_distance)\n",
    "    return df, df_distance"
   ]
  },
  {
   "cell_type": "markdown",
   "metadata": {},
   "source": [
    "def check_concentration(speed, N_samples_for_estimation, n_obs, d, sig_ep, sig_beta, step=30, n_trials_per_step=10):\n",
    "    result = []\n",
    "    \n",
    "    df = pd.DataFrame(columns=[\"n\", \"proba\"])\n",
    "    \n",
    "    df_distance = pd.DataFrame(columns=[\"n\", \"distance\"])\n",
    "    \n",
    "    beta_star = sig_beta*np.random.randn(d) #real value of Beta\n",
    "    for trial in range(n_trials_per_step):\n",
    "        print(\"done \" + str(100*trial/n_trials_per_step) + \" % of work\")\n",
    "        for i in range(1, n_obs, step): \n",
    "\n",
    "            \n",
    "            X = np.random.randn(n_obs, d)\n",
    "\n",
    "            probas = sigmoid(np.dot(X, beta_star))\n",
    "            Y = np.array([np.random.binomial(1, proba) for proba in probas])\n",
    "            \n",
    "            # learn parameters\n",
    "            n_chains = 1\n",
    "            warmup = 800\n",
    "            n_iter = warmup + N_samples_for_estimation\n",
    "            data_stan_log_reg = { 'd' : d, 'n_obs' : n_obs, 'Y' : Y, 'X' : X, 'sig_beta' : sig_beta}\n",
    "            control = dict(metric=\"unit_e\")\n",
    "            fit1 = sm.sampling(data=data_stan_log_reg, control = control, algorithm\n",
    "            = \"NUTS\", warmup = warmup ,iter=n_iter, chains= n_chains)\n",
    "            step_sizes =  fit1.get_sampler_params()[0]['stepsize__'][-1]\n",
    "            \n",
    "            posterior_beta = fit1.extract()[\"beta\"]\n",
    "            \n",
    "            aux = [np.linalg.norm(posterior_beta[i] - beta_star) < 1 / speed(i) for i in range(N_samples_for_estimation)]\n",
    "            proba = sum(aux) / N_samples_for_estimation\n",
    "            \n",
    "            aux2 = np.mean([np.linalg.norm(posterior_beta[i] - beta_star) for i in range(N_samples_for_estimation)])\n",
    "            \n",
    "            df2 = pd.DataFrame([[i, proba]],columns=['n', 'proba'])\n",
    "            df2_distance = pd.DataFrame([[i, aux2]],columns=['n', 'distance'])\n",
    "            df = pd.concat([df,df2])\n",
    "            df_distance = pd.concat([df_distance,df2_distance])\n",
    "    \n",
    "    #sns.barplot(x='n', y=\"proba\", data = df)\n",
    "    #sns.barplot(x='n', y=\"distance\", data = df_distance)\n",
    "    return df, df_distance"
   ]
  },
  {
   "cell_type": "code",
   "execution_count": 53,
   "metadata": {},
   "outputs": [
    {
     "name": "stdout",
     "output_type": "stream",
     "text": [
      "done 0.0 % of work\n"
     ]
    },
    {
     "name": "stderr",
     "output_type": "stream",
     "text": [
      "/Data/miniconda3/envs/modal/lib/python3.7/site-packages/ipykernel_launcher.py:5: RuntimeWarning: divide by zero encountered in log\n",
      "  \"\"\"\n",
      "/Data/miniconda3/envs/modal/lib/python3.7/site-packages/ipykernel_launcher.py:29: RuntimeWarning: divide by zero encountered in double_scalars\n",
      "WARNING:pystan:Rhat for parameter beta[1] is 1.6203687996547205!\n",
      "WARNING:pystan:Rhat for parameter beta[2] is 1.6303741026701641!\n",
      "WARNING:pystan:Rhat for parameter beta[3] is 1.5882180634353078!\n",
      "WARNING:pystan:Rhat for parameter beta[4] is 1.5004068625459428!\n",
      "WARNING:pystan:Rhat for parameter beta[5] is 1.645735841492366!\n",
      "WARNING:pystan:Rhat above 1.1 or below 0.9 indicates that the chains very likely have not mixed\n",
      "WARNING:pystan:Rhat for parameter beta[1] is 1.5024996810530222!\n",
      "WARNING:pystan:Rhat for parameter beta[2] is 1.5846576202282359!\n",
      "WARNING:pystan:Rhat for parameter beta[3] is 1.5935249677766736!\n",
      "WARNING:pystan:Rhat for parameter beta[4] is 1.4213958794194905!\n",
      "WARNING:pystan:Rhat for parameter beta[5] is 1.5344469520149657!\n",
      "WARNING:pystan:Rhat for parameter lp__ is 1.1880630289253507!\n",
      "WARNING:pystan:Rhat above 1.1 or below 0.9 indicates that the chains very likely have not mixed\n",
      "WARNING:pystan:Rhat for parameter beta[1] is 1.1541741654330901!\n",
      "WARNING:pystan:Rhat for parameter beta[2] is 1.2891773048861377!\n",
      "WARNING:pystan:Rhat for parameter beta[3] is 1.2861383214033903!\n",
      "WARNING:pystan:Rhat for parameter beta[5] is 1.2178130510034808!\n",
      "WARNING:pystan:Rhat above 1.1 or below 0.9 indicates that the chains very likely have not mixed\n",
      "WARNING:pystan:Rhat for parameter beta[1] is 1.157493092936059!\n",
      "WARNING:pystan:Rhat above 1.1 or below 0.9 indicates that the chains very likely have not mixed\n"
     ]
    },
    {
     "name": "stdout",
     "output_type": "stream",
     "text": [
      "done 20.0 % of work\n"
     ]
    },
    {
     "name": "stderr",
     "output_type": "stream",
     "text": [
      "WARNING:pystan:Rhat for parameter beta[1] is 1.1687909061532875!\n",
      "WARNING:pystan:Rhat for parameter beta[2] is 1.2604647813906122!\n",
      "WARNING:pystan:Rhat for parameter beta[3] is 1.1265429939785137!\n",
      "WARNING:pystan:Rhat for parameter beta[4] is 1.250058935588468!\n",
      "WARNING:pystan:Rhat for parameter beta[5] is 1.180146721569636!\n",
      "WARNING:pystan:Rhat above 1.1 or below 0.9 indicates that the chains very likely have not mixed\n",
      "WARNING:pystan:Rhat for parameter lp__ is 1.2110463431128953!\n",
      "WARNING:pystan:Rhat above 1.1 or below 0.9 indicates that the chains very likely have not mixed\n",
      "WARNING:pystan:Rhat for parameter lp__ is 1.1022572421607912!\n",
      "WARNING:pystan:Rhat above 1.1 or below 0.9 indicates that the chains very likely have not mixed\n",
      "WARNING:pystan:Rhat for parameter beta[1] is 1.106880391570523!\n",
      "WARNING:pystan:Rhat for parameter beta[2] is 1.1318984244545847!\n",
      "WARNING:pystan:Rhat above 1.1 or below 0.9 indicates that the chains very likely have not mixed\n",
      "WARNING:pystan:Rhat for parameter beta[1] is 1.1160977461519173!\n",
      "WARNING:pystan:Rhat for parameter beta[2] is 1.1117321947100052!\n",
      "WARNING:pystan:Rhat for parameter beta[3] is 1.1078445360293006!\n",
      "WARNING:pystan:Rhat above 1.1 or below 0.9 indicates that the chains very likely have not mixed\n",
      "WARNING:pystan:Rhat for parameter beta[5] is 1.1365928931162659!\n",
      "WARNING:pystan:Rhat for parameter lp__ is 1.119844783690566!\n",
      "WARNING:pystan:Rhat above 1.1 or below 0.9 indicates that the chains very likely have not mixed\n",
      "WARNING:pystan:2 of 30 iterations ended with a divergence (6.666666666666667%).\n",
      "WARNING:pystan:Try running with adapt_delta larger than 0.8 to remove the divergences.\n"
     ]
    },
    {
     "name": "stdout",
     "output_type": "stream",
     "text": [
      "done 40.0 % of work\n"
     ]
    },
    {
     "name": "stderr",
     "output_type": "stream",
     "text": [
      "WARNING:pystan:Rhat for parameter beta[3] is 1.2666326559956194!\n",
      "WARNING:pystan:Rhat for parameter lp__ is 1.3596790700441457!\n",
      "WARNING:pystan:Rhat above 1.1 or below 0.9 indicates that the chains very likely have not mixed\n"
     ]
    },
    {
     "name": "stdout",
     "output_type": "stream",
     "text": [
      "done 60.0 % of work\n"
     ]
    },
    {
     "name": "stderr",
     "output_type": "stream",
     "text": [
      "WARNING:pystan:Rhat for parameter beta[1] is 1.524531680511569!\n",
      "WARNING:pystan:Rhat for parameter beta[2] is 2.1851081096200495!\n",
      "WARNING:pystan:Rhat for parameter beta[3] is 2.1403253060853977!\n",
      "WARNING:pystan:Rhat for parameter beta[4] is 1.730392363395347!\n",
      "WARNING:pystan:Rhat for parameter beta[5] is 1.8920008845826695!\n",
      "WARNING:pystan:Rhat for parameter lp__ is 1.1420995651266912!\n",
      "WARNING:pystan:Rhat above 1.1 or below 0.9 indicates that the chains very likely have not mixed\n"
     ]
    },
    {
     "name": "stdout",
     "output_type": "stream",
     "text": [
      "done 80.0 % of work\n"
     ]
    },
    {
     "name": "stderr",
     "output_type": "stream",
     "text": [
      "WARNING:pystan:Rhat for parameter beta[1] is 1.1005248109179229!\n",
      "WARNING:pystan:Rhat for parameter beta[2] is 1.1090142776867993!\n",
      "WARNING:pystan:Rhat for parameter beta[3] is 1.1174404688920818!\n",
      "WARNING:pystan:Rhat above 1.1 or below 0.9 indicates that the chains very likely have not mixed\n",
      "WARNING:pystan:Rhat for parameter beta[4] is 1.1024563142565522!\n",
      "WARNING:pystan:Rhat for parameter lp__ is 1.1745558429067247!\n",
      "WARNING:pystan:Rhat above 1.1 or below 0.9 indicates that the chains very likely have not mixed\n",
      "WARNING:pystan:Rhat for parameter beta[1] is 1.1025643367215923!\n",
      "WARNING:pystan:Rhat for parameter beta[2] is 1.2012516297638738!\n",
      "WARNING:pystan:Rhat for parameter beta[3] is 1.2993067300642256!\n",
      "WARNING:pystan:Rhat for parameter beta[4] is 1.3144237816978155!\n",
      "WARNING:pystan:Rhat for parameter beta[5] is 1.2203123248525907!\n",
      "WARNING:pystan:Rhat above 1.1 or below 0.9 indicates that the chains very likely have not mixed\n",
      "WARNING:pystan:Rhat for parameter beta[2] is 1.105788327175872!\n",
      "WARNING:pystan:Rhat for parameter beta[3] is 1.120596685879485!\n",
      "WARNING:pystan:Rhat for parameter beta[4] is 1.106849257406638!\n",
      "WARNING:pystan:Rhat for parameter beta[5] is 1.1911172211691685!\n",
      "WARNING:pystan:Rhat above 1.1 or below 0.9 indicates that the chains very likely have not mixed\n",
      "WARNING:pystan:Rhat for parameter lp__ is 1.1960744324522539!\n",
      "WARNING:pystan:Rhat above 1.1 or below 0.9 indicates that the chains very likely have not mixed\n",
      "WARNING:pystan:Rhat for parameter beta[1] is 1.112999487120965!\n",
      "WARNING:pystan:Rhat above 1.1 or below 0.9 indicates that the chains very likely have not mixed\n"
     ]
    }
   ],
   "source": [
    "step = 300\n",
    "n_obs = 2000\n",
    "N_samples_for_estimation = 30\n",
    "n_trials_per_step = 5\n",
    "df, df_distance = check_concentration(lambda x: np.log(x), N_samples_for_estimation, n_obs=n_obs, d=5, sig_ep=1, sig_beta=10, step=step, n_trials_per_step=n_trials_per_step);"
   ]
  },
  {
   "cell_type": "code",
   "execution_count": 54,
   "metadata": {},
   "outputs": [
    {
     "data": {
      "text/plain": [
       "<matplotlib.axes._subplots.AxesSubplot at 0x7f6fcf96a390>"
      ]
     },
     "execution_count": 54,
     "metadata": {},
     "output_type": "execute_result"
    },
    {
     "data": {
      "image/png": "[encoded data removed]",
      "text/plain": [
       "<Figure size 432x288 with 1 Axes>"
      ]
     },
     "metadata": {
      "needs_background": "light"
     },
     "output_type": "display_data"
    }
   ],
   "source": [
    "sns.barplot(x='n', y=\"proba\", data = df)"
   ]
  },
  {
   "cell_type": "code",
   "execution_count": 55,
   "metadata": {},
   "outputs": [
    {
     "data": {
      "text/plain": [
       "<matplotlib.axes._subplots.AxesSubplot at 0x7f6fcf7c0b00>"
      ]
     },
     "execution_count": 55,
     "metadata": {},
     "output_type": "execute_result"
    },
    {
     "data": {
      "image/png": "[encoded data removed]",
      "text/plain": [
       "<Figure size 432x288 with 1 Axes>"
      ]
     },
     "metadata": {
      "needs_background": "light"
     },
     "output_type": "display_data"
    }
   ],
   "source": [
    "sns.barplot(x='n', y=\"distance\", data = df_distance)"
   ]
  },
  {
   "cell_type": "code",
   "execution_count": 57,
   "metadata": {},
   "outputs": [
    {
     "name": "stderr",
     "output_type": "stream",
     "text": [
      "WARNING:pystan:Rhat for parameter beta[1] is 1.444810272126505!\n",
      "WARNING:pystan:Rhat for parameter beta[5] is 1.1670325261921117!\n",
      "WARNING:pystan:Rhat for parameter lp__ is 1.1805353372816563!\n",
      "WARNING:pystan:Rhat above 1.1 or below 0.9 indicates that the chains very likely have not mixed\n"
     ]
    },
    {
     "name": "stdout",
     "output_type": "stream",
     "text": [
      "done 0.0 % of work\n"
     ]
    },
    {
     "name": "stderr",
     "output_type": "stream",
     "text": [
      "/Data/miniconda3/envs/modal/lib/python3.7/site-packages/ipykernel_launcher.py:29: RuntimeWarning: divide by zero encountered in double_scalars\n",
      "WARNING:pystan:Rhat for parameter beta[1] is 1.236825290858026!\n",
      "WARNING:pystan:Rhat for parameter beta[3] is 1.110253806949126!\n",
      "WARNING:pystan:Rhat for parameter beta[4] is 1.1168713825531922!\n",
      "WARNING:pystan:Rhat for parameter beta[5] is 1.116642100686485!\n",
      "WARNING:pystan:Rhat above 1.1 or below 0.9 indicates that the chains very likely have not mixed\n",
      "WARNING:pystan:Rhat for parameter lp__ is 1.3174416879477546!\n",
      "WARNING:pystan:Rhat above 1.1 or below 0.9 indicates that the chains very likely have not mixed\n",
      "WARNING:pystan:Rhat for parameter beta[1] is 1.3015440535597615!\n",
      "WARNING:pystan:Rhat for parameter beta[3] is 1.4162938286322693!\n",
      "WARNING:pystan:Rhat for parameter beta[4] is 1.3669901629903662!\n",
      "WARNING:pystan:Rhat for parameter beta[5] is 1.4202800563998257!\n",
      "WARNING:pystan:Rhat above 1.1 or below 0.9 indicates that the chains very likely have not mixed\n"
     ]
    },
    {
     "name": "stdout",
     "output_type": "stream",
     "text": [
      "done 20.0 % of work\n"
     ]
    },
    {
     "name": "stderr",
     "output_type": "stream",
     "text": [
      "WARNING:pystan:Rhat for parameter beta[1] is 1.1838456938301902!\n",
      "WARNING:pystan:Rhat for parameter beta[3] is 1.1467129775758977!\n",
      "WARNING:pystan:Rhat for parameter beta[4] is 1.2067957972682086!\n",
      "WARNING:pystan:Rhat for parameter beta[5] is 1.1660690087335162!\n",
      "WARNING:pystan:Rhat above 1.1 or below 0.9 indicates that the chains very likely have not mixed\n",
      "WARNING:pystan:Rhat for parameter beta[1] is 1.312931984368283!\n",
      "WARNING:pystan:Rhat for parameter beta[3] is 1.416046691895967!\n",
      "WARNING:pystan:Rhat for parameter beta[4] is 1.2824703036953755!\n",
      "WARNING:pystan:Rhat for parameter beta[5] is 1.367116321257571!\n",
      "WARNING:pystan:Rhat above 1.1 or below 0.9 indicates that the chains very likely have not mixed\n",
      "WARNING:pystan:Rhat for parameter beta[1] is 1.2535631676264403!\n",
      "WARNING:pystan:Rhat for parameter beta[2] is 1.128658829223298!\n",
      "WARNING:pystan:Rhat for parameter beta[3] is 1.1608325658823642!\n",
      "WARNING:pystan:Rhat for parameter beta[4] is 1.16287008931463!\n",
      "WARNING:pystan:Rhat for parameter beta[5] is 1.1584101450283262!\n",
      "WARNING:pystan:Rhat above 1.1 or below 0.9 indicates that the chains very likely have not mixed\n",
      "WARNING:pystan:Rhat for parameter beta[1] is 1.1721427170769134!\n",
      "WARNING:pystan:Rhat for parameter beta[2] is 1.2046096696296327!\n",
      "WARNING:pystan:Rhat for parameter beta[3] is 1.1614925443651252!\n",
      "WARNING:pystan:Rhat for parameter beta[4] is 1.12506055713524!\n",
      "WARNING:pystan:Rhat for parameter beta[5] is 1.2242472494866392!\n",
      "WARNING:pystan:Rhat above 1.1 or below 0.9 indicates that the chains very likely have not mixed\n",
      "WARNING:pystan:Rhat for parameter beta[2] is 1.5130095520346!\n",
      "WARNING:pystan:Rhat above 1.1 or below 0.9 indicates that the chains very likely have not mixed\n"
     ]
    },
    {
     "name": "stdout",
     "output_type": "stream",
     "text": [
      "done 40.0 % of work\n"
     ]
    },
    {
     "name": "stderr",
     "output_type": "stream",
     "text": [
      "WARNING:pystan:Rhat for parameter lp__ is 1.1941829750014603!\n",
      "WARNING:pystan:Rhat above 1.1 or below 0.9 indicates that the chains very likely have not mixed\n",
      "WARNING:pystan:Rhat for parameter lp__ is 1.3694257142737043!\n",
      "WARNING:pystan:Rhat above 1.1 or below 0.9 indicates that the chains very likely have not mixed\n",
      "WARNING:pystan:Rhat for parameter beta[1] is 1.2566926326987238!\n",
      "WARNING:pystan:Rhat for parameter beta[2] is 1.174898506515376!\n",
      "WARNING:pystan:Rhat for parameter beta[3] is 1.2936565595233531!\n",
      "WARNING:pystan:Rhat for parameter beta[4] is 1.3129975748834777!\n",
      "WARNING:pystan:Rhat for parameter beta[5] is 1.2917835174826224!\n",
      "WARNING:pystan:Rhat for parameter lp__ is 1.1556256714591158!\n",
      "WARNING:pystan:Rhat above 1.1 or below 0.9 indicates that the chains very likely have not mixed\n",
      "WARNING:pystan:Rhat for parameter beta[4] is 1.2041495679831355!\n",
      "WARNING:pystan:Rhat above 1.1 or below 0.9 indicates that the chains very likely have not mixed\n"
     ]
    },
    {
     "name": "stdout",
     "output_type": "stream",
     "text": [
      "done 60.0 % of work\n"
     ]
    },
    {
     "name": "stderr",
     "output_type": "stream",
     "text": [
      "WARNING:pystan:Rhat for parameter beta[1] is 1.1378468405488722!\n",
      "WARNING:pystan:Rhat for parameter beta[3] is 1.151785874490559!\n",
      "WARNING:pystan:Rhat for parameter beta[4] is 1.135713920290675!\n",
      "WARNING:pystan:Rhat for parameter beta[5] is 1.145735443476762!\n",
      "WARNING:pystan:Rhat above 1.1 or below 0.9 indicates that the chains very likely have not mixed\n",
      "WARNING:pystan:Rhat for parameter beta[1] is 1.2389928583556697!\n",
      "WARNING:pystan:Rhat for parameter beta[3] is 1.2979902838609276!\n",
      "WARNING:pystan:Rhat for parameter beta[4] is 1.299133745699103!\n",
      "WARNING:pystan:Rhat for parameter beta[5] is 1.2626172010372887!\n",
      "WARNING:pystan:Rhat above 1.1 or below 0.9 indicates that the chains very likely have not mixed\n",
      "WARNING:pystan:Rhat for parameter beta[4] is 1.1046816681657066!\n",
      "WARNING:pystan:Rhat above 1.1 or below 0.9 indicates that the chains very likely have not mixed\n",
      "WARNING:pystan:Rhat for parameter beta[1] is 1.6633174984917538!\n",
      "WARNING:pystan:Rhat for parameter beta[2] is 1.1564380686476423!\n",
      "WARNING:pystan:Rhat for parameter beta[3] is 1.620502125736108!\n",
      "WARNING:pystan:Rhat for parameter beta[4] is 1.6876845195813965!\n",
      "WARNING:pystan:Rhat for parameter beta[5] is 1.5698284187922003!\n",
      "WARNING:pystan:Rhat for parameter lp__ is 1.1525256111195814!\n",
      "WARNING:pystan:Rhat above 1.1 or below 0.9 indicates that the chains very likely have not mixed\n",
      "WARNING:pystan:Rhat for parameter beta[1] is 1.1372646674308315!\n",
      "WARNING:pystan:Rhat for parameter beta[3] is 1.2235388455964944!\n",
      "WARNING:pystan:Rhat for parameter beta[4] is 1.2501703883927036!\n",
      "WARNING:pystan:Rhat for parameter beta[5] is 1.2369241716044055!\n",
      "WARNING:pystan:Rhat above 1.1 or below 0.9 indicates that the chains very likely have not mixed\n"
     ]
    },
    {
     "name": "stdout",
     "output_type": "stream",
     "text": [
      "done 80.0 % of work\n"
     ]
    },
    {
     "name": "stderr",
     "output_type": "stream",
     "text": [
      "WARNING:pystan:Rhat for parameter lp__ is 1.1759034024133528!\n",
      "WARNING:pystan:Rhat above 1.1 or below 0.9 indicates that the chains very likely have not mixed\n",
      "WARNING:pystan:Rhat for parameter beta[1] is 1.1831851328471807!\n",
      "WARNING:pystan:Rhat for parameter beta[3] is 1.331889463652303!\n",
      "WARNING:pystan:Rhat for parameter beta[4] is 1.426715776956189!\n",
      "WARNING:pystan:Rhat for parameter beta[5] is 1.390651591940858!\n",
      "WARNING:pystan:Rhat for parameter lp__ is 1.2960404736428248!\n",
      "WARNING:pystan:Rhat above 1.1 or below 0.9 indicates that the chains very likely have not mixed\n",
      "WARNING:pystan:Rhat for parameter beta[1] is 1.1277749703387328!\n",
      "WARNING:pystan:Rhat for parameter beta[2] is 1.1410000977450698!\n",
      "WARNING:pystan:Rhat for parameter beta[3] is 1.134272434410263!\n",
      "WARNING:pystan:Rhat for parameter beta[4] is 1.1497665652393705!\n",
      "WARNING:pystan:Rhat for parameter beta[5] is 1.1430323837765983!\n",
      "WARNING:pystan:Rhat above 1.1 or below 0.9 indicates that the chains very likely have not mixed\n"
     ]
    }
   ],
   "source": [
    "step = 300\n",
    "n_obs = 2000\n",
    "N_samples_for_estimation = 30\n",
    "n_trials_per_step = 5\n",
    "df, df_distance = check_concentration(lambda x: np.sqrt(x), N_samples_for_estimation, n_obs=n_obs, d=5, sig_ep=1, sig_beta=10, step=step, n_trials_per_step=n_trials_per_step);"
   ]
  },
  {
   "cell_type": "code",
   "execution_count": null,
   "metadata": {},
   "outputs": [],
   "source": [
    "def compare_to_speed(res_of_fit, speed):\n",
    "    df_proba = pd.DataFrame(columns=[\"n\", \"proba\"])\n",
    "    df_proba[\"n\"] = df_distance[\"n\"]\n",
    "    \n",
    "    distance = df_distance[\"distance\"]\n",
    "    aux = [distance[i] < 1 / speed(i) for i in range(len(distance))]\n",
    "    for trial in range(n_trials):\n",
    "        for i in range(1, n_obs, step):\n",
    "            distances = res_of\n",
    "            aux = [distance[i] < 1 / speed(i) for i in range(len(distance))]\n",
    "            proba = sum(aux) / len(distances)\n",
    "            new_df = pd.DataFrame([[i, proba]],columns=['n', 'proba'])\n",
    "            df_proba = pd.concat([df_proba, new_df])\n",
    "            \n",
    "    sns.barplot(x=\"n\", y=\"proba\", data=df_proba)\n",
    "            \n",
    "    "
   ]
  },
  {
   "cell_type": "code",
   "execution_count": 8,
   "metadata": {},
   "outputs": [],
   "source": [
    "#real sampling\n",
    "n_iter = 1000\n",
    "n_chains = 1\n",
    "warmup = 0\n",
    "control = dict(metric=\"unit_e\", stepsize=step_sizes,adapt_engaged=0)"
   ]
  },
  {
   "cell_type": "code",
   "execution_count": 9,
   "metadata": {},
   "outputs": [],
   "source": [
    "def theta_0_fun(): return {'theta' : np.random.randn(d), 'beta' :\n",
    "np.random.randn()}\n",
    "fit1 = sm.sampling(data = data_stan_log_reg, algorithm = \"NUTS\", control\n",
    "= control, warmup = warmup ,iter=n_iter,  chains= n_chains, init =\n",
    "theta_0_fun)"
   ]
  },
  {
   "cell_type": "code",
   "execution_count": 10,
   "metadata": {},
   "outputs": [
    {
     "name": "stdout",
     "output_type": "stream",
     "text": [
      "0.5556058059789319\n"
     ]
    }
   ],
   "source": [
    "step_sizes =  fit1.get_sampler_params()[0]['stepsize__'][-1]\n",
    "print(step_sizes)"
   ]
  },
  {
   "cell_type": "code",
   "execution_count": 8,
   "metadata": {},
   "outputs": [],
   "source": [
    "## return an array of three dimensions: iterations, chains, parameters\n",
    "a = fit1.extract(permuted=False)\n",
    "a=a[:,:,:d]\n",
    "n_iter_eff = n_iter - warmup\n",
    "\n",
    "# save chain with two dimensions : iterations, chains x parameters\n",
    "a = a.reshape((n_iter_eff,n_chains*d))\n",
    "#MODIFIED np.savetxt('samples_nuts/log_reg.txt',a)\n",
    "#a = np.loadtxt('samples_nuts/gaussian.txt')\n",
    "\n",
    "# get number of evaluation of the gradient\n",
    "eval_gradient = np.zeros([n_chains,n_iter])\n",
    "iter_i = 0\n",
    "sampler_params = fit1.get_sampler_params()\n",
    "for i in sampler_params:\n",
    "     eval_gradient[iter_i,:] = i['n_leapfrog__']\n",
    "     iter_i = iter_i+1\n",
    "#MODIFIED np.savetxt('samples_nuts/eval_gradient_log_reg.txt',eval_gradient)\n",
    "\n",
    "#Compute ess\n",
    "a = a.reshape((n_iter_eff,n_chains,d))\n",
    "#ess.generate_neff(a)"
   ]
  },
  {
   "cell_type": "code",
   "execution_count": 9,
   "metadata": {},
   "outputs": [
    {
     "data": {
      "text/plain": [
       "array([[[-0.59667568, -0.45445424, -0.54495224,  1.08711973]],\n",
       "\n",
       "       [[ 1.51374522,  1.58562497,  0.5624768 , -0.36489122]],\n",
       "\n",
       "       [[ 0.64938825,  0.44276045,  0.13774222,  0.11696965]],\n",
       "\n",
       "       [[ 0.40123331,  2.28049835,  0.04203849, -0.96491301]],\n",
       "\n",
       "       [[ 0.60105795,  2.31538613,  0.08847465, -0.63752821]],\n",
       "\n",
       "       [[ 0.15277873,  0.49721942, -0.53919032,  0.10697472]],\n",
       "\n",
       "       [[ 0.15277873,  0.49721942, -0.53919032,  0.10697472]],\n",
       "\n",
       "       [[ 0.66867792,  0.48883167, -0.55864853, -0.34765757]],\n",
       "\n",
       "       [[ 0.00790011,  0.54962286,  0.54378569,  0.61816129]],\n",
       "\n",
       "       [[ 0.69901944, -0.58167447, -1.05809154,  0.75674925]]])"
      ]
     },
     "execution_count": 9,
     "metadata": {},
     "output_type": "execute_result"
    }
   ],
   "source": [
    "a"
   ]
  },
  {
   "cell_type": "code",
   "execution_count": null,
   "metadata": {},
   "outputs": [],
   "source": []
  }
 ],
 "metadata": {
  "kernelspec": {
   "display_name": "Python 3",
   "language": "python",
   "name": "python3"
  },
  "language_info": {
   "codemirror_mode": {
    "name": "ipython",
    "version": 3
   },
   "file_extension": ".py",
   "mimetype": "text/x-python",
   "name": "python",
   "nbconvert_exporter": "python",
   "pygments_lexer": "ipython3",
   "version": "3.7.0"
  }
 },
 "nbformat": 4,
 "nbformat_minor": 2
}
